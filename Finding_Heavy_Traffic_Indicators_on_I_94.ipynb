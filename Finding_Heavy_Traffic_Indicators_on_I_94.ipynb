{
  "cells": [
    {
      "cell_type": "markdown",
      "metadata": {
        "id": "view-in-github",
        "colab_type": "text"
      },
      "source": [
        "<a href=\"https://colab.research.google.com/github/KacperKaszuba0608/Projects/blob/main/Finding_Heavy_Traffic_Indicators_on_I_94.ipynb\" target=\"_parent\"><img src=\"https://colab.research.google.com/assets/colab-badge.svg\" alt=\"Open In Colab\"/></a>"
      ]
    },
    {
      "cell_type": "markdown",
      "metadata": {
        "id": "ePqaZMBAngHQ"
      },
      "source": [
        "<center> <img src=\"https://upload.wikimedia.org/wikipedia/commons/thumb/f/f3/I-94.svg/105px-I-94.svg.png\" alt=\"Here should be a image :o\" /> </center>"
      ]
    },
    {
      "cell_type": "markdown",
      "metadata": {
        "id": "kWY_IUclngHR"
      },
      "source": [
        "# <center> Finding Heavy Traffic Indicators on I-94 </center>"
      ]
    },
    {
      "cell_type": "markdown",
      "metadata": {
        "id": "F-4eCvJsngHR"
      },
      "source": [
        "In this project we explore dataset about hourly Interstate 94 Westbound traffic volume between Minneapolis and St Paul. We tried to find heavy traffic indicators on this road. \n",
        "\n",
        "The Interstate 94 (I-94) is an east–west Interstate Highway connecting the Great Lakes and northern Great Plains regions of the United States ([source: en.wikipedia.org](https://en.wikipedia.org/wiki/Interstate_94)). \n",
        "\n",
        "You can download the dataset from **UCI Machine Learning Repository** [at this link](https://archive.ics.uci.edu/ml/machine-learning-databases/00492/). Below is description of columns in above dataset. The columns has names:\n",
        "\n",
        "* `holiday` - categorical US National holidays plus regional holiday, Minnesota State Fair\n",
        "* `temp` - numeric average temp in kelvin\n",
        "* `rain_1h` - numeric amount in mm of rain that occurred in the hour\n",
        "* `snow_1h` - numeric amount in mm of snow that occurred in the hour\n",
        "* `clouds_all` - numeric percentage of cloud cover\n",
        "* `weather_main` - categorical short textual description of the current weather\n",
        "* `weather_description` - vategorical longer textual description of the current weather\n",
        "* `date_time` - dateTime hour of the data collected in local CST time\n",
        "* `traffic_volume` - numeric hourly I-94 ATR 301 reported westbound traffic volume"
      ]
    },
    {
      "cell_type": "markdown",
      "metadata": {
        "id": "7w-J3sqbngHS"
      },
      "source": [
        "## Importing libraries and reading in the data"
      ]
    },
    {
      "cell_type": "code",
      "execution_count": 2,
      "metadata": {
        "colab": {
          "base_uri": "https://localhost:8080/",
          "height": 206
        },
        "id": "gfRZd0AQngHS",
        "outputId": "ddcd7cc8-dd75-4831-8093-51ae4565d8aa"
      },
      "outputs": [
        {
          "output_type": "execute_result",
          "data": {
            "text/plain": [
              "  holiday    temp  rain_1h  snow_1h  clouds_all weather_main  \\\n",
              "0    None  288.28      0.0      0.0          40       Clouds   \n",
              "1    None  289.36      0.0      0.0          75       Clouds   \n",
              "2    None  289.58      0.0      0.0          90       Clouds   \n",
              "3    None  290.13      0.0      0.0          90       Clouds   \n",
              "4    None  291.14      0.0      0.0          75       Clouds   \n",
              "\n",
              "  weather_description            date_time  traffic_volume  \n",
              "0    scattered clouds  2012-10-02 09:00:00            5545  \n",
              "1       broken clouds  2012-10-02 10:00:00            4516  \n",
              "2     overcast clouds  2012-10-02 11:00:00            4767  \n",
              "3     overcast clouds  2012-10-02 12:00:00            5026  \n",
              "4       broken clouds  2012-10-02 13:00:00            4918  "
            ],
            "text/html": [
              "\n",
              "  <div id=\"df-5467a094-bfdf-4cec-aa1f-64a0072513c8\">\n",
              "    <div class=\"colab-df-container\">\n",
              "      <div>\n",
              "<style scoped>\n",
              "    .dataframe tbody tr th:only-of-type {\n",
              "        vertical-align: middle;\n",
              "    }\n",
              "\n",
              "    .dataframe tbody tr th {\n",
              "        vertical-align: top;\n",
              "    }\n",
              "\n",
              "    .dataframe thead th {\n",
              "        text-align: right;\n",
              "    }\n",
              "</style>\n",
              "<table border=\"1\" class=\"dataframe\">\n",
              "  <thead>\n",
              "    <tr style=\"text-align: right;\">\n",
              "      <th></th>\n",
              "      <th>holiday</th>\n",
              "      <th>temp</th>\n",
              "      <th>rain_1h</th>\n",
              "      <th>snow_1h</th>\n",
              "      <th>clouds_all</th>\n",
              "      <th>weather_main</th>\n",
              "      <th>weather_description</th>\n",
              "      <th>date_time</th>\n",
              "      <th>traffic_volume</th>\n",
              "    </tr>\n",
              "  </thead>\n",
              "  <tbody>\n",
              "    <tr>\n",
              "      <th>0</th>\n",
              "      <td>None</td>\n",
              "      <td>288.28</td>\n",
              "      <td>0.0</td>\n",
              "      <td>0.0</td>\n",
              "      <td>40</td>\n",
              "      <td>Clouds</td>\n",
              "      <td>scattered clouds</td>\n",
              "      <td>2012-10-02 09:00:00</td>\n",
              "      <td>5545</td>\n",
              "    </tr>\n",
              "    <tr>\n",
              "      <th>1</th>\n",
              "      <td>None</td>\n",
              "      <td>289.36</td>\n",
              "      <td>0.0</td>\n",
              "      <td>0.0</td>\n",
              "      <td>75</td>\n",
              "      <td>Clouds</td>\n",
              "      <td>broken clouds</td>\n",
              "      <td>2012-10-02 10:00:00</td>\n",
              "      <td>4516</td>\n",
              "    </tr>\n",
              "    <tr>\n",
              "      <th>2</th>\n",
              "      <td>None</td>\n",
              "      <td>289.58</td>\n",
              "      <td>0.0</td>\n",
              "      <td>0.0</td>\n",
              "      <td>90</td>\n",
              "      <td>Clouds</td>\n",
              "      <td>overcast clouds</td>\n",
              "      <td>2012-10-02 11:00:00</td>\n",
              "      <td>4767</td>\n",
              "    </tr>\n",
              "    <tr>\n",
              "      <th>3</th>\n",
              "      <td>None</td>\n",
              "      <td>290.13</td>\n",
              "      <td>0.0</td>\n",
              "      <td>0.0</td>\n",
              "      <td>90</td>\n",
              "      <td>Clouds</td>\n",
              "      <td>overcast clouds</td>\n",
              "      <td>2012-10-02 12:00:00</td>\n",
              "      <td>5026</td>\n",
              "    </tr>\n",
              "    <tr>\n",
              "      <th>4</th>\n",
              "      <td>None</td>\n",
              "      <td>291.14</td>\n",
              "      <td>0.0</td>\n",
              "      <td>0.0</td>\n",
              "      <td>75</td>\n",
              "      <td>Clouds</td>\n",
              "      <td>broken clouds</td>\n",
              "      <td>2012-10-02 13:00:00</td>\n",
              "      <td>4918</td>\n",
              "    </tr>\n",
              "  </tbody>\n",
              "</table>\n",
              "</div>\n",
              "      <button class=\"colab-df-convert\" onclick=\"convertToInteractive('df-5467a094-bfdf-4cec-aa1f-64a0072513c8')\"\n",
              "              title=\"Convert this dataframe to an interactive table.\"\n",
              "              style=\"display:none;\">\n",
              "        \n",
              "  <svg xmlns=\"http://www.w3.org/2000/svg\" height=\"24px\"viewBox=\"0 0 24 24\"\n",
              "       width=\"24px\">\n",
              "    <path d=\"M0 0h24v24H0V0z\" fill=\"none\"/>\n",
              "    <path d=\"M18.56 5.44l.94 2.06.94-2.06 2.06-.94-2.06-.94-.94-2.06-.94 2.06-2.06.94zm-11 1L8.5 8.5l.94-2.06 2.06-.94-2.06-.94L8.5 2.5l-.94 2.06-2.06.94zm10 10l.94 2.06.94-2.06 2.06-.94-2.06-.94-.94-2.06-.94 2.06-2.06.94z\"/><path d=\"M17.41 7.96l-1.37-1.37c-.4-.4-.92-.59-1.43-.59-.52 0-1.04.2-1.43.59L10.3 9.45l-7.72 7.72c-.78.78-.78 2.05 0 2.83L4 21.41c.39.39.9.59 1.41.59.51 0 1.02-.2 1.41-.59l7.78-7.78 2.81-2.81c.8-.78.8-2.07 0-2.86zM5.41 20L4 18.59l7.72-7.72 1.47 1.35L5.41 20z\"/>\n",
              "  </svg>\n",
              "      </button>\n",
              "      \n",
              "  <style>\n",
              "    .colab-df-container {\n",
              "      display:flex;\n",
              "      flex-wrap:wrap;\n",
              "      gap: 12px;\n",
              "    }\n",
              "\n",
              "    .colab-df-convert {\n",
              "      background-color: #E8F0FE;\n",
              "      border: none;\n",
              "      border-radius: 50%;\n",
              "      cursor: pointer;\n",
              "      display: none;\n",
              "      fill: #1967D2;\n",
              "      height: 32px;\n",
              "      padding: 0 0 0 0;\n",
              "      width: 32px;\n",
              "    }\n",
              "\n",
              "    .colab-df-convert:hover {\n",
              "      background-color: #E2EBFA;\n",
              "      box-shadow: 0px 1px 2px rgba(60, 64, 67, 0.3), 0px 1px 3px 1px rgba(60, 64, 67, 0.15);\n",
              "      fill: #174EA6;\n",
              "    }\n",
              "\n",
              "    [theme=dark] .colab-df-convert {\n",
              "      background-color: #3B4455;\n",
              "      fill: #D2E3FC;\n",
              "    }\n",
              "\n",
              "    [theme=dark] .colab-df-convert:hover {\n",
              "      background-color: #434B5C;\n",
              "      box-shadow: 0px 1px 3px 1px rgba(0, 0, 0, 0.15);\n",
              "      filter: drop-shadow(0px 1px 2px rgba(0, 0, 0, 0.3));\n",
              "      fill: #FFFFFF;\n",
              "    }\n",
              "  </style>\n",
              "\n",
              "      <script>\n",
              "        const buttonEl =\n",
              "          document.querySelector('#df-5467a094-bfdf-4cec-aa1f-64a0072513c8 button.colab-df-convert');\n",
              "        buttonEl.style.display =\n",
              "          google.colab.kernel.accessAllowed ? 'block' : 'none';\n",
              "\n",
              "        async function convertToInteractive(key) {\n",
              "          const element = document.querySelector('#df-5467a094-bfdf-4cec-aa1f-64a0072513c8');\n",
              "          const dataTable =\n",
              "            await google.colab.kernel.invokeFunction('convertToInteractive',\n",
              "                                                     [key], {});\n",
              "          if (!dataTable) return;\n",
              "\n",
              "          const docLinkHtml = 'Like what you see? Visit the ' +\n",
              "            '<a target=\"_blank\" href=https://colab.research.google.com/notebooks/data_table.ipynb>data table notebook</a>'\n",
              "            + ' to learn more about interactive tables.';\n",
              "          element.innerHTML = '';\n",
              "          dataTable['output_type'] = 'display_data';\n",
              "          await google.colab.output.renderOutput(dataTable, element);\n",
              "          const docLink = document.createElement('div');\n",
              "          docLink.innerHTML = docLinkHtml;\n",
              "          element.appendChild(docLink);\n",
              "        }\n",
              "      </script>\n",
              "    </div>\n",
              "  </div>\n",
              "  "
            ]
          },
          "metadata": {},
          "execution_count": 2
        }
      ],
      "source": [
        "import pandas as pd\n",
        "import matplotlib.pyplot as plt\n",
        "%matplotlib inline\n",
        "\n",
        "# Reading in the data\n",
        "data = pd.read_csv('https://github.com/KacperKaszuba0608/Datasets/raw/main/Metro_Interstate_Traffic_Volume.csv')\n",
        "\n",
        "# Showing some rows\n",
        "data.head()"
      ]
    },
    {
      "cell_type": "markdown",
      "metadata": {
        "id": "9G02jT5QngHT"
      },
      "source": [
        "## Some informations about dataset"
      ]
    },
    {
      "cell_type": "code",
      "execution_count": 3,
      "metadata": {
        "scrolled": true,
        "colab": {
          "base_uri": "https://localhost:8080/"
        },
        "id": "hLA9AcEungHU",
        "outputId": "1b39d59f-6998-4482-fced-84b08a337b09"
      },
      "outputs": [
        {
          "output_type": "stream",
          "name": "stdout",
          "text": [
            "<class 'pandas.core.frame.DataFrame'>\n",
            "RangeIndex: 48204 entries, 0 to 48203\n",
            "Data columns (total 9 columns):\n",
            " #   Column               Non-Null Count  Dtype  \n",
            "---  ------               --------------  -----  \n",
            " 0   holiday              48204 non-null  object \n",
            " 1   temp                 48204 non-null  float64\n",
            " 2   rain_1h              48204 non-null  float64\n",
            " 3   snow_1h              48204 non-null  float64\n",
            " 4   clouds_all           48204 non-null  int64  \n",
            " 5   weather_main         48204 non-null  object \n",
            " 6   weather_description  48204 non-null  object \n",
            " 7   date_time            48204 non-null  object \n",
            " 8   traffic_volume       48204 non-null  int64  \n",
            "dtypes: float64(3), int64(2), object(4)\n",
            "memory usage: 3.3+ MB\n"
          ]
        }
      ],
      "source": [
        "data.info()"
      ]
    },
    {
      "cell_type": "markdown",
      "metadata": {
        "id": "FE4YOZ4kngHU"
      },
      "source": [
        "## Exploring column `traffic volume`"
      ]
    },
    {
      "cell_type": "code",
      "execution_count": 4,
      "metadata": {
        "colab": {
          "base_uri": "https://localhost:8080/",
          "height": 295
        },
        "id": "wgN5jXp8ngHU",
        "outputId": "98c4e003-34ef-491d-e465-f354c794bcc4"
      },
      "outputs": [
        {
          "output_type": "display_data",
          "data": {
            "text/plain": [
              "<Figure size 432x288 with 1 Axes>"
            ],
            "image/png": "[encoded data removed]"
          },
          "metadata": {
            "needs_background": "light"
          }
        }
      ],
      "source": [
        "# Creating histogram of traffic_volume\n",
        "data['traffic_volume'].plot.hist()\n",
        "plt.title('Distribution of column \"traffic volume\"')\n",
        "plt.xlabel('Traffic volume')\n",
        "plt.show()"
      ]
    },
    {
      "cell_type": "code",
      "execution_count": 5,
      "metadata": {
        "colab": {
          "base_uri": "https://localhost:8080/"
        },
        "id": "f6a7QmyVngHU",
        "outputId": "9ba99fba-a907-401a-a2fb-c105a6ae1784"
      },
      "outputs": [
        {
          "output_type": "execute_result",
          "data": {
            "text/plain": [
              "count    48204.000000\n",
              "mean      3259.818355\n",
              "std       1986.860670\n",
              "min          0.000000\n",
              "25%       1193.000000\n",
              "50%       3380.000000\n",
              "75%       4933.000000\n",
              "max       7280.000000\n",
              "Name: traffic_volume, dtype: float64"
            ]
          },
          "metadata": {},
          "execution_count": 5
        }
      ],
      "source": [
        "# Showing basic statistics\n",
        "data['traffic_volume'].describe()"
      ]
    },
    {
      "cell_type": "markdown",
      "metadata": {
        "id": "paUvcTx8ngHV"
      },
      "source": [
        "The distribution doesn't look like normal distribution. It has 2 bars which have the most frequency (8000):\n",
        "1. Bar between $0$ and $\\approx750$.\n",
        "2. Bar between $4500$ and $5000$.\n",
        "\n",
        "The chart doesn't show left or right-handed, so it's hard to define distribution. It is presumed that influence on this shape of chart could have values for day and night.\n",
        "\n",
        "Moreover average of traffic volume equals 3259.82 and the minimum and maximum values equals 0 and 7280. We can also say that 50% of traffic volume is less than 3380 cars and 50% of traffic volume is greater than 3380 cars. Only 1193 cars or less were in 25% of the time and 4933 cars or more were in 75% of the time. It's 4 times more than in 25% of the time, but it's probably split our dataset on dat and night."
      ]
    },
    {
      "cell_type": "markdown",
      "metadata": {
        "id": "NyDY583FngHV"
      },
      "source": [
        "## Day traffic vs. nigth traffic\n",
        "\n",
        "In this point of project we split data on two sets. First is about daytime traffic volume and second is about nightime traffic volume. We had started with change type of date_time column from object to datetime type and then we isolated daytime data and nighttime data with function `dt.hour`. Our patern which helped us was:\n",
        "\n",
        "* day was from 7 a.m. (inclusive) to 7 p.m.\n",
        "* night was from 7.p.m (inclusive) to 7 a.m."
      ]
    },
    {
      "cell_type": "code",
      "execution_count": 6,
      "metadata": {
        "id": "A8_MiW36ngHV"
      },
      "outputs": [],
      "source": [
        "# Changing types of column to datetime type\n",
        "data['date_time'] = pd.to_datetime(data['date_time'])\n",
        "\n",
        "# Droping datas under 7 hour and over 19 hour\n",
        "daytime = data[(data['date_time'].dt.hour >= 7) &\n",
        "                 (data['date_time'].dt.hour < 19)]\n",
        "\n",
        "# Droping datas over 7 hour and under 19 hour\n",
        "nighttime = data[(data['date_time'].dt.hour >= 19) | \n",
        "                 (data['date_time'].dt.hour < 7)]"
      ]
    },
    {
      "cell_type": "code",
      "execution_count": 7,
      "metadata": {
        "scrolled": true,
        "colab": {
          "base_uri": "https://localhost:8080/",
          "height": 295
        },
        "id": "rHFYi0fnngHV",
        "outputId": "ef71fd0a-e192-4121-d7d0-296da8a44f0e"
      },
      "outputs": [
        {
          "output_type": "display_data",
          "data": {
            "text/plain": [
              "<Figure size 864x288 with 2 Axes>"
            ],
            "image/png": "[encoded data removed]"
          },
          "metadata": {
            "needs_background": "light"
          }
        }
      ],
      "source": [
        "# Creating grid of day histogram and night histogram\n",
        "\n",
        "plt.figure(figsize = (12, 4))\n",
        "plt.subplot(1, 2, 1)\n",
        "daytime['traffic_volume'].plot.hist(bins = 10)\n",
        "plt.title('Daytime traffic')\n",
        "plt.xlabel('Traffic Volume')\n",
        "plt.ylabel('Cars')\n",
        "plt.ylim(0, 8000)\n",
        "plt.xlim(-100, 7500)\n",
        "\n",
        "plt.subplot(1, 2, 2)\n",
        "nighttime['traffic_volume'].plot.hist(bins = 10)\n",
        "plt.title('Nighttime traffic')\n",
        "plt.xlabel('Traffic Volume')\n",
        "plt.ylabel('Cars')\n",
        "plt.ylim(0, 8000)\n",
        "plt.xlim(-100, 7500)\n",
        "\n",
        "plt.show()"
      ]
    },
    {
      "cell_type": "code",
      "execution_count": 8,
      "metadata": {
        "colab": {
          "base_uri": "https://localhost:8080/"
        },
        "id": "QTfwQvSKngHW",
        "outputId": "50bebb95-8738-49f9-faf6-6ea54dc97c54"
      },
      "outputs": [
        {
          "output_type": "execute_result",
          "data": {
            "text/plain": [
              "count    23877.000000\n",
              "mean      4762.047452\n",
              "std       1174.546482\n",
              "min          0.000000\n",
              "25%       4252.000000\n",
              "50%       4820.000000\n",
              "75%       5559.000000\n",
              "max       7280.000000\n",
              "Name: traffic_volume, dtype: float64"
            ]
          },
          "metadata": {},
          "execution_count": 8
        }
      ],
      "source": [
        "# Showing basic statistics about traffic volume at day\n",
        "daytime['traffic_volume'].describe()"
      ]
    },
    {
      "cell_type": "code",
      "execution_count": 9,
      "metadata": {
        "colab": {
          "base_uri": "https://localhost:8080/"
        },
        "id": "f5OYkTjyngHW",
        "outputId": "100e957a-2a3e-49da-82a3-fcf77d96a4d7"
      },
      "outputs": [
        {
          "output_type": "execute_result",
          "data": {
            "text/plain": [
              "count    24327.000000\n",
              "mean      1785.377441\n",
              "std       1441.951197\n",
              "min          0.000000\n",
              "25%        530.000000\n",
              "50%       1287.000000\n",
              "75%       2819.000000\n",
              "max       6386.000000\n",
              "Name: traffic_volume, dtype: float64"
            ]
          },
          "metadata": {},
          "execution_count": 9
        }
      ],
      "source": [
        "# Showing basic statistics about traffic volume at night\n",
        "nighttime['traffic_volume'].describe()"
      ]
    },
    {
      "cell_type": "markdown",
      "metadata": {
        "id": "69oFSbRfngHW"
      },
      "source": [
        "As we see above, daytime histogram has left-handed shape which indicates that during the day traffic volume grow. Nighttime histogram has right-handed shape what means that during night traffic volume is very small. When we saw some statistics about both datasets we clearly see that 75% rows in nighttime data is small than 2819 cars. It could testify that we shouldn't using the nighttime data because they don't have influence on analysis and may interfere with it.\n",
        "\n",
        "The average and median of daytime data are very similar what means that this data will be more usefull to find heavy traffic indicators. That's why now we focus on days, months and hours to find more detailed information and draw concrete conclusions."
      ]
    },
    {
      "cell_type": "markdown",
      "metadata": {
        "id": "Zc0t8YuCngHW"
      },
      "source": [
        "## Time indicators for the daytime data"
      ]
    },
    {
      "cell_type": "code",
      "execution_count": 10,
      "metadata": {
        "colab": {
          "base_uri": "https://localhost:8080/"
        },
        "id": "bJkEU6rvngHW",
        "outputId": "14c10b58-1101-4ffc-9dd0-beeef19f1bed"
      },
      "outputs": [
        {
          "output_type": "stream",
          "name": "stderr",
          "text": [
            "<ipython-input-10-287488bf9b33>:2: SettingWithCopyWarning: \n",
            "A value is trying to be set on a copy of a slice from a DataFrame.\n",
            "Try using .loc[row_indexer,col_indexer] = value instead\n",
            "\n",
            "See the caveats in the documentation: https://pandas.pydata.org/pandas-docs/stable/user_guide/indexing.html#returning-a-view-versus-a-copy\n",
            "  daytime['month'] = daytime['date_time'].dt.month\n"
          ]
        }
      ],
      "source": [
        "# Creating a new column with month value\n",
        "daytime['month'] = daytime['date_time'].dt.month\n",
        "\n",
        "# Creating a new dataframe (DF) with averages grouping by month \n",
        "by_month = daytime.groupby('month').mean()"
      ]
    },
    {
      "cell_type": "code",
      "execution_count": 11,
      "metadata": {
        "colab": {
          "base_uri": "https://localhost:8080/",
          "height": 295
        },
        "id": "YGVa3PuOngHX",
        "outputId": "2b94a570-7cbe-4f61-a1e5-de987d0becf6"
      },
      "outputs": [
        {
          "output_type": "display_data",
          "data": {
            "text/plain": [
              "<Figure size 432x288 with 1 Axes>"
            ],
            "image/png": "[encoded data removed]"
          },
          "metadata": {
            "needs_background": "light"
          }
        }
      ],
      "source": [
        "# Creating a plot line for months\n",
        "by_month['traffic_volume'].plot.line()\n",
        "plt.xlabel('Month')\n",
        "plt.ylabel('Average of traffic volume')\n",
        "plt.title('Monthly traffic volume averages')\n",
        "plt.show()"
      ]
    },
    {
      "cell_type": "markdown",
      "metadata": {
        "id": "KRrHT9cNngHX"
      },
      "source": [
        "We can see on the line plot very interesting exception. Namely is noticeable that the traffic volume fall during the holidays. What could mean that the Interstate 94 road is more use during whole year except holiday months which are: 1 (January), 2(February), 7 (July) and 12 (December). So we can say:\n",
        "1. Less traffic volume is at cold month (November - February)\n",
        "2. Higer traffic volume is at warm months (March - October) except July"
      ]
    },
    {
      "cell_type": "code",
      "execution_count": 12,
      "metadata": {
        "colab": {
          "base_uri": "https://localhost:8080/"
        },
        "id": "MekA5SNYngHX",
        "outputId": "4a27d94a-9ab4-4cac-fe4b-9ca67cc0e43e"
      },
      "outputs": [
        {
          "output_type": "stream",
          "name": "stderr",
          "text": [
            "<ipython-input-12-231bd4143846>:2: SettingWithCopyWarning: \n",
            "A value is trying to be set on a copy of a slice from a DataFrame.\n",
            "Try using .loc[row_indexer,col_indexer] = value instead\n",
            "\n",
            "See the caveats in the documentation: https://pandas.pydata.org/pandas-docs/stable/user_guide/indexing.html#returning-a-view-versus-a-copy\n",
            "  daytime['week_day'] = daytime['date_time'].dt.dayofweek\n"
          ]
        }
      ],
      "source": [
        "# Creating a new column with day of week value; 0 - Monday, 6 - Sunday\n",
        "daytime['week_day'] = daytime['date_time'].dt.dayofweek\n",
        "\n",
        "# Creating a new DF with averages grouping by day of week\n",
        "by_week_day = daytime.groupby('week_day').mean()"
      ]
    },
    {
      "cell_type": "code",
      "execution_count": 13,
      "metadata": {
        "colab": {
          "base_uri": "https://localhost:8080/",
          "height": 295
        },
        "id": "bT5kBaCnngHX",
        "outputId": "ad163cd6-abea-40f8-faa9-f8f2daa8c253"
      },
      "outputs": [
        {
          "output_type": "display_data",
          "data": {
            "text/plain": [
              "<Figure size 432x288 with 1 Axes>"
            ],
            "image/png": "[encoded data removed]"
          },
          "metadata": {
            "needs_background": "light"
          }
        }
      ],
      "source": [
        "# Creating a line chart for days of week\n",
        "by_week_day['traffic_volume'].plot.line()\n",
        "plt.title('Traffic volume by day of week')\n",
        "plt.xlabel('Number of day of week')\n",
        "plt.ylabel('Average of traffic volume')\n",
        "plt.show()"
      ]
    },
    {
      "cell_type": "code",
      "execution_count": 14,
      "metadata": {
        "colab": {
          "base_uri": "https://localhost:8080/"
        },
        "id": "NP9mhjjMngHX",
        "outputId": "a6378b5a-158d-4c92-8ce3-6b3f0577f200"
      },
      "outputs": [
        {
          "output_type": "execute_result",
          "data": {
            "text/plain": [
              "count       7.000000\n",
              "mean     4761.958037\n",
              "std       764.684759\n",
              "min      3436.541789\n",
              "25%      4410.400422\n",
              "50%      5189.004782\n",
              "75%      5288.027555\n",
              "max      5311.303730\n",
              "Name: traffic_volume, dtype: float64"
            ]
          },
          "metadata": {},
          "execution_count": 14
        }
      ],
      "source": [
        "# Showing basic statistics\n",
        "by_week_day['traffic_volume'].describe()"
      ]
    },
    {
      "cell_type": "markdown",
      "metadata": {
        "id": "jK5iDMnfngHX"
      },
      "source": [
        "On line plot we see a clear difference between business days and the weekend. The number of cars drop approximetly 1.5 times. What means that traffic volume at the weekend is samller than at other days.\n",
        "\n",
        "We want to see that change between business days and the weekend. Below, we split daytime data on two data frames and visualize means of traffic volume by hour at bussiness day and at the weekend."
      ]
    },
    {
      "cell_type": "code",
      "execution_count": 15,
      "metadata": {
        "colab": {
          "base_uri": "https://localhost:8080/"
        },
        "id": "jIb2OouQngHY",
        "outputId": "24e1c496-74d8-4882-d53a-e09d639b946b"
      },
      "outputs": [
        {
          "output_type": "stream",
          "name": "stderr",
          "text": [
            "<ipython-input-15-368209ac8dda>:2: SettingWithCopyWarning: \n",
            "A value is trying to be set on a copy of a slice from a DataFrame.\n",
            "Try using .loc[row_indexer,col_indexer] = value instead\n",
            "\n",
            "See the caveats in the documentation: https://pandas.pydata.org/pandas-docs/stable/user_guide/indexing.html#returning-a-view-versus-a-copy\n",
            "  daytime['hour'] = daytime['date_time'].dt.hour\n"
          ]
        }
      ],
      "source": [
        "# Creating a new column with hour value\n",
        "daytime['hour'] = daytime['date_time'].dt.hour\n",
        "\n",
        "#Choosing work days\n",
        "normal_days = daytime[daytime['week_day'] <= 4]\n",
        "\n",
        "#Choosing weekend days\n",
        "weekend = daytime[daytime['week_day'] > 4]\n",
        "\n",
        "#Creating new DF basics on work days and weekend days with averages\n",
        "by_hour_normal = normal_days.groupby('hour').mean()\n",
        "by_hour_weekend = weekend.groupby('hour').mean()"
      ]
    },
    {
      "cell_type": "code",
      "execution_count": 16,
      "metadata": {
        "colab": {
          "base_uri": "https://localhost:8080/",
          "height": 295
        },
        "id": "VLwCMFhVngHY",
        "outputId": "d1e9023f-2c9a-4e9d-8228-7ac39f1db801"
      },
      "outputs": [
        {
          "output_type": "display_data",
          "data": {
            "text/plain": [
              "<Figure size 864x288 with 2 Axes>"
            ],
            "image/png": "[encoded data removed]"
          },
          "metadata": {
            "needs_background": "light"
          }
        }
      ],
      "source": [
        "# Creating a grid for line plots\n",
        "plt.figure(figsize = (12, 4))\n",
        "\n",
        "# Creating first line plot for work days\n",
        "plt.subplot(1, 2, 1)\n",
        "by_hour_normal['traffic_volume'].plot.line()\n",
        "plt.title('Frequency of traffic volume at business day by hour')\n",
        "plt.xlabel('Hour')\n",
        "plt.ylim(1000, 6500)\n",
        "plt.ylabel('Average of traffic volume')\n",
        "\n",
        "# Creating second line plot for the weekend\n",
        "plt.subplot(1, 2, 2)\n",
        "by_hour_weekend['traffic_volume'].plot.line()\n",
        "plt.title('Frequency of traffic volume at the weekend by hour')\n",
        "plt.xlabel('Hour')\n",
        "plt.ylim(1000, 6500)\n",
        "plt.ylabel('Average of traffic volume')\n",
        "\n",
        "plt.show()"
      ]
    },
    {
      "cell_type": "code",
      "execution_count": 17,
      "metadata": {
        "colab": {
          "base_uri": "https://localhost:8080/"
        },
        "id": "HrViflzLngHY",
        "outputId": "e48fa162-ca41-43ab-f40b-f3cd2e3674da"
      },
      "outputs": [
        {
          "output_type": "stream",
          "name": "stdout",
          "text": [
            "Business days: \n",
            "count      12.000000\n",
            "mean     5192.498812\n",
            "std       615.622781\n",
            "min      4378.419118\n",
            "25%      4799.891475\n",
            "50%      5024.132518\n",
            "75%      5640.880110\n",
            "max      6189.473647\n",
            "Name: traffic_volume, dtype: float64\n",
            "The weekend: \n",
            "count      12.000000\n",
            "mean     3709.128440\n",
            "std       911.307344\n",
            "min      1589.365894\n",
            "25%      3542.880206\n",
            "50%      4098.037442\n",
            "75%      4346.478609\n",
            "max      4372.482883\n",
            "Name: traffic_volume, dtype: float64\n"
          ]
        }
      ],
      "source": [
        "print(f'Business days: \\n{by_hour_normal[\"traffic_volume\"].describe()}') \n",
        "print(f'The weekend: \\n{by_hour_weekend[\"traffic_volume\"].describe()}')"
      ]
    },
    {
      "cell_type": "markdown",
      "metadata": {
        "id": "8SS_oUvnngHY"
      },
      "source": [
        "Analysing the charts we can say that:\n",
        "* at business days traffic volume increase at morning and at evening;\n",
        "* at the weekend traffic volume slowly rise since morining to 12:00 achieves constant value (approximetly) to 16:00 and then start to fall.\n",
        "\n",
        "The increase in traffic on working days may be caused by people going to work at morning and by the same people going back to home.\n",
        "Equally important is average of traffic volume, because for the weekend is much lower than for business days.\n",
        "\n",
        "To sumarize information about time indicators:\n",
        "1. Traffic is higier in warm months except July.\n",
        "2. Traffic is higier at business days compare to the weekend.\n",
        "3. Traffic is the most intensified at the morning and at the evening at the business days.\n",
        "4. Traffic is intesified since 7:00 to 16:00."
      ]
    },
    {
      "cell_type": "markdown",
      "metadata": {
        "id": "s6S0KNmIngHY"
      },
      "source": [
        "## Weather Indicators\n",
        "\n",
        "As we know more influnce on traffic volume has the weather. Any time if the weather will be bad the traffic volume will rise and rise. That's why we focus on the weather and try to find some indicator.\n",
        "\n",
        "At first we found the correlation values between traffic_volume and numericla weather columns."
      ]
    },
    {
      "cell_type": "code",
      "execution_count": 18,
      "metadata": {
        "colab": {
          "base_uri": "https://localhost:8080/"
        },
        "id": "fVLYgymkngHY",
        "outputId": "511c27a1-4149-4267-9393-e7931f90914f"
      },
      "outputs": [
        {
          "output_type": "stream",
          "name": "stdout",
          "text": [
            "<class 'pandas.core.frame.DataFrame'>\n",
            "RangeIndex: 48204 entries, 0 to 48203\n",
            "Data columns (total 9 columns):\n",
            " #   Column               Non-Null Count  Dtype         \n",
            "---  ------               --------------  -----         \n",
            " 0   holiday              48204 non-null  object        \n",
            " 1   temp                 48204 non-null  float64       \n",
            " 2   rain_1h              48204 non-null  float64       \n",
            " 3   snow_1h              48204 non-null  float64       \n",
            " 4   clouds_all           48204 non-null  int64         \n",
            " 5   weather_main         48204 non-null  object        \n",
            " 6   weather_description  48204 non-null  object        \n",
            " 7   date_time            48204 non-null  datetime64[ns]\n",
            " 8   traffic_volume       48204 non-null  int64         \n",
            "dtypes: datetime64[ns](1), float64(3), int64(2), object(3)\n",
            "memory usage: 3.3+ MB\n"
          ]
        }
      ],
      "source": [
        "data.info()"
      ]
    },
    {
      "cell_type": "code",
      "execution_count": 19,
      "metadata": {
        "colab": {
          "base_uri": "https://localhost:8080/"
        },
        "id": "JYh1qw1GngHZ",
        "outputId": "46cb7531-2369-403a-d1a2-f3d6401486f2"
      },
      "outputs": [
        {
          "output_type": "execute_result",
          "data": {
            "text/plain": [
              "temp              0.128317\n",
              "rain_1h           0.003697\n",
              "snow_1h           0.001265\n",
              "clouds_all       -0.032932\n",
              "traffic_volume    1.000000\n",
              "month            -0.022337\n",
              "week_day         -0.416453\n",
              "hour              0.172704\n",
              "Name: traffic_volume, dtype: float64"
            ]
          },
          "metadata": {},
          "execution_count": 19
        }
      ],
      "source": [
        "# Calculating correlation value between every column and traffic_volume column\n",
        "daytime.corr()['traffic_volume']"
      ]
    },
    {
      "cell_type": "markdown",
      "metadata": {
        "id": "5PKnwi7JngHZ"
      },
      "source": [
        "The correlation shows that only tempearture (0.13) may has include on traffic volume. Others columns don't have strong correlation. Let's focus on `temp` and `traffic_volume` column and we started with drawing the scatter plot."
      ]
    },
    {
      "cell_type": "code",
      "execution_count": 20,
      "metadata": {
        "colab": {
          "base_uri": "https://localhost:8080/",
          "height": 283
        },
        "id": "sJkbPbn3ngHZ",
        "outputId": "4dedd96a-aab4-4bcf-e146-4ba2f53de969"
      },
      "outputs": [
        {
          "output_type": "display_data",
          "data": {
            "text/plain": [
              "<Figure size 432x288 with 1 Axes>"
            ],
            "image/png": "[encoded data removed]"
          },
          "metadata": {
            "needs_background": "light"
          }
        }
      ],
      "source": [
        "# Plotting scatter plot\n",
        "plt.scatter(daytime['traffic_volume'], daytime['temp'])\n",
        "plt.ylim(220, 320)\n",
        "plt.ylabel('Temperature')\n",
        "plt.xlabel('Traffic volume')\n",
        "plt.show()"
      ]
    },
    {
      "cell_type": "markdown",
      "metadata": {
        "id": "aP1u8dCongHZ"
      },
      "source": [
        "This scatter plot doesn't show us more than correlation value. Of course we can see minimal increase what confirm positive correlation but still we can't find more detailed information. So let's move to the weather types. Dataset has two more weather-related columns `weather main` and `weather_description`. \n",
        "\n",
        "We can distinguish 11 types of weather:\n",
        "\n",
        "| | |\n",
        "| :- | :- |\n",
        "| 1. Clear   | 7. Rain          |\n",
        "| 2. Clouds  | 8. Smoke         |\n",
        "| 3. Drizzle | 9. Snow          |\n",
        "| 4. Fog     | 10. Squall       |\n",
        "| 5. Haze    | 11. Thunderstorm |\n",
        "| 6. Mist    |                  |"
      ]
    },
    {
      "cell_type": "code",
      "execution_count": 21,
      "metadata": {
        "id": "t2GTZaz6ngHZ"
      },
      "outputs": [],
      "source": [
        "# Creating new DF with averages of traffic groups by weather_main\n",
        "by_weather_main = daytime.groupby('weather_main').mean()\n",
        "\n",
        "# Creating new DF with averages of traffic groups by weather_description\n",
        "by_weather_description = daytime.groupby('weather_description').mean()"
      ]
    },
    {
      "cell_type": "code",
      "execution_count": 22,
      "metadata": {
        "scrolled": false,
        "colab": {
          "base_uri": "https://localhost:8080/",
          "height": 279
        },
        "id": "Y60wHWvangHZ",
        "outputId": "91be982b-ad64-4025-b659-88b15a0fcd6d"
      },
      "outputs": [
        {
          "output_type": "display_data",
          "data": {
            "text/plain": [
              "<Figure size 432x288 with 1 Axes>"
            ],
            "image/png": "[encoded data removed]"
          },
          "metadata": {
            "needs_background": "light"
          }
        }
      ],
      "source": [
        "# Drawing a horizontal bar plot\n",
        "by_weather_main['traffic_volume'].plot.barh()\n",
        "plt.xlabel('Average of traffic volume')\n",
        "\n",
        "plt.show()"
      ]
    },
    {
      "cell_type": "markdown",
      "metadata": {
        "id": "_k4BpI1UngHZ"
      },
      "source": [
        "The above horizonal bar plot presents interesting thing, because all type of weather have average over 4000. Out of all types we can distinguish top 5 types (clouds, drizzle, rain, clear, thunderstorm) but any type have average over 5000, so let's check horiozntal bar plot for `weather_discription`. Maybe this data show some weather indicators."
      ]
    },
    {
      "cell_type": "code",
      "execution_count": 23,
      "metadata": {
        "colab": {
          "base_uri": "https://localhost:8080/",
          "height": 606
        },
        "id": "MF5pOx_gngHa",
        "outputId": "f0d6cd32-55a0-4b20-eaaa-8dcdf178f43b"
      },
      "outputs": [
        {
          "output_type": "display_data",
          "data": {
            "text/plain": [
              "<Figure size 360x720 with 1 Axes>"
            ],
            "image/png": "[encoded data removed]"
          },
          "metadata": {
            "needs_background": "light"
          }
        }
      ],
      "source": [
        "# Drawing a horizontal bar plot\n",
        "by_weather_description['traffic_volume'].plot.barh(figsize=(5,10))\n",
        "plt.xlabel('Average of traffic volume')\n",
        "\n",
        "plt.show()"
      ]
    },
    {
      "cell_type": "markdown",
      "metadata": {
        "id": "V8v4FCIvngHa"
      },
      "source": [
        "This bar chart is more detail and now we can distinguish 3 types of weather with average of traffic volume over 5000. It is:\n",
        "1. Shower snow\n",
        "2. Light rain and snow\n",
        "3. Proximity thunderstorm with drizzle"
      ]
    },
    {
      "cell_type": "markdown",
      "metadata": {
        "id": "EWfc8e8fngHa"
      },
      "source": [
        "## Conclusion"
      ]
    },
    {
      "cell_type": "markdown",
      "metadata": {
        "id": "10PBply1ngHa"
      },
      "source": [
        "To sumarize every information which we found in this project. We can say that:\n",
        "\n",
        "* The traffic volume is higer during the business day between 7:00 and 16:00.\n",
        "* The traffic volume rise in warm months (March - October except July) and fall in cold months (November - February).\n",
        "* The most intensive time of day at business days are mornig and evening because people going to work and back to home at that times.\n",
        "* Most of weather types has average traffic volume under 5000, but 3 of them has. We colud tell traffic volume start to rise when the road becomes slippery because three highlighted types depend from water."
      ]
    }
  ],
  "metadata": {
    "kernelspec": {
      "display_name": "Python 3",
      "language": "python",
      "name": "python3"
    },
    "language_info": {
      "codemirror_mode": {
        "name": "ipython",
        "version": 3
      },
      "file_extension": ".py",
      "mimetype": "text/x-python",
      "name": "python",
      "nbconvert_exporter": "python",
      "pygments_lexer": "ipython3",
      "version": "3.8.2"
    },
    "colab": {
      "provenance": [],
      "toc_visible": true,
      "include_colab_link": true
    }
  },
  "nbformat": 4,
  "nbformat_minor": 0
}