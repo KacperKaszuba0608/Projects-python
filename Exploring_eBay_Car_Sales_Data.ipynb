{
  "cells": [
    {
      "cell_type": "markdown",
      "metadata": {
        "id": "view-in-github",
        "colab_type": "text"
      },
      "source": [
        "<a href=\"https://colab.research.google.com/github/KacperKaszuba0608/Projects/blob/main/Exploring_eBay_Car_Sales_Data.ipynb\" target=\"_parent\"><img src=\"https://colab.research.google.com/assets/colab-badge.svg\" alt=\"Open In Colab\"/></a>"
      ]
    },
    {
      "cell_type": "markdown",
      "metadata": {
        "collapsed": true,
        "id": "79PYToTTiCTe"
      },
      "source": [
        "# Guided Project: Exploring eBay Car Sales Data"
      ]
    },
    {
      "cell_type": "markdown",
      "metadata": {
        "id": "ZsPmBu3tiCTf"
      },
      "source": [
        "In this project we focused on exploring eBay Car Sales Data from Kaggle where the original dataset isn't availble now, but you can find it on [data.word](https://data.world/data-society/used-cars-data). Dataquest team sampled 50000 rows and change some values. They did it because we tried clean missing or understood values and then explore them. Below you have description of columns:\n",
        "\n",
        "* `dateCrawled` - when this ad was first crawled. All field-values are taken from this date\n",
        "* `name` - name of the car\n",
        "* `seller` - private or dealer\n",
        "* `offerType` - the tipe of listing\n",
        "* `price` - the price on the ad to sell the car\n",
        "* `abtest` - whether the listing is included in an A/B test\n",
        "* `vehicleType`\n",
        "* `yearOfRegistration` - at which year the car was first registered\n",
        "* `gearbox` - the transmisson type\n",
        "* `powerPS` - power of the car in PS\n",
        "* `model` - the car model name\n",
        "* `kilometer` - how many kilometers the car has driven\n",
        "* `monthOfRegistration` - at which month the car was first registered\n",
        "* `fuelType`\n",
        "* `brand`\n",
        "* `notRepairedDamage` - if the car has a damage which is not repaired yet\n",
        "* `dateCreated` - the date for which the ad at ebay was created\n",
        "* `nrOfPictures` - number of pictures in the ad\n",
        "* `postalCode` - the postal code for the location of the vehicle\n",
        "* `lastSeen` - when the crawler saw this ad last online"
      ]
    },
    {
      "cell_type": "markdown",
      "metadata": {
        "id": "XX5p4UssiCTg"
      },
      "source": [
        "## Importing libraries and dataset"
      ]
    },
    {
      "cell_type": "code",
      "execution_count": 1,
      "metadata": {
        "id": "eRKSa_jPiCTg"
      },
      "outputs": [],
      "source": [
        "import pandas as pd\n",
        "import numpy as np\n",
        "\n",
        "cars = pd.read_csv('https://github.com/KacperKaszuba0608/Datasets/raw/main/autos.csv', encoding = 'Latin-1')"
      ]
    },
    {
      "cell_type": "code",
      "execution_count": 2,
      "metadata": {
        "colab": {
          "base_uri": "https://localhost:8080/"
        },
        "id": "dwownkm7iCTh",
        "outputId": "e4998721-1ec4-447c-f7ab-87a73ff22976"
      },
      "outputs": [
        {
          "output_type": "stream",
          "name": "stdout",
          "text": [
            "<class 'pandas.core.frame.DataFrame'>\n",
            "RangeIndex: 50000 entries, 0 to 49999\n",
            "Data columns (total 20 columns):\n",
            " #   Column               Non-Null Count  Dtype \n",
            "---  ------               --------------  ----- \n",
            " 0   dateCrawled          50000 non-null  object\n",
            " 1   name                 50000 non-null  object\n",
            " 2   seller               50000 non-null  object\n",
            " 3   offerType            50000 non-null  object\n",
            " 4   price                50000 non-null  object\n",
            " 5   abtest               50000 non-null  object\n",
            " 6   vehicleType          44905 non-null  object\n",
            " 7   yearOfRegistration   50000 non-null  int64 \n",
            " 8   gearbox              47320 non-null  object\n",
            " 9   powerPS              50000 non-null  int64 \n",
            " 10  model                47242 non-null  object\n",
            " 11  odometer             50000 non-null  object\n",
            " 12  monthOfRegistration  50000 non-null  int64 \n",
            " 13  fuelType             45518 non-null  object\n",
            " 14  brand                50000 non-null  object\n",
            " 15  notRepairedDamage    40171 non-null  object\n",
            " 16  dateCreated          50000 non-null  object\n",
            " 17  nrOfPictures         50000 non-null  int64 \n",
            " 18  postalCode           50000 non-null  int64 \n",
            " 19  lastSeen             50000 non-null  object\n",
            "dtypes: int64(5), object(15)\n",
            "memory usage: 7.6+ MB\n"
          ]
        }
      ],
      "source": [
        "cars.info()"
      ]
    },
    {
      "cell_type": "code",
      "execution_count": 3,
      "metadata": {
        "id": "x8qG_7S5iCTi",
        "outputId": "ee3ddc64-3b75-4523-8d23-4fe9f9218128",
        "colab": {
          "base_uri": "https://localhost:8080/",
          "height": 443
        }
      },
      "outputs": [
        {
          "output_type": "execute_result",
          "data": {
            "text/plain": [
              "           dateCrawled                                               name  \\\n",
              "0  2016-03-26 17:47:46                   Peugeot_807_160_NAVTECH_ON_BOARD   \n",
              "1  2016-04-04 13:38:56         BMW_740i_4_4_Liter_HAMANN_UMBAU_Mega_Optik   \n",
              "2  2016-03-26 18:57:24                         Volkswagen_Golf_1.6_United   \n",
              "3  2016-03-12 16:58:10  Smart_smart_fortwo_coupe_softouch/F1/Klima/Pan...   \n",
              "4  2016-04-01 14:38:50  Ford_Focus_1_6_Benzin_TÜV_neu_ist_sehr_gepfleg...   \n",
              "\n",
              "   seller offerType   price   abtest vehicleType  yearOfRegistration  \\\n",
              "0  privat   Angebot  $5,000  control         bus                2004   \n",
              "1  privat   Angebot  $8,500  control   limousine                1997   \n",
              "2  privat   Angebot  $8,990     test   limousine                2009   \n",
              "3  privat   Angebot  $4,350  control  kleinwagen                2007   \n",
              "4  privat   Angebot  $1,350     test       kombi                2003   \n",
              "\n",
              "     gearbox  powerPS   model   odometer  monthOfRegistration fuelType  \\\n",
              "0    manuell      158  andere  150,000km                    3      lpg   \n",
              "1  automatik      286     7er  150,000km                    6   benzin   \n",
              "2    manuell      102    golf   70,000km                    7   benzin   \n",
              "3  automatik       71  fortwo   70,000km                    6   benzin   \n",
              "4    manuell        0   focus  150,000km                    7   benzin   \n",
              "\n",
              "        brand notRepairedDamage          dateCreated  nrOfPictures  \\\n",
              "0     peugeot              nein  2016-03-26 00:00:00             0   \n",
              "1         bmw              nein  2016-04-04 00:00:00             0   \n",
              "2  volkswagen              nein  2016-03-26 00:00:00             0   \n",
              "3       smart              nein  2016-03-12 00:00:00             0   \n",
              "4        ford              nein  2016-04-01 00:00:00             0   \n",
              "\n",
              "   postalCode             lastSeen  \n",
              "0       79588  2016-04-06 06:45:54  \n",
              "1       71034  2016-04-06 14:45:08  \n",
              "2       35394  2016-04-06 20:15:37  \n",
              "3       33729  2016-03-15 03:16:28  \n",
              "4       39218  2016-04-01 14:38:50  "
            ],
            "text/html": [
              "\n",
              "  <div id=\"df-fd44bfd7-4592-42e5-a93a-f6985f12d8b3\">\n",
              "    <div class=\"colab-df-container\">\n",
              "      <div>\n",
              "<style scoped>\n",
              "    .dataframe tbody tr th:only-of-type {\n",
              "        vertical-align: middle;\n",
              "    }\n",
              "\n",
              "    .dataframe tbody tr th {\n",
              "        vertical-align: top;\n",
              "    }\n",
              "\n",
              "    .dataframe thead th {\n",
              "        text-align: right;\n",
              "    }\n",
              "</style>\n",
              "<table border=\"1\" class=\"dataframe\">\n",
              "  <thead>\n",
              "    <tr style=\"text-align: right;\">\n",
              "      <th></th>\n",
              "      <th>dateCrawled</th>\n",
              "      <th>name</th>\n",
              "      <th>seller</th>\n",
              "      <th>offerType</th>\n",
              "      <th>price</th>\n",
              "      <th>abtest</th>\n",
              "      <th>vehicleType</th>\n",
              "      <th>yearOfRegistration</th>\n",
              "      <th>gearbox</th>\n",
              "      <th>powerPS</th>\n",
              "      <th>model</th>\n",
              "      <th>odometer</th>\n",
              "      <th>monthOfRegistration</th>\n",
              "      <th>fuelType</th>\n",
              "      <th>brand</th>\n",
              "      <th>notRepairedDamage</th>\n",
              "      <th>dateCreated</th>\n",
              "      <th>nrOfPictures</th>\n",
              "      <th>postalCode</th>\n",
              "      <th>lastSeen</th>\n",
              "    </tr>\n",
              "  </thead>\n",
              "  <tbody>\n",
              "    <tr>\n",
              "      <th>0</th>\n",
              "      <td>2016-03-26 17:47:46</td>\n",
              "      <td>Peugeot_807_160_NAVTECH_ON_BOARD</td>\n",
              "      <td>privat</td>\n",
              "      <td>Angebot</td>\n",
              "      <td>$5,000</td>\n",
              "      <td>control</td>\n",
              "      <td>bus</td>\n",
              "      <td>2004</td>\n",
              "      <td>manuell</td>\n",
              "      <td>158</td>\n",
              "      <td>andere</td>\n",
              "      <td>150,000km</td>\n",
              "      <td>3</td>\n",
              "      <td>lpg</td>\n",
              "      <td>peugeot</td>\n",
              "      <td>nein</td>\n",
              "      <td>2016-03-26 00:00:00</td>\n",
              "      <td>0</td>\n",
              "      <td>79588</td>\n",
              "      <td>2016-04-06 06:45:54</td>\n",
              "    </tr>\n",
              "    <tr>\n",
              "      <th>1</th>\n",
              "      <td>2016-04-04 13:38:56</td>\n",
              "      <td>BMW_740i_4_4_Liter_HAMANN_UMBAU_Mega_Optik</td>\n",
              "      <td>privat</td>\n",
              "      <td>Angebot</td>\n",
              "      <td>$8,500</td>\n",
              "      <td>control</td>\n",
              "      <td>limousine</td>\n",
              "      <td>1997</td>\n",
              "      <td>automatik</td>\n",
              "      <td>286</td>\n",
              "      <td>7er</td>\n",
              "      <td>150,000km</td>\n",
              "      <td>6</td>\n",
              "      <td>benzin</td>\n",
              "      <td>bmw</td>\n",
              "      <td>nein</td>\n",
              "      <td>2016-04-04 00:00:00</td>\n",
              "      <td>0</td>\n",
              "      <td>71034</td>\n",
              "      <td>2016-04-06 14:45:08</td>\n",
              "    </tr>\n",
              "    <tr>\n",
              "      <th>2</th>\n",
              "      <td>2016-03-26 18:57:24</td>\n",
              "      <td>Volkswagen_Golf_1.6_United</td>\n",
              "      <td>privat</td>\n",
              "      <td>Angebot</td>\n",
              "      <td>$8,990</td>\n",
              "      <td>test</td>\n",
              "      <td>limousine</td>\n",
              "      <td>2009</td>\n",
              "      <td>manuell</td>\n",
              "      <td>102</td>\n",
              "      <td>golf</td>\n",
              "      <td>70,000km</td>\n",
              "      <td>7</td>\n",
              "      <td>benzin</td>\n",
              "      <td>volkswagen</td>\n",
              "      <td>nein</td>\n",
              "      <td>2016-03-26 00:00:00</td>\n",
              "      <td>0</td>\n",
              "      <td>35394</td>\n",
              "      <td>2016-04-06 20:15:37</td>\n",
              "    </tr>\n",
              "    <tr>\n",
              "      <th>3</th>\n",
              "      <td>2016-03-12 16:58:10</td>\n",
              "      <td>Smart_smart_fortwo_coupe_softouch/F1/Klima/Pan...</td>\n",
              "      <td>privat</td>\n",
              "      <td>Angebot</td>\n",
              "      <td>$4,350</td>\n",
              "      <td>control</td>\n",
              "      <td>kleinwagen</td>\n",
              "      <td>2007</td>\n",
              "      <td>automatik</td>\n",
              "      <td>71</td>\n",
              "      <td>fortwo</td>\n",
              "      <td>70,000km</td>\n",
              "      <td>6</td>\n",
              "      <td>benzin</td>\n",
              "      <td>smart</td>\n",
              "      <td>nein</td>\n",
              "      <td>2016-03-12 00:00:00</td>\n",
              "      <td>0</td>\n",
              "      <td>33729</td>\n",
              "      <td>2016-03-15 03:16:28</td>\n",
              "    </tr>\n",
              "    <tr>\n",
              "      <th>4</th>\n",
              "      <td>2016-04-01 14:38:50</td>\n",
              "      <td>Ford_Focus_1_6_Benzin_TÜV_neu_ist_sehr_gepfleg...</td>\n",
              "      <td>privat</td>\n",
              "      <td>Angebot</td>\n",
              "      <td>$1,350</td>\n",
              "      <td>test</td>\n",
              "      <td>kombi</td>\n",
              "      <td>2003</td>\n",
              "      <td>manuell</td>\n",
              "      <td>0</td>\n",
              "      <td>focus</td>\n",
              "      <td>150,000km</td>\n",
              "      <td>7</td>\n",
              "      <td>benzin</td>\n",
              "      <td>ford</td>\n",
              "      <td>nein</td>\n",
              "      <td>2016-04-01 00:00:00</td>\n",
              "      <td>0</td>\n",
              "      <td>39218</td>\n",
              "      <td>2016-04-01 14:38:50</td>\n",
              "    </tr>\n",
              "  </tbody>\n",
              "</table>\n",
              "</div>\n",
              "      <button class=\"colab-df-convert\" onclick=\"convertToInteractive('df-fd44bfd7-4592-42e5-a93a-f6985f12d8b3')\"\n",
              "              title=\"Convert this dataframe to an interactive table.\"\n",
              "              style=\"display:none;\">\n",
              "        \n",
              "  <svg xmlns=\"http://www.w3.org/2000/svg\" height=\"24px\"viewBox=\"0 0 24 24\"\n",
              "       width=\"24px\">\n",
              "    <path d=\"M0 0h24v24H0V0z\" fill=\"none\"/>\n",
              "    <path d=\"M18.56 5.44l.94 2.06.94-2.06 2.06-.94-2.06-.94-.94-2.06-.94 2.06-2.06.94zm-11 1L8.5 8.5l.94-2.06 2.06-.94-2.06-.94L8.5 2.5l-.94 2.06-2.06.94zm10 10l.94 2.06.94-2.06 2.06-.94-2.06-.94-.94-2.06-.94 2.06-2.06.94z\"/><path d=\"M17.41 7.96l-1.37-1.37c-.4-.4-.92-.59-1.43-.59-.52 0-1.04.2-1.43.59L10.3 9.45l-7.72 7.72c-.78.78-.78 2.05 0 2.83L4 21.41c.39.39.9.59 1.41.59.51 0 1.02-.2 1.41-.59l7.78-7.78 2.81-2.81c.8-.78.8-2.07 0-2.86zM5.41 20L4 18.59l7.72-7.72 1.47 1.35L5.41 20z\"/>\n",
              "  </svg>\n",
              "      </button>\n",
              "      \n",
              "  <style>\n",
              "    .colab-df-container {\n",
              "      display:flex;\n",
              "      flex-wrap:wrap;\n",
              "      gap: 12px;\n",
              "    }\n",
              "\n",
              "    .colab-df-convert {\n",
              "      background-color: #E8F0FE;\n",
              "      border: none;\n",
              "      border-radius: 50%;\n",
              "      cursor: pointer;\n",
              "      display: none;\n",
              "      fill: #1967D2;\n",
              "      height: 32px;\n",
              "      padding: 0 0 0 0;\n",
              "      width: 32px;\n",
              "    }\n",
              "\n",
              "    .colab-df-convert:hover {\n",
              "      background-color: #E2EBFA;\n",
              "      box-shadow: 0px 1px 2px rgba(60, 64, 67, 0.3), 0px 1px 3px 1px rgba(60, 64, 67, 0.15);\n",
              "      fill: #174EA6;\n",
              "    }\n",
              "\n",
              "    [theme=dark] .colab-df-convert {\n",
              "      background-color: #3B4455;\n",
              "      fill: #D2E3FC;\n",
              "    }\n",
              "\n",
              "    [theme=dark] .colab-df-convert:hover {\n",
              "      background-color: #434B5C;\n",
              "      box-shadow: 0px 1px 3px 1px rgba(0, 0, 0, 0.15);\n",
              "      filter: drop-shadow(0px 1px 2px rgba(0, 0, 0, 0.3));\n",
              "      fill: #FFFFFF;\n",
              "    }\n",
              "  </style>\n",
              "\n",
              "      <script>\n",
              "        const buttonEl =\n",
              "          document.querySelector('#df-fd44bfd7-4592-42e5-a93a-f6985f12d8b3 button.colab-df-convert');\n",
              "        buttonEl.style.display =\n",
              "          google.colab.kernel.accessAllowed ? 'block' : 'none';\n",
              "\n",
              "        async function convertToInteractive(key) {\n",
              "          const element = document.querySelector('#df-fd44bfd7-4592-42e5-a93a-f6985f12d8b3');\n",
              "          const dataTable =\n",
              "            await google.colab.kernel.invokeFunction('convertToInteractive',\n",
              "                                                     [key], {});\n",
              "          if (!dataTable) return;\n",
              "\n",
              "          const docLinkHtml = 'Like what you see? Visit the ' +\n",
              "            '<a target=\"_blank\" href=https://colab.research.google.com/notebooks/data_table.ipynb>data table notebook</a>'\n",
              "            + ' to learn more about interactive tables.';\n",
              "          element.innerHTML = '';\n",
              "          dataTable['output_type'] = 'display_data';\n",
              "          await google.colab.output.renderOutput(dataTable, element);\n",
              "          const docLink = document.createElement('div');\n",
              "          docLink.innerHTML = docLinkHtml;\n",
              "          element.appendChild(docLink);\n",
              "        }\n",
              "      </script>\n",
              "    </div>\n",
              "  </div>\n",
              "  "
            ]
          },
          "metadata": {},
          "execution_count": 3
        }
      ],
      "source": [
        "cars.head()"
      ]
    },
    {
      "cell_type": "markdown",
      "metadata": {
        "id": "LxuwvtPliCTi"
      },
      "source": [
        "As we see above the dataset has 50000 rows and 20 columns. Most of them are `object` type and only 5 columns have `int64` type. 5 columns have null values, so we had to clean it and some of column names are no in the same type. That's we changed them below."
      ]
    },
    {
      "cell_type": "markdown",
      "metadata": {
        "id": "ZLn6k-AviCTi"
      },
      "source": [
        "## Cleaning Column Names"
      ]
    },
    {
      "cell_type": "code",
      "execution_count": 4,
      "metadata": {
        "id": "-sJVSTIqiCTi",
        "outputId": "f9e0527c-bebd-4eec-820c-2445c945c863",
        "colab": {
          "base_uri": "https://localhost:8080/",
          "height": 443
        }
      },
      "outputs": [
        {
          "output_type": "execute_result",
          "data": {
            "text/plain": [
              "          crawled_date                                               name  \\\n",
              "0  2016-03-26 17:47:46                   Peugeot_807_160_NAVTECH_ON_BOARD   \n",
              "1  2016-04-04 13:38:56         BMW_740i_4_4_Liter_HAMANN_UMBAU_Mega_Optik   \n",
              "2  2016-03-26 18:57:24                         Volkswagen_Golf_1.6_United   \n",
              "3  2016-03-12 16:58:10  Smart_smart_fortwo_coupe_softouch/F1/Klima/Pan...   \n",
              "4  2016-04-01 14:38:50  Ford_Focus_1_6_Benzin_TÜV_neu_ist_sehr_gepfleg...   \n",
              "\n",
              "   seller offer_type   price   abtest vehicle_type  registration_year  \\\n",
              "0  privat    Angebot  $5,000  control          bus               2004   \n",
              "1  privat    Angebot  $8,500  control    limousine               1997   \n",
              "2  privat    Angebot  $8,990     test    limousine               2009   \n",
              "3  privat    Angebot  $4,350  control   kleinwagen               2007   \n",
              "4  privat    Angebot  $1,350     test        kombi               2003   \n",
              "\n",
              "     gearbox  power_ps   model   odometer  registration_month fuel_type  \\\n",
              "0    manuell       158  andere  150,000km                   3       lpg   \n",
              "1  automatik       286     7er  150,000km                   6    benzin   \n",
              "2    manuell       102    golf   70,000km                   7    benzin   \n",
              "3  automatik        71  fortwo   70,000km                   6    benzin   \n",
              "4    manuell         0   focus  150,000km                   7    benzin   \n",
              "\n",
              "        brand unrepaired_damage           ad_created  pictures_num  \\\n",
              "0     peugeot              nein  2016-03-26 00:00:00             0   \n",
              "1         bmw              nein  2016-04-04 00:00:00             0   \n",
              "2  volkswagen              nein  2016-03-26 00:00:00             0   \n",
              "3       smart              nein  2016-03-12 00:00:00             0   \n",
              "4        ford              nein  2016-04-01 00:00:00             0   \n",
              "\n",
              "   postal_code            last_seen  \n",
              "0        79588  2016-04-06 06:45:54  \n",
              "1        71034  2016-04-06 14:45:08  \n",
              "2        35394  2016-04-06 20:15:37  \n",
              "3        33729  2016-03-15 03:16:28  \n",
              "4        39218  2016-04-01 14:38:50  "
            ],
            "text/html": [
              "\n",
              "  <div id=\"df-09b51f93-f19c-464b-8cf6-f0a9b4046cf7\">\n",
              "    <div class=\"colab-df-container\">\n",
              "      <div>\n",
              "<style scoped>\n",
              "    .dataframe tbody tr th:only-of-type {\n",
              "        vertical-align: middle;\n",
              "    }\n",
              "\n",
              "    .dataframe tbody tr th {\n",
              "        vertical-align: top;\n",
              "    }\n",
              "\n",
              "    .dataframe thead th {\n",
              "        text-align: right;\n",
              "    }\n",
              "</style>\n",
              "<table border=\"1\" class=\"dataframe\">\n",
              "  <thead>\n",
              "    <tr style=\"text-align: right;\">\n",
              "      <th></th>\n",
              "      <th>crawled_date</th>\n",
              "      <th>name</th>\n",
              "      <th>seller</th>\n",
              "      <th>offer_type</th>\n",
              "      <th>price</th>\n",
              "      <th>abtest</th>\n",
              "      <th>vehicle_type</th>\n",
              "      <th>registration_year</th>\n",
              "      <th>gearbox</th>\n",
              "      <th>power_ps</th>\n",
              "      <th>model</th>\n",
              "      <th>odometer</th>\n",
              "      <th>registration_month</th>\n",
              "      <th>fuel_type</th>\n",
              "      <th>brand</th>\n",
              "      <th>unrepaired_damage</th>\n",
              "      <th>ad_created</th>\n",
              "      <th>pictures_num</th>\n",
              "      <th>postal_code</th>\n",
              "      <th>last_seen</th>\n",
              "    </tr>\n",
              "  </thead>\n",
              "  <tbody>\n",
              "    <tr>\n",
              "      <th>0</th>\n",
              "      <td>2016-03-26 17:47:46</td>\n",
              "      <td>Peugeot_807_160_NAVTECH_ON_BOARD</td>\n",
              "      <td>privat</td>\n",
              "      <td>Angebot</td>\n",
              "      <td>$5,000</td>\n",
              "      <td>control</td>\n",
              "      <td>bus</td>\n",
              "      <td>2004</td>\n",
              "      <td>manuell</td>\n",
              "      <td>158</td>\n",
              "      <td>andere</td>\n",
              "      <td>150,000km</td>\n",
              "      <td>3</td>\n",
              "      <td>lpg</td>\n",
              "      <td>peugeot</td>\n",
              "      <td>nein</td>\n",
              "      <td>2016-03-26 00:00:00</td>\n",
              "      <td>0</td>\n",
              "      <td>79588</td>\n",
              "      <td>2016-04-06 06:45:54</td>\n",
              "    </tr>\n",
              "    <tr>\n",
              "      <th>1</th>\n",
              "      <td>2016-04-04 13:38:56</td>\n",
              "      <td>BMW_740i_4_4_Liter_HAMANN_UMBAU_Mega_Optik</td>\n",
              "      <td>privat</td>\n",
              "      <td>Angebot</td>\n",
              "      <td>$8,500</td>\n",
              "      <td>control</td>\n",
              "      <td>limousine</td>\n",
              "      <td>1997</td>\n",
              "      <td>automatik</td>\n",
              "      <td>286</td>\n",
              "      <td>7er</td>\n",
              "      <td>150,000km</td>\n",
              "      <td>6</td>\n",
              "      <td>benzin</td>\n",
              "      <td>bmw</td>\n",
              "      <td>nein</td>\n",
              "      <td>2016-04-04 00:00:00</td>\n",
              "      <td>0</td>\n",
              "      <td>71034</td>\n",
              "      <td>2016-04-06 14:45:08</td>\n",
              "    </tr>\n",
              "    <tr>\n",
              "      <th>2</th>\n",
              "      <td>2016-03-26 18:57:24</td>\n",
              "      <td>Volkswagen_Golf_1.6_United</td>\n",
              "      <td>privat</td>\n",
              "      <td>Angebot</td>\n",
              "      <td>$8,990</td>\n",
              "      <td>test</td>\n",
              "      <td>limousine</td>\n",
              "      <td>2009</td>\n",
              "      <td>manuell</td>\n",
              "      <td>102</td>\n",
              "      <td>golf</td>\n",
              "      <td>70,000km</td>\n",
              "      <td>7</td>\n",
              "      <td>benzin</td>\n",
              "      <td>volkswagen</td>\n",
              "      <td>nein</td>\n",
              "      <td>2016-03-26 00:00:00</td>\n",
              "      <td>0</td>\n",
              "      <td>35394</td>\n",
              "      <td>2016-04-06 20:15:37</td>\n",
              "    </tr>\n",
              "    <tr>\n",
              "      <th>3</th>\n",
              "      <td>2016-03-12 16:58:10</td>\n",
              "      <td>Smart_smart_fortwo_coupe_softouch/F1/Klima/Pan...</td>\n",
              "      <td>privat</td>\n",
              "      <td>Angebot</td>\n",
              "      <td>$4,350</td>\n",
              "      <td>control</td>\n",
              "      <td>kleinwagen</td>\n",
              "      <td>2007</td>\n",
              "      <td>automatik</td>\n",
              "      <td>71</td>\n",
              "      <td>fortwo</td>\n",
              "      <td>70,000km</td>\n",
              "      <td>6</td>\n",
              "      <td>benzin</td>\n",
              "      <td>smart</td>\n",
              "      <td>nein</td>\n",
              "      <td>2016-03-12 00:00:00</td>\n",
              "      <td>0</td>\n",
              "      <td>33729</td>\n",
              "      <td>2016-03-15 03:16:28</td>\n",
              "    </tr>\n",
              "    <tr>\n",
              "      <th>4</th>\n",
              "      <td>2016-04-01 14:38:50</td>\n",
              "      <td>Ford_Focus_1_6_Benzin_TÜV_neu_ist_sehr_gepfleg...</td>\n",
              "      <td>privat</td>\n",
              "      <td>Angebot</td>\n",
              "      <td>$1,350</td>\n",
              "      <td>test</td>\n",
              "      <td>kombi</td>\n",
              "      <td>2003</td>\n",
              "      <td>manuell</td>\n",
              "      <td>0</td>\n",
              "      <td>focus</td>\n",
              "      <td>150,000km</td>\n",
              "      <td>7</td>\n",
              "      <td>benzin</td>\n",
              "      <td>ford</td>\n",
              "      <td>nein</td>\n",
              "      <td>2016-04-01 00:00:00</td>\n",
              "      <td>0</td>\n",
              "      <td>39218</td>\n",
              "      <td>2016-04-01 14:38:50</td>\n",
              "    </tr>\n",
              "  </tbody>\n",
              "</table>\n",
              "</div>\n",
              "      <button class=\"colab-df-convert\" onclick=\"convertToInteractive('df-09b51f93-f19c-464b-8cf6-f0a9b4046cf7')\"\n",
              "              title=\"Convert this dataframe to an interactive table.\"\n",
              "              style=\"display:none;\">\n",
              "        \n",
              "  <svg xmlns=\"http://www.w3.org/2000/svg\" height=\"24px\"viewBox=\"0 0 24 24\"\n",
              "       width=\"24px\">\n",
              "    <path d=\"M0 0h24v24H0V0z\" fill=\"none\"/>\n",
              "    <path d=\"M18.56 5.44l.94 2.06.94-2.06 2.06-.94-2.06-.94-.94-2.06-.94 2.06-2.06.94zm-11 1L8.5 8.5l.94-2.06 2.06-.94-2.06-.94L8.5 2.5l-.94 2.06-2.06.94zm10 10l.94 2.06.94-2.06 2.06-.94-2.06-.94-.94-2.06-.94 2.06-2.06.94z\"/><path d=\"M17.41 7.96l-1.37-1.37c-.4-.4-.92-.59-1.43-.59-.52 0-1.04.2-1.43.59L10.3 9.45l-7.72 7.72c-.78.78-.78 2.05 0 2.83L4 21.41c.39.39.9.59 1.41.59.51 0 1.02-.2 1.41-.59l7.78-7.78 2.81-2.81c.8-.78.8-2.07 0-2.86zM5.41 20L4 18.59l7.72-7.72 1.47 1.35L5.41 20z\"/>\n",
              "  </svg>\n",
              "      </button>\n",
              "      \n",
              "  <style>\n",
              "    .colab-df-container {\n",
              "      display:flex;\n",
              "      flex-wrap:wrap;\n",
              "      gap: 12px;\n",
              "    }\n",
              "\n",
              "    .colab-df-convert {\n",
              "      background-color: #E8F0FE;\n",
              "      border: none;\n",
              "      border-radius: 50%;\n",
              "      cursor: pointer;\n",
              "      display: none;\n",
              "      fill: #1967D2;\n",
              "      height: 32px;\n",
              "      padding: 0 0 0 0;\n",
              "      width: 32px;\n",
              "    }\n",
              "\n",
              "    .colab-df-convert:hover {\n",
              "      background-color: #E2EBFA;\n",
              "      box-shadow: 0px 1px 2px rgba(60, 64, 67, 0.3), 0px 1px 3px 1px rgba(60, 64, 67, 0.15);\n",
              "      fill: #174EA6;\n",
              "    }\n",
              "\n",
              "    [theme=dark] .colab-df-convert {\n",
              "      background-color: #3B4455;\n",
              "      fill: #D2E3FC;\n",
              "    }\n",
              "\n",
              "    [theme=dark] .colab-df-convert:hover {\n",
              "      background-color: #434B5C;\n",
              "      box-shadow: 0px 1px 3px 1px rgba(0, 0, 0, 0.15);\n",
              "      filter: drop-shadow(0px 1px 2px rgba(0, 0, 0, 0.3));\n",
              "      fill: #FFFFFF;\n",
              "    }\n",
              "  </style>\n",
              "\n",
              "      <script>\n",
              "        const buttonEl =\n",
              "          document.querySelector('#df-09b51f93-f19c-464b-8cf6-f0a9b4046cf7 button.colab-df-convert');\n",
              "        buttonEl.style.display =\n",
              "          google.colab.kernel.accessAllowed ? 'block' : 'none';\n",
              "\n",
              "        async function convertToInteractive(key) {\n",
              "          const element = document.querySelector('#df-09b51f93-f19c-464b-8cf6-f0a9b4046cf7');\n",
              "          const dataTable =\n",
              "            await google.colab.kernel.invokeFunction('convertToInteractive',\n",
              "                                                     [key], {});\n",
              "          if (!dataTable) return;\n",
              "\n",
              "          const docLinkHtml = 'Like what you see? Visit the ' +\n",
              "            '<a target=\"_blank\" href=https://colab.research.google.com/notebooks/data_table.ipynb>data table notebook</a>'\n",
              "            + ' to learn more about interactive tables.';\n",
              "          element.innerHTML = '';\n",
              "          dataTable['output_type'] = 'display_data';\n",
              "          await google.colab.output.renderOutput(dataTable, element);\n",
              "          const docLink = document.createElement('div');\n",
              "          docLink.innerHTML = docLinkHtml;\n",
              "          element.appendChild(docLink);\n",
              "        }\n",
              "      </script>\n",
              "    </div>\n",
              "  </div>\n",
              "  "
            ]
          },
          "metadata": {},
          "execution_count": 4
        }
      ],
      "source": [
        "cars.columns = ['crawled_date', 'name', 'seller', 'offer_type', 'price', 'abtest',\n",
        "       'vehicle_type', 'registration_year', 'gearbox', 'power_ps', 'model',\n",
        "       'odometer', 'registration_month', 'fuel_type', 'brand',\n",
        "       'unrepaired_damage', 'ad_created', 'pictures_num', 'postal_code',\n",
        "       'last_seen']\n",
        "cars.head()"
      ]
    },
    {
      "cell_type": "markdown",
      "metadata": {
        "id": "FTbo3viOiCTj"
      },
      "source": [
        "Now, column names are more simple and understood. We created list of new column names and asigned it to `cars.columns` function from pandas."
      ]
    },
    {
      "cell_type": "markdown",
      "metadata": {
        "id": "XXHkufdhiCTj"
      },
      "source": [
        "## Exploration and Cleaning"
      ]
    },
    {
      "cell_type": "code",
      "execution_count": 5,
      "metadata": {
        "id": "hiMGmQXgiCTj",
        "outputId": "49a109a8-de2e-4719-bb80-8d2c27146fe8",
        "colab": {
          "base_uri": "https://localhost:8080/",
          "height": 493
        }
      },
      "outputs": [
        {
          "output_type": "execute_result",
          "data": {
            "text/plain": [
              "               crawled_date         name  seller offer_type  price abtest  \\\n",
              "count                 50000        50000   50000      50000  50000  50000   \n",
              "unique                48213        38754       2          2   2357      2   \n",
              "top     2016-04-02 11:37:04  Ford_Fiesta  privat    Angebot     $0   test   \n",
              "freq                      3           78   49999      49999   1421  25756   \n",
              "mean                    NaN          NaN     NaN        NaN    NaN    NaN   \n",
              "std                     NaN          NaN     NaN        NaN    NaN    NaN   \n",
              "min                     NaN          NaN     NaN        NaN    NaN    NaN   \n",
              "25%                     NaN          NaN     NaN        NaN    NaN    NaN   \n",
              "50%                     NaN          NaN     NaN        NaN    NaN    NaN   \n",
              "75%                     NaN          NaN     NaN        NaN    NaN    NaN   \n",
              "max                     NaN          NaN     NaN        NaN    NaN    NaN   \n",
              "\n",
              "       vehicle_type  registration_year  gearbox      power_ps  model  \\\n",
              "count         44905       50000.000000    47320  50000.000000  47242   \n",
              "unique            8                NaN        2           NaN    245   \n",
              "top       limousine                NaN  manuell           NaN   golf   \n",
              "freq          12859                NaN    36993           NaN   4024   \n",
              "mean            NaN        2005.073280      NaN    116.355920    NaN   \n",
              "std             NaN         105.712813      NaN    209.216627    NaN   \n",
              "min             NaN        1000.000000      NaN      0.000000    NaN   \n",
              "25%             NaN        1999.000000      NaN     70.000000    NaN   \n",
              "50%             NaN        2003.000000      NaN    105.000000    NaN   \n",
              "75%             NaN        2008.000000      NaN    150.000000    NaN   \n",
              "max             NaN        9999.000000      NaN  17700.000000    NaN   \n",
              "\n",
              "         odometer  registration_month fuel_type       brand unrepaired_damage  \\\n",
              "count       50000        50000.000000     45518       50000             40171   \n",
              "unique         13                 NaN         7          40                 2   \n",
              "top     150,000km                 NaN    benzin  volkswagen              nein   \n",
              "freq        32424                 NaN     30107       10687             35232   \n",
              "mean          NaN            5.723360       NaN         NaN               NaN   \n",
              "std           NaN            3.711984       NaN         NaN               NaN   \n",
              "min           NaN            0.000000       NaN         NaN               NaN   \n",
              "25%           NaN            3.000000       NaN         NaN               NaN   \n",
              "50%           NaN            6.000000       NaN         NaN               NaN   \n",
              "75%           NaN            9.000000       NaN         NaN               NaN   \n",
              "max           NaN           12.000000       NaN         NaN               NaN   \n",
              "\n",
              "                 ad_created  pictures_num   postal_code            last_seen  \n",
              "count                 50000       50000.0  50000.000000                50000  \n",
              "unique                   76           NaN           NaN                39481  \n",
              "top     2016-04-03 00:00:00           NaN           NaN  2016-04-07 06:17:27  \n",
              "freq                   1946           NaN           NaN                    8  \n",
              "mean                    NaN           0.0  50813.627300                  NaN  \n",
              "std                     NaN           0.0  25779.747957                  NaN  \n",
              "min                     NaN           0.0   1067.000000                  NaN  \n",
              "25%                     NaN           0.0  30451.000000                  NaN  \n",
              "50%                     NaN           0.0  49577.000000                  NaN  \n",
              "75%                     NaN           0.0  71540.000000                  NaN  \n",
              "max                     NaN           0.0  99998.000000                  NaN  "
            ],
            "text/html": [
              "\n",
              "  <div id=\"df-e1bff724-e26c-4eee-aca8-40f55d10a561\">\n",
              "    <div class=\"colab-df-container\">\n",
              "      <div>\n",
              "<style scoped>\n",
              "    .dataframe tbody tr th:only-of-type {\n",
              "        vertical-align: middle;\n",
              "    }\n",
              "\n",
              "    .dataframe tbody tr th {\n",
              "        vertical-align: top;\n",
              "    }\n",
              "\n",
              "    .dataframe thead th {\n",
              "        text-align: right;\n",
              "    }\n",
              "</style>\n",
              "<table border=\"1\" class=\"dataframe\">\n",
              "  <thead>\n",
              "    <tr style=\"text-align: right;\">\n",
              "      <th></th>\n",
              "      <th>crawled_date</th>\n",
              "      <th>name</th>\n",
              "      <th>seller</th>\n",
              "      <th>offer_type</th>\n",
              "      <th>price</th>\n",
              "      <th>abtest</th>\n",
              "      <th>vehicle_type</th>\n",
              "      <th>registration_year</th>\n",
              "      <th>gearbox</th>\n",
              "      <th>power_ps</th>\n",
              "      <th>model</th>\n",
              "      <th>odometer</th>\n",
              "      <th>registration_month</th>\n",
              "      <th>fuel_type</th>\n",
              "      <th>brand</th>\n",
              "      <th>unrepaired_damage</th>\n",
              "      <th>ad_created</th>\n",
              "      <th>pictures_num</th>\n",
              "      <th>postal_code</th>\n",
              "      <th>last_seen</th>\n",
              "    </tr>\n",
              "  </thead>\n",
              "  <tbody>\n",
              "    <tr>\n",
              "      <th>count</th>\n",
              "      <td>50000</td>\n",
              "      <td>50000</td>\n",
              "      <td>50000</td>\n",
              "      <td>50000</td>\n",
              "      <td>50000</td>\n",
              "      <td>50000</td>\n",
              "      <td>44905</td>\n",
              "      <td>50000.000000</td>\n",
              "      <td>47320</td>\n",
              "      <td>50000.000000</td>\n",
              "      <td>47242</td>\n",
              "      <td>50000</td>\n",
              "      <td>50000.000000</td>\n",
              "      <td>45518</td>\n",
              "      <td>50000</td>\n",
              "      <td>40171</td>\n",
              "      <td>50000</td>\n",
              "      <td>50000.0</td>\n",
              "      <td>50000.000000</td>\n",
              "      <td>50000</td>\n",
              "    </tr>\n",
              "    <tr>\n",
              "      <th>unique</th>\n",
              "      <td>48213</td>\n",
              "      <td>38754</td>\n",
              "      <td>2</td>\n",
              "      <td>2</td>\n",
              "      <td>2357</td>\n",
              "      <td>2</td>\n",
              "      <td>8</td>\n",
              "      <td>NaN</td>\n",
              "      <td>2</td>\n",
              "      <td>NaN</td>\n",
              "      <td>245</td>\n",
              "      <td>13</td>\n",
              "      <td>NaN</td>\n",
              "      <td>7</td>\n",
              "      <td>40</td>\n",
              "      <td>2</td>\n",
              "      <td>76</td>\n",
              "      <td>NaN</td>\n",
              "      <td>NaN</td>\n",
              "      <td>39481</td>\n",
              "    </tr>\n",
              "    <tr>\n",
              "      <th>top</th>\n",
              "      <td>2016-04-02 11:37:04</td>\n",
              "      <td>Ford_Fiesta</td>\n",
              "      <td>privat</td>\n",
              "      <td>Angebot</td>\n",
              "      <td>$0</td>\n",
              "      <td>test</td>\n",
              "      <td>limousine</td>\n",
              "      <td>NaN</td>\n",
              "      <td>manuell</td>\n",
              "      <td>NaN</td>\n",
              "      <td>golf</td>\n",
              "      <td>150,000km</td>\n",
              "      <td>NaN</td>\n",
              "      <td>benzin</td>\n",
              "      <td>volkswagen</td>\n",
              "      <td>nein</td>\n",
              "      <td>2016-04-03 00:00:00</td>\n",
              "      <td>NaN</td>\n",
              "      <td>NaN</td>\n",
              "      <td>2016-04-07 06:17:27</td>\n",
              "    </tr>\n",
              "    <tr>\n",
              "      <th>freq</th>\n",
              "      <td>3</td>\n",
              "      <td>78</td>\n",
              "      <td>49999</td>\n",
              "      <td>49999</td>\n",
              "      <td>1421</td>\n",
              "      <td>25756</td>\n",
              "      <td>12859</td>\n",
              "      <td>NaN</td>\n",
              "      <td>36993</td>\n",
              "      <td>NaN</td>\n",
              "      <td>4024</td>\n",
              "      <td>32424</td>\n",
              "      <td>NaN</td>\n",
              "      <td>30107</td>\n",
              "      <td>10687</td>\n",
              "      <td>35232</td>\n",
              "      <td>1946</td>\n",
              "      <td>NaN</td>\n",
              "      <td>NaN</td>\n",
              "      <td>8</td>\n",
              "    </tr>\n",
              "    <tr>\n",
              "      <th>mean</th>\n",
              "      <td>NaN</td>\n",
              "      <td>NaN</td>\n",
              "      <td>NaN</td>\n",
              "      <td>NaN</td>\n",
              "      <td>NaN</td>\n",
              "      <td>NaN</td>\n",
              "      <td>NaN</td>\n",
              "      <td>2005.073280</td>\n",
              "      <td>NaN</td>\n",
              "      <td>116.355920</td>\n",
              "      <td>NaN</td>\n",
              "      <td>NaN</td>\n",
              "      <td>5.723360</td>\n",
              "      <td>NaN</td>\n",
              "      <td>NaN</td>\n",
              "      <td>NaN</td>\n",
              "      <td>NaN</td>\n",
              "      <td>0.0</td>\n",
              "      <td>50813.627300</td>\n",
              "      <td>NaN</td>\n",
              "    </tr>\n",
              "    <tr>\n",
              "      <th>std</th>\n",
              "      <td>NaN</td>\n",
              "      <td>NaN</td>\n",
              "      <td>NaN</td>\n",
              "      <td>NaN</td>\n",
              "      <td>NaN</td>\n",
              "      <td>NaN</td>\n",
              "      <td>NaN</td>\n",
              "      <td>105.712813</td>\n",
              "      <td>NaN</td>\n",
              "      <td>209.216627</td>\n",
              "      <td>NaN</td>\n",
              "      <td>NaN</td>\n",
              "      <td>3.711984</td>\n",
              "      <td>NaN</td>\n",
              "      <td>NaN</td>\n",
              "      <td>NaN</td>\n",
              "      <td>NaN</td>\n",
              "      <td>0.0</td>\n",
              "      <td>25779.747957</td>\n",
              "      <td>NaN</td>\n",
              "    </tr>\n",
              "    <tr>\n",
              "      <th>min</th>\n",
              "      <td>NaN</td>\n",
              "      <td>NaN</td>\n",
              "      <td>NaN</td>\n",
              "      <td>NaN</td>\n",
              "      <td>NaN</td>\n",
              "      <td>NaN</td>\n",
              "      <td>NaN</td>\n",
              "      <td>1000.000000</td>\n",
              "      <td>NaN</td>\n",
              "      <td>0.000000</td>\n",
              "      <td>NaN</td>\n",
              "      <td>NaN</td>\n",
              "      <td>0.000000</td>\n",
              "      <td>NaN</td>\n",
              "      <td>NaN</td>\n",
              "      <td>NaN</td>\n",
              "      <td>NaN</td>\n",
              "      <td>0.0</td>\n",
              "      <td>1067.000000</td>\n",
              "      <td>NaN</td>\n",
              "    </tr>\n",
              "    <tr>\n",
              "      <th>25%</th>\n",
              "      <td>NaN</td>\n",
              "      <td>NaN</td>\n",
              "      <td>NaN</td>\n",
              "      <td>NaN</td>\n",
              "      <td>NaN</td>\n",
              "      <td>NaN</td>\n",
              "      <td>NaN</td>\n",
              "      <td>1999.000000</td>\n",
              "      <td>NaN</td>\n",
              "      <td>70.000000</td>\n",
              "      <td>NaN</td>\n",
              "      <td>NaN</td>\n",
              "      <td>3.000000</td>\n",
              "      <td>NaN</td>\n",
              "      <td>NaN</td>\n",
              "      <td>NaN</td>\n",
              "      <td>NaN</td>\n",
              "      <td>0.0</td>\n",
              "      <td>30451.000000</td>\n",
              "      <td>NaN</td>\n",
              "    </tr>\n",
              "    <tr>\n",
              "      <th>50%</th>\n",
              "      <td>NaN</td>\n",
              "      <td>NaN</td>\n",
              "      <td>NaN</td>\n",
              "      <td>NaN</td>\n",
              "      <td>NaN</td>\n",
              "      <td>NaN</td>\n",
              "      <td>NaN</td>\n",
              "      <td>2003.000000</td>\n",
              "      <td>NaN</td>\n",
              "      <td>105.000000</td>\n",
              "      <td>NaN</td>\n",
              "      <td>NaN</td>\n",
              "      <td>6.000000</td>\n",
              "      <td>NaN</td>\n",
              "      <td>NaN</td>\n",
              "      <td>NaN</td>\n",
              "      <td>NaN</td>\n",
              "      <td>0.0</td>\n",
              "      <td>49577.000000</td>\n",
              "      <td>NaN</td>\n",
              "    </tr>\n",
              "    <tr>\n",
              "      <th>75%</th>\n",
              "      <td>NaN</td>\n",
              "      <td>NaN</td>\n",
              "      <td>NaN</td>\n",
              "      <td>NaN</td>\n",
              "      <td>NaN</td>\n",
              "      <td>NaN</td>\n",
              "      <td>NaN</td>\n",
              "      <td>2008.000000</td>\n",
              "      <td>NaN</td>\n",
              "      <td>150.000000</td>\n",
              "      <td>NaN</td>\n",
              "      <td>NaN</td>\n",
              "      <td>9.000000</td>\n",
              "      <td>NaN</td>\n",
              "      <td>NaN</td>\n",
              "      <td>NaN</td>\n",
              "      <td>NaN</td>\n",
              "      <td>0.0</td>\n",
              "      <td>71540.000000</td>\n",
              "      <td>NaN</td>\n",
              "    </tr>\n",
              "    <tr>\n",
              "      <th>max</th>\n",
              "      <td>NaN</td>\n",
              "      <td>NaN</td>\n",
              "      <td>NaN</td>\n",
              "      <td>NaN</td>\n",
              "      <td>NaN</td>\n",
              "      <td>NaN</td>\n",
              "      <td>NaN</td>\n",
              "      <td>9999.000000</td>\n",
              "      <td>NaN</td>\n",
              "      <td>17700.000000</td>\n",
              "      <td>NaN</td>\n",
              "      <td>NaN</td>\n",
              "      <td>12.000000</td>\n",
              "      <td>NaN</td>\n",
              "      <td>NaN</td>\n",
              "      <td>NaN</td>\n",
              "      <td>NaN</td>\n",
              "      <td>0.0</td>\n",
              "      <td>99998.000000</td>\n",
              "      <td>NaN</td>\n",
              "    </tr>\n",
              "  </tbody>\n",
              "</table>\n",
              "</div>\n",
              "      <button class=\"colab-df-convert\" onclick=\"convertToInteractive('df-e1bff724-e26c-4eee-aca8-40f55d10a561')\"\n",
              "              title=\"Convert this dataframe to an interactive table.\"\n",
              "              style=\"display:none;\">\n",
              "        \n",
              "  <svg xmlns=\"http://www.w3.org/2000/svg\" height=\"24px\"viewBox=\"0 0 24 24\"\n",
              "       width=\"24px\">\n",
              "    <path d=\"M0 0h24v24H0V0z\" fill=\"none\"/>\n",
              "    <path d=\"M18.56 5.44l.94 2.06.94-2.06 2.06-.94-2.06-.94-.94-2.06-.94 2.06-2.06.94zm-11 1L8.5 8.5l.94-2.06 2.06-.94-2.06-.94L8.5 2.5l-.94 2.06-2.06.94zm10 10l.94 2.06.94-2.06 2.06-.94-2.06-.94-.94-2.06-.94 2.06-2.06.94z\"/><path d=\"M17.41 7.96l-1.37-1.37c-.4-.4-.92-.59-1.43-.59-.52 0-1.04.2-1.43.59L10.3 9.45l-7.72 7.72c-.78.78-.78 2.05 0 2.83L4 21.41c.39.39.9.59 1.41.59.51 0 1.02-.2 1.41-.59l7.78-7.78 2.81-2.81c.8-.78.8-2.07 0-2.86zM5.41 20L4 18.59l7.72-7.72 1.47 1.35L5.41 20z\"/>\n",
              "  </svg>\n",
              "      </button>\n",
              "      \n",
              "  <style>\n",
              "    .colab-df-container {\n",
              "      display:flex;\n",
              "      flex-wrap:wrap;\n",
              "      gap: 12px;\n",
              "    }\n",
              "\n",
              "    .colab-df-convert {\n",
              "      background-color: #E8F0FE;\n",
              "      border: none;\n",
              "      border-radius: 50%;\n",
              "      cursor: pointer;\n",
              "      display: none;\n",
              "      fill: #1967D2;\n",
              "      height: 32px;\n",
              "      padding: 0 0 0 0;\n",
              "      width: 32px;\n",
              "    }\n",
              "\n",
              "    .colab-df-convert:hover {\n",
              "      background-color: #E2EBFA;\n",
              "      box-shadow: 0px 1px 2px rgba(60, 64, 67, 0.3), 0px 1px 3px 1px rgba(60, 64, 67, 0.15);\n",
              "      fill: #174EA6;\n",
              "    }\n",
              "\n",
              "    [theme=dark] .colab-df-convert {\n",
              "      background-color: #3B4455;\n",
              "      fill: #D2E3FC;\n",
              "    }\n",
              "\n",
              "    [theme=dark] .colab-df-convert:hover {\n",
              "      background-color: #434B5C;\n",
              "      box-shadow: 0px 1px 3px 1px rgba(0, 0, 0, 0.15);\n",
              "      filter: drop-shadow(0px 1px 2px rgba(0, 0, 0, 0.3));\n",
              "      fill: #FFFFFF;\n",
              "    }\n",
              "  </style>\n",
              "\n",
              "      <script>\n",
              "        const buttonEl =\n",
              "          document.querySelector('#df-e1bff724-e26c-4eee-aca8-40f55d10a561 button.colab-df-convert');\n",
              "        buttonEl.style.display =\n",
              "          google.colab.kernel.accessAllowed ? 'block' : 'none';\n",
              "\n",
              "        async function convertToInteractive(key) {\n",
              "          const element = document.querySelector('#df-e1bff724-e26c-4eee-aca8-40f55d10a561');\n",
              "          const dataTable =\n",
              "            await google.colab.kernel.invokeFunction('convertToInteractive',\n",
              "                                                     [key], {});\n",
              "          if (!dataTable) return;\n",
              "\n",
              "          const docLinkHtml = 'Like what you see? Visit the ' +\n",
              "            '<a target=\"_blank\" href=https://colab.research.google.com/notebooks/data_table.ipynb>data table notebook</a>'\n",
              "            + ' to learn more about interactive tables.';\n",
              "          element.innerHTML = '';\n",
              "          dataTable['output_type'] = 'display_data';\n",
              "          await google.colab.output.renderOutput(dataTable, element);\n",
              "          const docLink = document.createElement('div');\n",
              "          docLink.innerHTML = docLinkHtml;\n",
              "          element.appendChild(docLink);\n",
              "        }\n",
              "      </script>\n",
              "    </div>\n",
              "  </div>\n",
              "  "
            ]
          },
          "metadata": {},
          "execution_count": 5
        }
      ],
      "source": [
        "cars.describe(include = 'all')"
      ]
    },
    {
      "cell_type": "markdown",
      "metadata": {
        "id": "_db5GJwziCTj"
      },
      "source": [
        "Description of columns tels us that 2 columns: `odometer` and `price` have combination of string and number. That's why we had to found a pattern and cleaned it. Column `registration_year` has a strange maximum value equal 9999. It's probably wrong value because 9999 year is a future. Column `power_ps` has unbelievable maximum value qual 177700 ps. None car has power like this one. Column `registration_month` has minimum value 0.00, month 0 doesn't exist so it's misstake too. We colud remove columns which every value were the same. It happened in columns: `seller`, `offer_type` and `pictures_num`. They told us nothing so we could remove it. What we did at first."
      ]
    },
    {
      "cell_type": "code",
      "execution_count": 6,
      "metadata": {
        "id": "6amlafkjiCTj",
        "outputId": "8c853d56-c061-43b9-afd2-bc82ede687f4",
        "colab": {
          "base_uri": "https://localhost:8080/"
        }
      },
      "outputs": [
        {
          "output_type": "execute_result",
          "data": {
            "text/plain": [
              "(50000, 17)"
            ]
          },
          "metadata": {},
          "execution_count": 6
        }
      ],
      "source": [
        "cars = cars.drop(['seller', 'offer_type', 'pictures_num'], axis = 1)\n",
        "cars.shape"
      ]
    },
    {
      "cell_type": "code",
      "source": [
        "cars['price']"
      ],
      "metadata": {
        "colab": {
          "base_uri": "https://localhost:8080/"
        },
        "id": "9XGrjzhaSRf-",
        "outputId": "50b3a879-ec0d-429e-b157-f1609bd1f9a1"
      },
      "execution_count": 7,
      "outputs": [
        {
          "output_type": "execute_result",
          "data": {
            "text/plain": [
              "0         $5,000\n",
              "1         $8,500\n",
              "2         $8,990\n",
              "3         $4,350\n",
              "4         $1,350\n",
              "          ...   \n",
              "49995    $24,900\n",
              "49996     $1,980\n",
              "49997    $13,200\n",
              "49998    $22,900\n",
              "49999     $1,250\n",
              "Name: price, Length: 50000, dtype: object"
            ]
          },
          "metadata": {},
          "execution_count": 7
        }
      ]
    },
    {
      "cell_type": "markdown",
      "source": [
        "Data which we use in this project from Dataquest has signs: \"$\", commas or dots\". So we had to replace it. In data from data.world we didn't have to do this because columns `price` and `odometer` had have already numeric type."
      ],
      "metadata": {
        "id": "C2KVvHrKTxsk"
      }
    },
    {
      "cell_type": "code",
      "execution_count": 8,
      "metadata": {
        "id": "j8ZH5mq3iCTk",
        "outputId": "883744b4-138a-4abe-ec58-1e63cd6dcf15",
        "colab": {
          "base_uri": "https://localhost:8080/"
        }
      },
      "outputs": [
        {
          "output_type": "stream",
          "name": "stderr",
          "text": [
            "<ipython-input-8-b20b78883336>:1: FutureWarning: The default value of regex will change from True to False in a future version. In addition, single character regular expressions will *not* be treated as literal strings when regex=True.\n",
            "  cars['price'] = cars['price'].str.replace('$', '').str.replace(',', '')\n"
          ]
        }
      ],
      "source": [
        "cars['price'] = cars['price'].str.replace('$', '').str.replace(',', '')\n",
        "cars['price'] = cars['price'].astype(int)"
      ]
    },
    {
      "cell_type": "code",
      "execution_count": 9,
      "metadata": {
        "id": "XA8I95bEiCTk"
      },
      "outputs": [],
      "source": [
        "cars['odometer'] = cars['odometer'].str.replace('km', '').str.replace(',', '')\n",
        "cars['odometer'] = cars['odometer'].astype(int)"
      ]
    },
    {
      "cell_type": "code",
      "execution_count": 10,
      "metadata": {
        "id": "ezvHuXgtiCTk"
      },
      "outputs": [],
      "source": [
        "cars.rename({'odometer' : 'odometer_km', 'price' : 'price_dol'}, \n",
        "            inplace = True, axis = 1)"
      ]
    },
    {
      "cell_type": "markdown",
      "metadata": {
        "id": "eoq-lUG_iCTk"
      },
      "source": [
        "## Exploring and cleaning prices"
      ]
    },
    {
      "cell_type": "code",
      "execution_count": 11,
      "metadata": {
        "id": "vVF4zsuliCTk",
        "outputId": "008303ff-3d7c-41c7-e07c-c209fec893ab",
        "colab": {
          "base_uri": "https://localhost:8080/"
        }
      },
      "outputs": [
        {
          "output_type": "execute_result",
          "data": {
            "text/plain": [
              "count    5.000000e+04\n",
              "mean     9.840044e+03\n",
              "std      4.811044e+05\n",
              "min      0.000000e+00\n",
              "25%      1.100000e+03\n",
              "50%      2.950000e+03\n",
              "75%      7.200000e+03\n",
              "max      1.000000e+08\n",
              "Name: price_dol, dtype: float64"
            ]
          },
          "metadata": {},
          "execution_count": 11
        }
      ],
      "source": [
        "cars['price_dol'].describe()"
      ]
    },
    {
      "cell_type": "code",
      "execution_count": 12,
      "metadata": {
        "id": "BrhojsCViCTk",
        "outputId": "7e3c14ef-88d6-4315-afd9-f5d547fa8c2e",
        "colab": {
          "base_uri": "https://localhost:8080/"
        }
      },
      "outputs": [
        {
          "output_type": "execute_result",
          "data": {
            "text/plain": [
              "99999999    1\n",
              "27322222    1\n",
              "12345678    3\n",
              "11111111    2\n",
              "10000000    1\n",
              "3890000     1\n",
              "1300000     1\n",
              "1234566     1\n",
              "999999      2\n",
              "999990      1\n",
              "350000      1\n",
              "345000      1\n",
              "299000      1\n",
              "295000      1\n",
              "265000      1\n",
              "259000      1\n",
              "250000      1\n",
              "220000      1\n",
              "198000      1\n",
              "197000      1\n",
              "Name: price_dol, dtype: int64"
            ]
          },
          "metadata": {},
          "execution_count": 12
        }
      ],
      "source": [
        "cars['price_dol'].value_counts().sort_index(ascending = False).head(20)"
      ]
    },
    {
      "cell_type": "code",
      "execution_count": 13,
      "metadata": {
        "id": "wwX8Bl5QiCTl",
        "outputId": "438152a9-b109-4de3-973d-5f4095f312ca",
        "colab": {
          "base_uri": "https://localhost:8080/"
        }
      },
      "outputs": [
        {
          "output_type": "execute_result",
          "data": {
            "text/plain": [
              "0     1421\n",
              "1      156\n",
              "2        3\n",
              "3        1\n",
              "5        2\n",
              "8        1\n",
              "9        1\n",
              "10       7\n",
              "11       2\n",
              "12       3\n",
              "13       2\n",
              "14       1\n",
              "15       2\n",
              "17       3\n",
              "18       1\n",
              "20       4\n",
              "25       5\n",
              "29       1\n",
              "30       7\n",
              "35       1\n",
              "Name: price_dol, dtype: int64"
            ]
          },
          "metadata": {},
          "execution_count": 13
        }
      ],
      "source": [
        "cars['price_dol'].value_counts().sort_index(ascending = True).head(20)"
      ]
    },
    {
      "cell_type": "markdown",
      "metadata": {
        "id": "vX2_Df92iCTl"
      },
      "source": [
        "As we see above we have cars which cost 0\\\\$ and cars which cost 999990$ and more. That's why we chose cars' prices between 1\\\\$ and 350001\\\\$. We did it below."
      ]
    },
    {
      "cell_type": "code",
      "execution_count": 14,
      "metadata": {
        "id": "SzdN4qwpiCTl",
        "outputId": "62ffed35-7c42-473e-abff-91de3e5b7856",
        "colab": {
          "base_uri": "https://localhost:8080/"
        }
      },
      "outputs": [
        {
          "output_type": "execute_result",
          "data": {
            "text/plain": [
              "count     48565.000000\n",
              "mean       5888.935591\n",
              "std        9059.854754\n",
              "min           1.000000\n",
              "25%        1200.000000\n",
              "50%        3000.000000\n",
              "75%        7490.000000\n",
              "max      350000.000000\n",
              "Name: price_dol, dtype: float64"
            ]
          },
          "metadata": {},
          "execution_count": 14
        }
      ],
      "source": [
        "cars = cars[cars['price_dol'].between(1, 350001)]\n",
        "cars['price_dol'].describe()"
      ]
    },
    {
      "cell_type": "markdown",
      "metadata": {
        "id": "w_g66x6CiCTl"
      },
      "source": [
        "## Exploring and cleaning odometer_km"
      ]
    },
    {
      "cell_type": "code",
      "execution_count": 15,
      "metadata": {
        "id": "ltf0RUjIiCTl",
        "outputId": "a300f314-b0c2-41ce-ae21-3c1eb4ffda22",
        "colab": {
          "base_uri": "https://localhost:8080/"
        }
      },
      "outputs": [
        {
          "output_type": "execute_result",
          "data": {
            "text/plain": [
              "count     48565.000000\n",
              "mean     125770.101925\n",
              "std       39788.636804\n",
              "min        5000.000000\n",
              "25%      125000.000000\n",
              "50%      150000.000000\n",
              "75%      150000.000000\n",
              "max      150000.000000\n",
              "Name: odometer_km, dtype: float64"
            ]
          },
          "metadata": {},
          "execution_count": 15
        }
      ],
      "source": [
        "cars['odometer_km'].describe()"
      ]
    },
    {
      "cell_type": "markdown",
      "metadata": {
        "id": "B4x1kwKkiCTl"
      },
      "source": [
        "As we see odometer column is rounded and we decided that nothing in it is mistake and we didn't have to change anything."
      ]
    },
    {
      "cell_type": "markdown",
      "metadata": {
        "id": "5dYZkgciiCTm"
      },
      "source": [
        "## Exploring and cleaning registration_year and month"
      ]
    },
    {
      "cell_type": "code",
      "execution_count": 16,
      "metadata": {
        "id": "uMpaAW8piCTm",
        "outputId": "b45de083-cd41-4fc7-b2fd-955bc12b0340",
        "colab": {
          "base_uri": "https://localhost:8080/"
        }
      },
      "outputs": [
        {
          "output_type": "execute_result",
          "data": {
            "text/plain": [
              "count    48565.000000\n",
              "mean      2004.755421\n",
              "std         88.643887\n",
              "min       1000.000000\n",
              "25%       1999.000000\n",
              "50%       2004.000000\n",
              "75%       2008.000000\n",
              "max       9999.000000\n",
              "Name: registration_year, dtype: float64"
            ]
          },
          "metadata": {},
          "execution_count": 16
        }
      ],
      "source": [
        "cars['registration_year'].describe()"
      ]
    },
    {
      "cell_type": "markdown",
      "metadata": {
        "id": "IfyJStatiCTm"
      },
      "source": [
        "Above, maximum years is 9999 and it's imposible. Minimum value is 1000 and it historically imposible too. That's we had to find registration year between 1886 (date of creation first car) and now (2022)."
      ]
    },
    {
      "cell_type": "code",
      "execution_count": 17,
      "metadata": {
        "id": "GBD7O7MhiCTm"
      },
      "outputs": [],
      "source": [
        "cars = cars[cars['registration_year'].between(1886, 2022)]"
      ]
    },
    {
      "cell_type": "code",
      "execution_count": 18,
      "metadata": {
        "id": "mbhe-w0DiCTm",
        "outputId": "e8cfc9a6-ec74-4d6f-f028-4ebc19ba36e9",
        "colab": {
          "base_uri": "https://localhost:8080/"
        }
      },
      "outputs": [
        {
          "output_type": "execute_result",
          "data": {
            "text/plain": [
              "count    48545.000000\n",
              "mean      2003.461510\n",
              "std          7.566196\n",
              "min       1910.000000\n",
              "25%       1999.000000\n",
              "50%       2004.000000\n",
              "75%       2008.000000\n",
              "max       2019.000000\n",
              "Name: registration_year, dtype: float64"
            ]
          },
          "metadata": {},
          "execution_count": 18
        }
      ],
      "source": [
        "cars['registration_year'].describe()"
      ]
    },
    {
      "cell_type": "code",
      "execution_count": 19,
      "metadata": {
        "id": "msNun9BeiCTm",
        "outputId": "c376134a-11fe-42ba-dba9-69bd311b3ec5",
        "colab": {
          "base_uri": "https://localhost:8080/"
        }
      },
      "outputs": [
        {
          "output_type": "execute_result",
          "data": {
            "text/plain": [
              "count    48545.000000\n",
              "mean         5.783603\n",
              "std          3.684938\n",
              "min          0.000000\n",
              "25%          3.000000\n",
              "50%          6.000000\n",
              "75%          9.000000\n",
              "max         12.000000\n",
              "Name: registration_month, dtype: float64"
            ]
          },
          "metadata": {},
          "execution_count": 19
        }
      ],
      "source": [
        "cars['registration_month'].describe()"
      ]
    },
    {
      "cell_type": "code",
      "execution_count": 20,
      "metadata": {
        "id": "UQojetnBiCTm",
        "outputId": "4d982a67-871e-434c-fd86-18324fa65b53",
        "colab": {
          "base_uri": "https://localhost:8080/"
        }
      },
      "outputs": [
        {
          "output_type": "execute_result",
          "data": {
            "text/plain": [
              "0    4468\n",
              "Name: registration_month, dtype: int64"
            ]
          },
          "metadata": {},
          "execution_count": 20
        }
      ],
      "source": [
        "cars.loc[cars['registration_month'] == 0, 'registration_month'].value_counts()"
      ]
    },
    {
      "cell_type": "markdown",
      "metadata": {
        "id": "yKUbqxRgiCTn"
      },
      "source": [
        "`registration_month` column has one mistake. It has values equal 0. All know that months numbers are 1 to 12, so we had to drop rows with 0. There were 4468 of these values."
      ]
    },
    {
      "cell_type": "code",
      "execution_count": 21,
      "metadata": {
        "scrolled": true,
        "id": "T9D39TJyiCTn"
      },
      "outputs": [],
      "source": [
        "cars = cars[cars['registration_month'].between(1,12)]"
      ]
    },
    {
      "cell_type": "code",
      "execution_count": 22,
      "metadata": {
        "scrolled": true,
        "id": "btdBP4ZjiCTn",
        "outputId": "f94c8590-594f-4d51-c381-d4a7734407d5",
        "colab": {
          "base_uri": "https://localhost:8080/"
        }
      },
      "outputs": [
        {
          "output_type": "execute_result",
          "data": {
            "text/plain": [
              "count    44077.000000\n",
              "mean         6.369875\n",
              "std          3.349729\n",
              "min          1.000000\n",
              "25%          3.000000\n",
              "50%          6.000000\n",
              "75%          9.000000\n",
              "max         12.000000\n",
              "Name: registration_month, dtype: float64"
            ]
          },
          "metadata": {},
          "execution_count": 22
        }
      ],
      "source": [
        "cars['registration_month'].describe()"
      ]
    },
    {
      "cell_type": "code",
      "execution_count": 23,
      "metadata": {
        "id": "OQ8xVjjgiCTn",
        "outputId": "b69fb0c5-1546-4e1d-b5ec-834e1dcfb039",
        "colab": {
          "base_uri": "https://localhost:8080/"
        }
      },
      "outputs": [
        {
          "output_type": "execute_result",
          "data": {
            "text/plain": [
              "2005    2698\n",
              "1999    2614\n",
              "2000    2594\n",
              "2004    2587\n",
              "2006    2576\n",
              "2003    2538\n",
              "2001    2416\n",
              "2002    2323\n",
              "2007    2194\n",
              "2008    2138\n",
              "1998    2077\n",
              "2009    2034\n",
              "1997    1703\n",
              "2011    1595\n",
              "2010    1562\n",
              "Name: registration_year, dtype: int64"
            ]
          },
          "metadata": {},
          "execution_count": 23
        }
      ],
      "source": [
        "(cars['registration_year'].value_counts()\n",
        "                          .sort_values(ascending = False)\n",
        "                          .head(15))"
      ]
    },
    {
      "cell_type": "markdown",
      "metadata": {
        "id": "rAVFEOyniCTn"
      },
      "source": [
        "The most cars registrated 20 years ago"
      ]
    },
    {
      "cell_type": "markdown",
      "metadata": {
        "id": "DtQl3NQeiCTn"
      },
      "source": [
        "## Exploring and cleaning power_ps"
      ]
    },
    {
      "cell_type": "code",
      "execution_count": 24,
      "metadata": {
        "id": "ZEx2dvOziCTn",
        "outputId": "da4829da-b113-43f7-d286-f932bd020a89",
        "colab": {
          "base_uri": "https://localhost:8080/"
        }
      },
      "outputs": [
        {
          "output_type": "execute_result",
          "data": {
            "text/plain": [
              "count    44077.000000\n",
              "mean       121.987045\n",
              "std        207.906287\n",
              "min          0.000000\n",
              "25%         75.000000\n",
              "50%        110.000000\n",
              "75%        150.000000\n",
              "max      17700.000000\n",
              "Name: power_ps, dtype: float64"
            ]
          },
          "metadata": {},
          "execution_count": 24
        }
      ],
      "source": [
        "cars['power_ps'].describe()"
      ]
    },
    {
      "cell_type": "markdown",
      "metadata": {
        "id": "f16gWGqZiCTn"
      },
      "source": [
        "The fastest car in the world has 1600ps, so this to upper limit of ps value, that why every value over it has to be remove. The car can't have power qual 0, so we had to check it too."
      ]
    },
    {
      "cell_type": "code",
      "execution_count": 25,
      "metadata": {
        "id": "-G0ZCjgLiCTo",
        "outputId": "abd90405-5363-4f21-edea-dc1b960d0b8f",
        "colab": {
          "base_uri": "https://localhost:8080/"
        }
      },
      "outputs": [
        {
          "output_type": "execute_result",
          "data": {
            "text/plain": [
              "0     3266\n",
              "1        5\n",
              "2        1\n",
              "3        2\n",
              "4        3\n",
              "5       10\n",
              "6        3\n",
              "8        2\n",
              "10       2\n",
              "11       4\n",
              "14       1\n",
              "15       3\n",
              "18       4\n",
              "19       1\n",
              "20       2\n",
              "21       1\n",
              "23       3\n",
              "24       1\n",
              "25       1\n",
              "26      23\n",
              "Name: power_ps, dtype: int64"
            ]
          },
          "metadata": {},
          "execution_count": 25
        }
      ],
      "source": [
        "cars['power_ps'].value_counts().sort_index().head(20)"
      ]
    },
    {
      "cell_type": "code",
      "execution_count": 26,
      "metadata": {
        "id": "T_9nryo_iCTo",
        "outputId": "bb5ac90c-16fd-4614-a825-7dcbe795df9a",
        "colab": {
          "base_uri": "https://localhost:8080/"
        }
      },
      "outputs": [
        {
          "output_type": "execute_result",
          "data": {
            "text/plain": [
              "28"
            ]
          },
          "metadata": {},
          "execution_count": 26
        }
      ],
      "source": [
        "cars.loc[cars['power_ps'] > 1600, 'power_ps'].value_counts().sum()"
      ]
    },
    {
      "cell_type": "code",
      "execution_count": 27,
      "metadata": {
        "id": "by408KIPiCTo"
      },
      "outputs": [],
      "source": [
        "cars = cars[cars['power_ps'].between(1, 1601)]"
      ]
    },
    {
      "cell_type": "code",
      "execution_count": 28,
      "metadata": {
        "id": "4n-m8rVTiCTo",
        "outputId": "958c34f0-af7e-40f1-b1fb-71fe55773e55",
        "colab": {
          "base_uri": "https://localhost:8080/"
        }
      },
      "outputs": [
        {
          "output_type": "execute_result",
          "data": {
            "text/plain": [
              "count    40783.000000\n",
              "mean       127.790182\n",
              "std         67.077762\n",
              "min          1.000000\n",
              "25%         80.000000\n",
              "50%        116.000000\n",
              "75%        150.000000\n",
              "max       1405.000000\n",
              "Name: power_ps, dtype: float64"
            ]
          },
          "metadata": {},
          "execution_count": 28
        }
      ],
      "source": [
        "cars['power_ps'].describe()"
      ]
    },
    {
      "cell_type": "code",
      "execution_count": 29,
      "metadata": {
        "scrolled": true,
        "id": "Ouo7g11CiCTo",
        "outputId": "3e7b489e-1786-4a67-ba90-42f9eeb33267",
        "colab": {
          "base_uri": "https://localhost:8080/"
        }
      },
      "outputs": [
        {
          "output_type": "execute_result",
          "data": {
            "text/plain": [
              "75     2785\n",
              "60     1937\n",
              "150    1833\n",
              "140    1790\n",
              "101    1586\n",
              "116    1537\n",
              "90     1535\n",
              "170    1404\n",
              "105    1339\n",
              "136     868\n",
              "Name: power_ps, dtype: int64"
            ]
          },
          "metadata": {},
          "execution_count": 29
        }
      ],
      "source": [
        "cars['power_ps'].value_counts().sort_values(ascending = False).head(10)"
      ]
    },
    {
      "cell_type": "markdown",
      "metadata": {
        "id": "m4VfqdFgiCTo"
      },
      "source": [
        "The most cars have power between 60 and 150 ps."
      ]
    },
    {
      "cell_type": "markdown",
      "metadata": {
        "id": "nGcAv7A0iCTo"
      },
      "source": [
        "## Exploring the date columns"
      ]
    },
    {
      "cell_type": "code",
      "execution_count": 30,
      "metadata": {
        "id": "YETYmkiWiCTo",
        "outputId": "59d6cbd6-f8a5-4795-93ac-2572f484a7b8",
        "colab": {
          "base_uri": "https://localhost:8080/",
          "height": 206
        }
      },
      "outputs": [
        {
          "output_type": "execute_result",
          "data": {
            "text/plain": [
              "          crawled_date           ad_created            last_seen\n",
              "0  2016-03-26 17:47:46  2016-03-26 00:00:00  2016-04-06 06:45:54\n",
              "1  2016-04-04 13:38:56  2016-04-04 00:00:00  2016-04-06 14:45:08\n",
              "2  2016-03-26 18:57:24  2016-03-26 00:00:00  2016-04-06 20:15:37\n",
              "3  2016-03-12 16:58:10  2016-03-12 00:00:00  2016-03-15 03:16:28\n",
              "5  2016-03-21 13:47:45  2016-03-21 00:00:00  2016-04-06 09:45:21"
            ],
            "text/html": [
              "\n",
              "  <div id=\"df-5cb866c0-7332-469e-8565-3adc7f697654\">\n",
              "    <div class=\"colab-df-container\">\n",
              "      <div>\n",
              "<style scoped>\n",
              "    .dataframe tbody tr th:only-of-type {\n",
              "        vertical-align: middle;\n",
              "    }\n",
              "\n",
              "    .dataframe tbody tr th {\n",
              "        vertical-align: top;\n",
              "    }\n",
              "\n",
              "    .dataframe thead th {\n",
              "        text-align: right;\n",
              "    }\n",
              "</style>\n",
              "<table border=\"1\" class=\"dataframe\">\n",
              "  <thead>\n",
              "    <tr style=\"text-align: right;\">\n",
              "      <th></th>\n",
              "      <th>crawled_date</th>\n",
              "      <th>ad_created</th>\n",
              "      <th>last_seen</th>\n",
              "    </tr>\n",
              "  </thead>\n",
              "  <tbody>\n",
              "    <tr>\n",
              "      <th>0</th>\n",
              "      <td>2016-03-26 17:47:46</td>\n",
              "      <td>2016-03-26 00:00:00</td>\n",
              "      <td>2016-04-06 06:45:54</td>\n",
              "    </tr>\n",
              "    <tr>\n",
              "      <th>1</th>\n",
              "      <td>2016-04-04 13:38:56</td>\n",
              "      <td>2016-04-04 00:00:00</td>\n",
              "      <td>2016-04-06 14:45:08</td>\n",
              "    </tr>\n",
              "    <tr>\n",
              "      <th>2</th>\n",
              "      <td>2016-03-26 18:57:24</td>\n",
              "      <td>2016-03-26 00:00:00</td>\n",
              "      <td>2016-04-06 20:15:37</td>\n",
              "    </tr>\n",
              "    <tr>\n",
              "      <th>3</th>\n",
              "      <td>2016-03-12 16:58:10</td>\n",
              "      <td>2016-03-12 00:00:00</td>\n",
              "      <td>2016-03-15 03:16:28</td>\n",
              "    </tr>\n",
              "    <tr>\n",
              "      <th>5</th>\n",
              "      <td>2016-03-21 13:47:45</td>\n",
              "      <td>2016-03-21 00:00:00</td>\n",
              "      <td>2016-04-06 09:45:21</td>\n",
              "    </tr>\n",
              "  </tbody>\n",
              "</table>\n",
              "</div>\n",
              "      <button class=\"colab-df-convert\" onclick=\"convertToInteractive('df-5cb866c0-7332-469e-8565-3adc7f697654')\"\n",
              "              title=\"Convert this dataframe to an interactive table.\"\n",
              "              style=\"display:none;\">\n",
              "        \n",
              "  <svg xmlns=\"http://www.w3.org/2000/svg\" height=\"24px\"viewBox=\"0 0 24 24\"\n",
              "       width=\"24px\">\n",
              "    <path d=\"M0 0h24v24H0V0z\" fill=\"none\"/>\n",
              "    <path d=\"M18.56 5.44l.94 2.06.94-2.06 2.06-.94-2.06-.94-.94-2.06-.94 2.06-2.06.94zm-11 1L8.5 8.5l.94-2.06 2.06-.94-2.06-.94L8.5 2.5l-.94 2.06-2.06.94zm10 10l.94 2.06.94-2.06 2.06-.94-2.06-.94-.94-2.06-.94 2.06-2.06.94z\"/><path d=\"M17.41 7.96l-1.37-1.37c-.4-.4-.92-.59-1.43-.59-.52 0-1.04.2-1.43.59L10.3 9.45l-7.72 7.72c-.78.78-.78 2.05 0 2.83L4 21.41c.39.39.9.59 1.41.59.51 0 1.02-.2 1.41-.59l7.78-7.78 2.81-2.81c.8-.78.8-2.07 0-2.86zM5.41 20L4 18.59l7.72-7.72 1.47 1.35L5.41 20z\"/>\n",
              "  </svg>\n",
              "      </button>\n",
              "      \n",
              "  <style>\n",
              "    .colab-df-container {\n",
              "      display:flex;\n",
              "      flex-wrap:wrap;\n",
              "      gap: 12px;\n",
              "    }\n",
              "\n",
              "    .colab-df-convert {\n",
              "      background-color: #E8F0FE;\n",
              "      border: none;\n",
              "      border-radius: 50%;\n",
              "      cursor: pointer;\n",
              "      display: none;\n",
              "      fill: #1967D2;\n",
              "      height: 32px;\n",
              "      padding: 0 0 0 0;\n",
              "      width: 32px;\n",
              "    }\n",
              "\n",
              "    .colab-df-convert:hover {\n",
              "      background-color: #E2EBFA;\n",
              "      box-shadow: 0px 1px 2px rgba(60, 64, 67, 0.3), 0px 1px 3px 1px rgba(60, 64, 67, 0.15);\n",
              "      fill: #174EA6;\n",
              "    }\n",
              "\n",
              "    [theme=dark] .colab-df-convert {\n",
              "      background-color: #3B4455;\n",
              "      fill: #D2E3FC;\n",
              "    }\n",
              "\n",
              "    [theme=dark] .colab-df-convert:hover {\n",
              "      background-color: #434B5C;\n",
              "      box-shadow: 0px 1px 3px 1px rgba(0, 0, 0, 0.15);\n",
              "      filter: drop-shadow(0px 1px 2px rgba(0, 0, 0, 0.3));\n",
              "      fill: #FFFFFF;\n",
              "    }\n",
              "  </style>\n",
              "\n",
              "      <script>\n",
              "        const buttonEl =\n",
              "          document.querySelector('#df-5cb866c0-7332-469e-8565-3adc7f697654 button.colab-df-convert');\n",
              "        buttonEl.style.display =\n",
              "          google.colab.kernel.accessAllowed ? 'block' : 'none';\n",
              "\n",
              "        async function convertToInteractive(key) {\n",
              "          const element = document.querySelector('#df-5cb866c0-7332-469e-8565-3adc7f697654');\n",
              "          const dataTable =\n",
              "            await google.colab.kernel.invokeFunction('convertToInteractive',\n",
              "                                                     [key], {});\n",
              "          if (!dataTable) return;\n",
              "\n",
              "          const docLinkHtml = 'Like what you see? Visit the ' +\n",
              "            '<a target=\"_blank\" href=https://colab.research.google.com/notebooks/data_table.ipynb>data table notebook</a>'\n",
              "            + ' to learn more about interactive tables.';\n",
              "          element.innerHTML = '';\n",
              "          dataTable['output_type'] = 'display_data';\n",
              "          await google.colab.output.renderOutput(dataTable, element);\n",
              "          const docLink = document.createElement('div');\n",
              "          docLink.innerHTML = docLinkHtml;\n",
              "          element.appendChild(docLink);\n",
              "        }\n",
              "      </script>\n",
              "    </div>\n",
              "  </div>\n",
              "  "
            ]
          },
          "metadata": {},
          "execution_count": 30
        }
      ],
      "source": [
        "cars[['crawled_date','ad_created','last_seen']][0:5]"
      ]
    },
    {
      "cell_type": "code",
      "execution_count": 31,
      "metadata": {
        "id": "aOvqCs4NiCTp",
        "outputId": "6486dadb-75ef-4d1b-c471-ba6d0a72347e",
        "colab": {
          "base_uri": "https://localhost:8080/"
        }
      },
      "outputs": [
        {
          "output_type": "execute_result",
          "data": {
            "text/plain": [
              "2016-03-05    0.025403\n",
              "2016-03-06    0.014295\n",
              "2016-03-07    0.036241\n",
              "2016-03-08    0.032906\n",
              "2016-03-09    0.032317\n",
              "2016-03-10    0.032366\n",
              "2016-03-11    0.032489\n",
              "2016-03-12    0.037270\n",
              "2016-03-13    0.015570\n",
              "2016-03-14    0.036854\n",
              "2016-03-15    0.034009\n",
              "2016-03-16    0.029301\n",
              "2016-03-17    0.031214\n",
              "2016-03-18    0.012922\n",
              "2016-03-19    0.034451\n",
              "2016-03-20    0.038398\n",
              "2016-03-21    0.037270\n",
              "2016-03-22    0.032881\n",
              "2016-03-23    0.031631\n",
              "2016-03-24    0.029179\n",
              "2016-03-25    0.031459\n",
              "2016-03-26    0.032587\n",
              "2016-03-27    0.030920\n",
              "2016-03-28    0.035309\n",
              "2016-03-29    0.033372\n",
              "2016-03-30    0.033298\n",
              "2016-03-31    0.032170\n",
              "2016-04-01    0.034279\n",
              "2016-04-02    0.035603\n",
              "2016-04-03    0.039158\n",
              "2016-04-04    0.036976\n",
              "2016-04-05    0.013290\n",
              "2016-04-06    0.003188\n",
              "2016-04-07    0.001422\n",
              "Name: crawled_date, dtype: float64"
            ]
          },
          "metadata": {},
          "execution_count": 31
        }
      ],
      "source": [
        "(cars['crawled_date'].str[:10]\n",
        "                     .value_counts(normalize = True, dropna = False)\n",
        "                     .sort_index())"
      ]
    },
    {
      "cell_type": "code",
      "execution_count": 32,
      "metadata": {
        "id": "913un8iqiCTp",
        "outputId": "e83db29d-4da5-46a9-9f6b-eecd48d36ae3",
        "colab": {
          "base_uri": "https://localhost:8080/"
        }
      },
      "outputs": [
        {
          "output_type": "execute_result",
          "data": {
            "text/plain": [
              "2016-03-05    0.001030\n",
              "2016-03-06    0.003899\n",
              "2016-03-07    0.005051\n",
              "2016-03-08    0.006792\n",
              "2016-03-09    0.009220\n",
              "2016-03-10    0.010274\n",
              "2016-03-11    0.011868\n",
              "2016-03-12    0.023466\n",
              "2016-03-13    0.008459\n",
              "2016-03-14    0.012407\n",
              "2016-03-15    0.015497\n",
              "2016-03-16    0.015913\n",
              "2016-03-17    0.027119\n",
              "2016-03-18    0.007233\n",
              "2016-03-19    0.015644\n",
              "2016-03-20    0.020254\n",
              "2016-03-21    0.019959\n",
              "2016-03-22    0.020817\n",
              "2016-03-23    0.018292\n",
              "2016-03-24    0.019273\n",
              "2016-03-25    0.018856\n",
              "2016-03-26    0.016330\n",
              "2016-03-27    0.014884\n",
              "2016-03-28    0.020474\n",
              "2016-03-29    0.021921\n",
              "2016-03-30    0.024667\n",
              "2016-03-31    0.023294\n",
              "2016-04-01    0.023269\n",
              "2016-04-02    0.025231\n",
              "2016-04-03    0.024839\n",
              "2016-04-04    0.023809\n",
              "2016-04-05    0.128264\n",
              "2016-04-06    0.227055\n",
              "2016-04-07    0.134639\n",
              "Name: last_seen, dtype: float64"
            ]
          },
          "metadata": {},
          "execution_count": 32
        }
      ],
      "source": [
        "(cars['last_seen'].str[:10]\n",
        "                     .value_counts(normalize = True, dropna = False)\n",
        "                     .sort_index())"
      ]
    },
    {
      "cell_type": "markdown",
      "metadata": {
        "id": "D7u1RZfjiCTp"
      },
      "source": [
        "As we see above, columns `crawled_date` and `last_seen` are percentages similar. The ads were crawled day by day for two months (March and April). Three last rows in `last_seen` column are diferent and disturb the rest of distribution. This values are higher than earlier but it's not because of sale many car, but probably bacause ending the crawled."
      ]
    },
    {
      "cell_type": "code",
      "execution_count": 33,
      "metadata": {
        "id": "Y4ga3esiiCTp",
        "outputId": "9d4b034c-3e8e-4c32-cc78-3fcf428aaa52",
        "colab": {
          "base_uri": "https://localhost:8080/"
        }
      },
      "outputs": [
        {
          "output_type": "execute_result",
          "data": {
            "text/plain": [
              "2015-08-10    0.000025\n",
              "2015-09-09    0.000025\n",
              "2015-11-10    0.000025\n",
              "2015-12-05    0.000025\n",
              "2015-12-30    0.000025\n",
              "                ...   \n",
              "2016-04-03    0.039355\n",
              "2016-04-04    0.037369\n",
              "2016-04-05    0.011990\n",
              "2016-04-06    0.003286\n",
              "2016-04-07    0.001251\n",
              "Name: ad_created, Length: 74, dtype: float64"
            ]
          },
          "metadata": {},
          "execution_count": 33
        }
      ],
      "source": [
        "(cars['ad_created'].str[:10]\n",
        "                     .value_counts(normalize = True, dropna = False)\n",
        "                     .sort_index())"
      ]
    },
    {
      "cell_type": "markdown",
      "metadata": {
        "id": "ficdkc1OiCTp"
      },
      "source": [
        "The most ads were created in two months (March and April) and that months tally with `crawled_date` and `last_seen` columns. But in `ad_created` column we saw records which had ads created 9 month earlier than first record in `crawled_date` column."
      ]
    },
    {
      "cell_type": "markdown",
      "metadata": {
        "id": "T_030C9aiCTp"
      },
      "source": [
        "## Exploring Price by brand"
      ]
    },
    {
      "cell_type": "markdown",
      "metadata": {
        "id": "UfrtzG1hiCTp"
      },
      "source": [
        "We chose top 20 brands and explore mean price of car."
      ]
    },
    {
      "cell_type": "code",
      "execution_count": 34,
      "metadata": {
        "id": "9zQZ3A6liCTq"
      },
      "outputs": [],
      "source": [
        "def means_by_brand(dataset, brand_column, mean_column):\n",
        "    '''\n",
        "    dataset - variable with data (dataframe)\n",
        "    brand_column - name of column with brands (string)\n",
        "    mean_column - name of column witch we want calcuate mean (string)\n",
        "    '''\n",
        "    mean_by_brands = {}\n",
        "    \n",
        "    brands = dataset[brand_column].value_counts(normalize = True).head(20).index\n",
        "    \n",
        "    for brand in brands:\n",
        "        one_brand = dataset[dataset[brand_column] == brand]\n",
        "        mean_value = one_brand[mean_column].mean()\n",
        "        mean_by_brands[brand] = int(mean_value)\n",
        "        \n",
        "    return mean_by_brands"
      ]
    },
    {
      "cell_type": "code",
      "execution_count": 35,
      "metadata": {
        "id": "sZ_vcYQ8iCTq",
        "outputId": "46dc63e9-96c3-4c47-ddab-32d1f83950f4",
        "colab": {
          "base_uri": "https://localhost:8080/"
        }
      },
      "outputs": [
        {
          "output_type": "execute_result",
          "data": {
            "text/plain": [
              "{'volkswagen': 5887,\n",
              " 'bmw': 8793,\n",
              " 'opel': 3272,\n",
              " 'mercedes_benz': 9083,\n",
              " 'audi': 9958,\n",
              " 'ford': 4062,\n",
              " 'renault': 2705,\n",
              " 'peugeot': 3318,\n",
              " 'fiat': 3035,\n",
              " 'seat': 4722,\n",
              " 'skoda': 6748,\n",
              " 'nissan': 5201,\n",
              " 'mazda': 4513,\n",
              " 'smart': 3775,\n",
              " 'citroen': 3973,\n",
              " 'toyota': 5366,\n",
              " 'hyundai': 5753,\n",
              " 'mini': 10719,\n",
              " 'volvo': 5191,\n",
              " 'honda': 4410}"
            ]
          },
          "metadata": {},
          "execution_count": 35
        }
      ],
      "source": [
        "mean_price = means_by_brand(cars, 'brand', 'price_dol')\n",
        "mean_price"
      ]
    },
    {
      "cell_type": "markdown",
      "metadata": {
        "id": "SY9YKjaeiCTq"
      },
      "source": [
        "Top 5 most expensive cars are:\n",
        "1. mini\n",
        "2. audi\n",
        "3. mercedes_benz\n",
        "4. bmw\n",
        "5. skoda\n",
        "\n",
        "So we can conclude that:\n",
        "* Audi, mercedes and bwm are expensive and luxury cars. \n",
        "* Opel and ford are chipper cars but still good.\n",
        "* Skoda and volkswagen are the best option for both fiancial status. \n",
        "\n",
        "We deduct some brands in conclusion because some of them has low value of percentage of the total values."
      ]
    },
    {
      "cell_type": "markdown",
      "metadata": {
        "id": "jmHE1ofFiCTq"
      },
      "source": [
        "## Storing Aggregate Data in a DataFrame"
      ]
    },
    {
      "cell_type": "markdown",
      "metadata": {
        "id": "sJoZ5mVkiCTq"
      },
      "source": [
        "Below we created new data frame which store aggraagate data about mean price and mean mileage for top 20 brands."
      ]
    },
    {
      "cell_type": "code",
      "execution_count": 36,
      "metadata": {
        "id": "_R7Eenv2iCTq"
      },
      "outputs": [],
      "source": [
        "mileage = means_by_brand(cars, 'brand', 'odometer_km')"
      ]
    },
    {
      "cell_type": "code",
      "execution_count": 37,
      "metadata": {
        "id": "2Wb9a4HqiCTq"
      },
      "outputs": [],
      "source": [
        "brand_info = pd.DataFrame(pd.Series(mean_price), \n",
        "                          columns=['mean_price'])\n",
        "brand_info['mileage'] = pd.Series(mileage)"
      ]
    },
    {
      "cell_type": "code",
      "execution_count": 38,
      "metadata": {
        "id": "MO4xyWs9iCTq",
        "outputId": "886aa7d0-5bba-4c4a-f9d1-67201569720a",
        "colab": {
          "base_uri": "https://localhost:8080/",
          "height": 676
        }
      },
      "outputs": [
        {
          "output_type": "execute_result",
          "data": {
            "text/plain": [
              "               mean_price  mileage\n",
              "volkswagen           5887   127832\n",
              "bmw                  8793   132327\n",
              "opel                 3272   128519\n",
              "mercedes_benz        9083   130502\n",
              "audi                 9958   128279\n",
              "ford                 4062   123761\n",
              "renault              2705   126797\n",
              "peugeot              3318   125756\n",
              "fiat                 3035   116380\n",
              "seat                 4722   120427\n",
              "skoda                6748   109505\n",
              "nissan               5201   116473\n",
              "mazda                4513   123180\n",
              "smart                3775    98273\n",
              "citroen              3973   118419\n",
              "toyota               5366   115018\n",
              "hyundai              5753   104539\n",
              "mini                10719    88524\n",
              "volvo                5191   138363\n",
              "honda                4410   122286"
            ],
            "text/html": [
              "\n",
              "  <div id=\"df-3c15c7ed-164e-4142-ab2e-e50f24bbbdea\">\n",
              "    <div class=\"colab-df-container\">\n",
              "      <div>\n",
              "<style scoped>\n",
              "    .dataframe tbody tr th:only-of-type {\n",
              "        vertical-align: middle;\n",
              "    }\n",
              "\n",
              "    .dataframe tbody tr th {\n",
              "        vertical-align: top;\n",
              "    }\n",
              "\n",
              "    .dataframe thead th {\n",
              "        text-align: right;\n",
              "    }\n",
              "</style>\n",
              "<table border=\"1\" class=\"dataframe\">\n",
              "  <thead>\n",
              "    <tr style=\"text-align: right;\">\n",
              "      <th></th>\n",
              "      <th>mean_price</th>\n",
              "      <th>mileage</th>\n",
              "    </tr>\n",
              "  </thead>\n",
              "  <tbody>\n",
              "    <tr>\n",
              "      <th>volkswagen</th>\n",
              "      <td>5887</td>\n",
              "      <td>127832</td>\n",
              "    </tr>\n",
              "    <tr>\n",
              "      <th>bmw</th>\n",
              "      <td>8793</td>\n",
              "      <td>132327</td>\n",
              "    </tr>\n",
              "    <tr>\n",
              "      <th>opel</th>\n",
              "      <td>3272</td>\n",
              "      <td>128519</td>\n",
              "    </tr>\n",
              "    <tr>\n",
              "      <th>mercedes_benz</th>\n",
              "      <td>9083</td>\n",
              "      <td>130502</td>\n",
              "    </tr>\n",
              "    <tr>\n",
              "      <th>audi</th>\n",
              "      <td>9958</td>\n",
              "      <td>128279</td>\n",
              "    </tr>\n",
              "    <tr>\n",
              "      <th>ford</th>\n",
              "      <td>4062</td>\n",
              "      <td>123761</td>\n",
              "    </tr>\n",
              "    <tr>\n",
              "      <th>renault</th>\n",
              "      <td>2705</td>\n",
              "      <td>126797</td>\n",
              "    </tr>\n",
              "    <tr>\n",
              "      <th>peugeot</th>\n",
              "      <td>3318</td>\n",
              "      <td>125756</td>\n",
              "    </tr>\n",
              "    <tr>\n",
              "      <th>fiat</th>\n",
              "      <td>3035</td>\n",
              "      <td>116380</td>\n",
              "    </tr>\n",
              "    <tr>\n",
              "      <th>seat</th>\n",
              "      <td>4722</td>\n",
              "      <td>120427</td>\n",
              "    </tr>\n",
              "    <tr>\n",
              "      <th>skoda</th>\n",
              "      <td>6748</td>\n",
              "      <td>109505</td>\n",
              "    </tr>\n",
              "    <tr>\n",
              "      <th>nissan</th>\n",
              "      <td>5201</td>\n",
              "      <td>116473</td>\n",
              "    </tr>\n",
              "    <tr>\n",
              "      <th>mazda</th>\n",
              "      <td>4513</td>\n",
              "      <td>123180</td>\n",
              "    </tr>\n",
              "    <tr>\n",
              "      <th>smart</th>\n",
              "      <td>3775</td>\n",
              "      <td>98273</td>\n",
              "    </tr>\n",
              "    <tr>\n",
              "      <th>citroen</th>\n",
              "      <td>3973</td>\n",
              "      <td>118419</td>\n",
              "    </tr>\n",
              "    <tr>\n",
              "      <th>toyota</th>\n",
              "      <td>5366</td>\n",
              "      <td>115018</td>\n",
              "    </tr>\n",
              "    <tr>\n",
              "      <th>hyundai</th>\n",
              "      <td>5753</td>\n",
              "      <td>104539</td>\n",
              "    </tr>\n",
              "    <tr>\n",
              "      <th>mini</th>\n",
              "      <td>10719</td>\n",
              "      <td>88524</td>\n",
              "    </tr>\n",
              "    <tr>\n",
              "      <th>volvo</th>\n",
              "      <td>5191</td>\n",
              "      <td>138363</td>\n",
              "    </tr>\n",
              "    <tr>\n",
              "      <th>honda</th>\n",
              "      <td>4410</td>\n",
              "      <td>122286</td>\n",
              "    </tr>\n",
              "  </tbody>\n",
              "</table>\n",
              "</div>\n",
              "      <button class=\"colab-df-convert\" onclick=\"convertToInteractive('df-3c15c7ed-164e-4142-ab2e-e50f24bbbdea')\"\n",
              "              title=\"Convert this dataframe to an interactive table.\"\n",
              "              style=\"display:none;\">\n",
              "        \n",
              "  <svg xmlns=\"http://www.w3.org/2000/svg\" height=\"24px\"viewBox=\"0 0 24 24\"\n",
              "       width=\"24px\">\n",
              "    <path d=\"M0 0h24v24H0V0z\" fill=\"none\"/>\n",
              "    <path d=\"M18.56 5.44l.94 2.06.94-2.06 2.06-.94-2.06-.94-.94-2.06-.94 2.06-2.06.94zm-11 1L8.5 8.5l.94-2.06 2.06-.94-2.06-.94L8.5 2.5l-.94 2.06-2.06.94zm10 10l.94 2.06.94-2.06 2.06-.94-2.06-.94-.94-2.06-.94 2.06-2.06.94z\"/><path d=\"M17.41 7.96l-1.37-1.37c-.4-.4-.92-.59-1.43-.59-.52 0-1.04.2-1.43.59L10.3 9.45l-7.72 7.72c-.78.78-.78 2.05 0 2.83L4 21.41c.39.39.9.59 1.41.59.51 0 1.02-.2 1.41-.59l7.78-7.78 2.81-2.81c.8-.78.8-2.07 0-2.86zM5.41 20L4 18.59l7.72-7.72 1.47 1.35L5.41 20z\"/>\n",
              "  </svg>\n",
              "      </button>\n",
              "      \n",
              "  <style>\n",
              "    .colab-df-container {\n",
              "      display:flex;\n",
              "      flex-wrap:wrap;\n",
              "      gap: 12px;\n",
              "    }\n",
              "\n",
              "    .colab-df-convert {\n",
              "      background-color: #E8F0FE;\n",
              "      border: none;\n",
              "      border-radius: 50%;\n",
              "      cursor: pointer;\n",
              "      display: none;\n",
              "      fill: #1967D2;\n",
              "      height: 32px;\n",
              "      padding: 0 0 0 0;\n",
              "      width: 32px;\n",
              "    }\n",
              "\n",
              "    .colab-df-convert:hover {\n",
              "      background-color: #E2EBFA;\n",
              "      box-shadow: 0px 1px 2px rgba(60, 64, 67, 0.3), 0px 1px 3px 1px rgba(60, 64, 67, 0.15);\n",
              "      fill: #174EA6;\n",
              "    }\n",
              "\n",
              "    [theme=dark] .colab-df-convert {\n",
              "      background-color: #3B4455;\n",
              "      fill: #D2E3FC;\n",
              "    }\n",
              "\n",
              "    [theme=dark] .colab-df-convert:hover {\n",
              "      background-color: #434B5C;\n",
              "      box-shadow: 0px 1px 3px 1px rgba(0, 0, 0, 0.15);\n",
              "      filter: drop-shadow(0px 1px 2px rgba(0, 0, 0, 0.3));\n",
              "      fill: #FFFFFF;\n",
              "    }\n",
              "  </style>\n",
              "\n",
              "      <script>\n",
              "        const buttonEl =\n",
              "          document.querySelector('#df-3c15c7ed-164e-4142-ab2e-e50f24bbbdea button.colab-df-convert');\n",
              "        buttonEl.style.display =\n",
              "          google.colab.kernel.accessAllowed ? 'block' : 'none';\n",
              "\n",
              "        async function convertToInteractive(key) {\n",
              "          const element = document.querySelector('#df-3c15c7ed-164e-4142-ab2e-e50f24bbbdea');\n",
              "          const dataTable =\n",
              "            await google.colab.kernel.invokeFunction('convertToInteractive',\n",
              "                                                     [key], {});\n",
              "          if (!dataTable) return;\n",
              "\n",
              "          const docLinkHtml = 'Like what you see? Visit the ' +\n",
              "            '<a target=\"_blank\" href=https://colab.research.google.com/notebooks/data_table.ipynb>data table notebook</a>'\n",
              "            + ' to learn more about interactive tables.';\n",
              "          element.innerHTML = '';\n",
              "          dataTable['output_type'] = 'display_data';\n",
              "          await google.colab.output.renderOutput(dataTable, element);\n",
              "          const docLink = document.createElement('div');\n",
              "          docLink.innerHTML = docLinkHtml;\n",
              "          element.appendChild(docLink);\n",
              "        }\n",
              "      </script>\n",
              "    </div>\n",
              "  </div>\n",
              "  "
            ]
          },
          "metadata": {},
          "execution_count": 38
        }
      ],
      "source": [
        "brand_info"
      ]
    },
    {
      "cell_type": "markdown",
      "metadata": {
        "id": "uPpPuDL5iCTr"
      },
      "source": [
        "As we see above, all cars have similar mileage what confirm our earlier conclusion. And at the end of this project we can say that opel and ford are cheap cars with same mileage like 'luxury' cars (mean bmw, audi and mercedes_benz). Namely skoda and volkswagen are for both clients with high standrads and low. We can ad that skoda has lower mileage than volkswagen but volkswagen is cheaper. So, something for something."
      ]
    },
    {
      "cell_type": "markdown",
      "metadata": {
        "id": "b6AWd9EUiCTr"
      },
      "source": [
        "## Translating german words to english eqivalent"
      ]
    },
    {
      "cell_type": "code",
      "execution_count": 39,
      "metadata": {
        "id": "9kWYXf7DiCTr",
        "outputId": "c62b0fe9-8258-424c-bd9b-59447f228029",
        "colab": {
          "base_uri": "https://localhost:8080/",
          "height": 363
        }
      },
      "outputs": [
        {
          "output_type": "execute_result",
          "data": {
            "text/plain": [
              "   vehicle_type    gearbox    model fuel_type unrepaired_damage\n",
              "0           bus    manuell   andere       lpg              nein\n",
              "1     limousine  automatik      7er    benzin              nein\n",
              "2     limousine    manuell     golf    benzin              nein\n",
              "3    kleinwagen  automatik   fortwo    benzin              nein\n",
              "5           bus  automatik  voyager    diesel               NaN\n",
              "6     limousine    manuell     golf    benzin               NaN\n",
              "7     limousine    manuell     golf    diesel              nein\n",
              "9           bus    manuell   megane    benzin              nein\n",
              "10          NaN    manuell      NaN    benzin              nein\n",
              "12   kleinwagen  automatik   fortwo    benzin              nein"
            ],
            "text/html": [
              "\n",
              "  <div id=\"df-5cdcd2b3-0f7e-47b9-895c-cd2bac9a638a\">\n",
              "    <div class=\"colab-df-container\">\n",
              "      <div>\n",
              "<style scoped>\n",
              "    .dataframe tbody tr th:only-of-type {\n",
              "        vertical-align: middle;\n",
              "    }\n",
              "\n",
              "    .dataframe tbody tr th {\n",
              "        vertical-align: top;\n",
              "    }\n",
              "\n",
              "    .dataframe thead th {\n",
              "        text-align: right;\n",
              "    }\n",
              "</style>\n",
              "<table border=\"1\" class=\"dataframe\">\n",
              "  <thead>\n",
              "    <tr style=\"text-align: right;\">\n",
              "      <th></th>\n",
              "      <th>vehicle_type</th>\n",
              "      <th>gearbox</th>\n",
              "      <th>model</th>\n",
              "      <th>fuel_type</th>\n",
              "      <th>unrepaired_damage</th>\n",
              "    </tr>\n",
              "  </thead>\n",
              "  <tbody>\n",
              "    <tr>\n",
              "      <th>0</th>\n",
              "      <td>bus</td>\n",
              "      <td>manuell</td>\n",
              "      <td>andere</td>\n",
              "      <td>lpg</td>\n",
              "      <td>nein</td>\n",
              "    </tr>\n",
              "    <tr>\n",
              "      <th>1</th>\n",
              "      <td>limousine</td>\n",
              "      <td>automatik</td>\n",
              "      <td>7er</td>\n",
              "      <td>benzin</td>\n",
              "      <td>nein</td>\n",
              "    </tr>\n",
              "    <tr>\n",
              "      <th>2</th>\n",
              "      <td>limousine</td>\n",
              "      <td>manuell</td>\n",
              "      <td>golf</td>\n",
              "      <td>benzin</td>\n",
              "      <td>nein</td>\n",
              "    </tr>\n",
              "    <tr>\n",
              "      <th>3</th>\n",
              "      <td>kleinwagen</td>\n",
              "      <td>automatik</td>\n",
              "      <td>fortwo</td>\n",
              "      <td>benzin</td>\n",
              "      <td>nein</td>\n",
              "    </tr>\n",
              "    <tr>\n",
              "      <th>5</th>\n",
              "      <td>bus</td>\n",
              "      <td>automatik</td>\n",
              "      <td>voyager</td>\n",
              "      <td>diesel</td>\n",
              "      <td>NaN</td>\n",
              "    </tr>\n",
              "    <tr>\n",
              "      <th>6</th>\n",
              "      <td>limousine</td>\n",
              "      <td>manuell</td>\n",
              "      <td>golf</td>\n",
              "      <td>benzin</td>\n",
              "      <td>NaN</td>\n",
              "    </tr>\n",
              "    <tr>\n",
              "      <th>7</th>\n",
              "      <td>limousine</td>\n",
              "      <td>manuell</td>\n",
              "      <td>golf</td>\n",
              "      <td>diesel</td>\n",
              "      <td>nein</td>\n",
              "    </tr>\n",
              "    <tr>\n",
              "      <th>9</th>\n",
              "      <td>bus</td>\n",
              "      <td>manuell</td>\n",
              "      <td>megane</td>\n",
              "      <td>benzin</td>\n",
              "      <td>nein</td>\n",
              "    </tr>\n",
              "    <tr>\n",
              "      <th>10</th>\n",
              "      <td>NaN</td>\n",
              "      <td>manuell</td>\n",
              "      <td>NaN</td>\n",
              "      <td>benzin</td>\n",
              "      <td>nein</td>\n",
              "    </tr>\n",
              "    <tr>\n",
              "      <th>12</th>\n",
              "      <td>kleinwagen</td>\n",
              "      <td>automatik</td>\n",
              "      <td>fortwo</td>\n",
              "      <td>benzin</td>\n",
              "      <td>nein</td>\n",
              "    </tr>\n",
              "  </tbody>\n",
              "</table>\n",
              "</div>\n",
              "      <button class=\"colab-df-convert\" onclick=\"convertToInteractive('df-5cdcd2b3-0f7e-47b9-895c-cd2bac9a638a')\"\n",
              "              title=\"Convert this dataframe to an interactive table.\"\n",
              "              style=\"display:none;\">\n",
              "        \n",
              "  <svg xmlns=\"http://www.w3.org/2000/svg\" height=\"24px\"viewBox=\"0 0 24 24\"\n",
              "       width=\"24px\">\n",
              "    <path d=\"M0 0h24v24H0V0z\" fill=\"none\"/>\n",
              "    <path d=\"M18.56 5.44l.94 2.06.94-2.06 2.06-.94-2.06-.94-.94-2.06-.94 2.06-2.06.94zm-11 1L8.5 8.5l.94-2.06 2.06-.94-2.06-.94L8.5 2.5l-.94 2.06-2.06.94zm10 10l.94 2.06.94-2.06 2.06-.94-2.06-.94-.94-2.06-.94 2.06-2.06.94z\"/><path d=\"M17.41 7.96l-1.37-1.37c-.4-.4-.92-.59-1.43-.59-.52 0-1.04.2-1.43.59L10.3 9.45l-7.72 7.72c-.78.78-.78 2.05 0 2.83L4 21.41c.39.39.9.59 1.41.59.51 0 1.02-.2 1.41-.59l7.78-7.78 2.81-2.81c.8-.78.8-2.07 0-2.86zM5.41 20L4 18.59l7.72-7.72 1.47 1.35L5.41 20z\"/>\n",
              "  </svg>\n",
              "      </button>\n",
              "      \n",
              "  <style>\n",
              "    .colab-df-container {\n",
              "      display:flex;\n",
              "      flex-wrap:wrap;\n",
              "      gap: 12px;\n",
              "    }\n",
              "\n",
              "    .colab-df-convert {\n",
              "      background-color: #E8F0FE;\n",
              "      border: none;\n",
              "      border-radius: 50%;\n",
              "      cursor: pointer;\n",
              "      display: none;\n",
              "      fill: #1967D2;\n",
              "      height: 32px;\n",
              "      padding: 0 0 0 0;\n",
              "      width: 32px;\n",
              "    }\n",
              "\n",
              "    .colab-df-convert:hover {\n",
              "      background-color: #E2EBFA;\n",
              "      box-shadow: 0px 1px 2px rgba(60, 64, 67, 0.3), 0px 1px 3px 1px rgba(60, 64, 67, 0.15);\n",
              "      fill: #174EA6;\n",
              "    }\n",
              "\n",
              "    [theme=dark] .colab-df-convert {\n",
              "      background-color: #3B4455;\n",
              "      fill: #D2E3FC;\n",
              "    }\n",
              "\n",
              "    [theme=dark] .colab-df-convert:hover {\n",
              "      background-color: #434B5C;\n",
              "      box-shadow: 0px 1px 3px 1px rgba(0, 0, 0, 0.15);\n",
              "      filter: drop-shadow(0px 1px 2px rgba(0, 0, 0, 0.3));\n",
              "      fill: #FFFFFF;\n",
              "    }\n",
              "  </style>\n",
              "\n",
              "      <script>\n",
              "        const buttonEl =\n",
              "          document.querySelector('#df-5cdcd2b3-0f7e-47b9-895c-cd2bac9a638a button.colab-df-convert');\n",
              "        buttonEl.style.display =\n",
              "          google.colab.kernel.accessAllowed ? 'block' : 'none';\n",
              "\n",
              "        async function convertToInteractive(key) {\n",
              "          const element = document.querySelector('#df-5cdcd2b3-0f7e-47b9-895c-cd2bac9a638a');\n",
              "          const dataTable =\n",
              "            await google.colab.kernel.invokeFunction('convertToInteractive',\n",
              "                                                     [key], {});\n",
              "          if (!dataTable) return;\n",
              "\n",
              "          const docLinkHtml = 'Like what you see? Visit the ' +\n",
              "            '<a target=\"_blank\" href=https://colab.research.google.com/notebooks/data_table.ipynb>data table notebook</a>'\n",
              "            + ' to learn more about interactive tables.';\n",
              "          element.innerHTML = '';\n",
              "          dataTable['output_type'] = 'display_data';\n",
              "          await google.colab.output.renderOutput(dataTable, element);\n",
              "          const docLink = document.createElement('div');\n",
              "          docLink.innerHTML = docLinkHtml;\n",
              "          element.appendChild(docLink);\n",
              "        }\n",
              "      </script>\n",
              "    </div>\n",
              "  </div>\n",
              "  "
            ]
          },
          "metadata": {},
          "execution_count": 39
        }
      ],
      "source": [
        "cars[['vehicle_type', 'gearbox', \n",
        "      'model', 'fuel_type', 'unrepaired_damage']].head(10)"
      ]
    },
    {
      "cell_type": "markdown",
      "metadata": {
        "id": "7vBoXlFaiCTr"
      },
      "source": [
        "As we see, columns above shows strings in german. Our chalange were translating this words to english eqivalent. We did it below."
      ]
    },
    {
      "cell_type": "markdown",
      "metadata": {
        "id": "HZFLdvfOiCTr"
      },
      "source": [
        "### Vehicle_type\n",
        "\n",
        "In this column we had to change only two german words:\n",
        "* kleinwagen to small cars\n",
        "* andere to other"
      ]
    },
    {
      "cell_type": "code",
      "execution_count": 40,
      "metadata": {
        "id": "KndvGQkViCTr",
        "outputId": "5a3fba96-3bc9-43f9-f7a0-f64febab9d3d",
        "colab": {
          "base_uri": "https://localhost:8080/"
        }
      },
      "outputs": [
        {
          "output_type": "execute_result",
          "data": {
            "text/plain": [
              "array(['bus', 'limousine', 'kleinwagen', nan, 'coupe', 'kombi', 'suv',\n",
              "       'cabrio', 'andere'], dtype=object)"
            ]
          },
          "metadata": {},
          "execution_count": 40
        }
      ],
      "source": [
        "cars['vehicle_type'].unique()"
      ]
    },
    {
      "cell_type": "code",
      "execution_count": 41,
      "metadata": {
        "id": "Bxg9kJYhiCTr"
      },
      "outputs": [],
      "source": [
        "cars.loc[cars['vehicle_type'] == 'kleinwagen', 'vehicle_type'] = 'small car'\n",
        "cars.loc[cars['vehicle_type'] == 'andere', 'vehicle_type'] = 'other'"
      ]
    },
    {
      "cell_type": "code",
      "execution_count": 42,
      "metadata": {
        "id": "vO6RM47niCTr",
        "outputId": "3f08afa9-896f-42d3-f2ed-13a33aa7f9b2",
        "colab": {
          "base_uri": "https://localhost:8080/"
        }
      },
      "outputs": [
        {
          "output_type": "execute_result",
          "data": {
            "text/plain": [
              "array(['bus', 'limousine', 'small car', nan, 'coupe', 'kombi', 'suv',\n",
              "       'cabrio', 'other'], dtype=object)"
            ]
          },
          "metadata": {},
          "execution_count": 42
        }
      ],
      "source": [
        "cars['vehicle_type'].unique()"
      ]
    },
    {
      "cell_type": "markdown",
      "metadata": {
        "id": "J6TYzSFCiCTs"
      },
      "source": [
        "### Gearbox\n",
        "\n",
        "Here, we had to change all words to english:\n",
        "* manuell to manual\n",
        "* automatik to automatic"
      ]
    },
    {
      "cell_type": "code",
      "execution_count": 43,
      "metadata": {
        "id": "leCSsSDNiCTs",
        "outputId": "bbe2dd91-8e37-4db5-e69d-22989efe4894",
        "colab": {
          "base_uri": "https://localhost:8080/"
        }
      },
      "outputs": [
        {
          "output_type": "execute_result",
          "data": {
            "text/plain": [
              "array(['manuell', 'automatik', nan], dtype=object)"
            ]
          },
          "metadata": {},
          "execution_count": 43
        }
      ],
      "source": [
        "cars['gearbox'].unique()"
      ]
    },
    {
      "cell_type": "code",
      "execution_count": 44,
      "metadata": {
        "id": "9KfgSXe7iCTs"
      },
      "outputs": [],
      "source": [
        "cars.loc[cars['gearbox'] == 'manuell', 'gearbox'] = 'manual'\n",
        "cars.loc[cars['gearbox'] == 'automatik', 'gearbox'] = 'automatic'"
      ]
    },
    {
      "cell_type": "code",
      "execution_count": 45,
      "metadata": {
        "id": "QvDQAk2tiCTs",
        "outputId": "364cdc13-44bf-498e-8ca3-26230c3400f8",
        "colab": {
          "base_uri": "https://localhost:8080/"
        }
      },
      "outputs": [
        {
          "output_type": "execute_result",
          "data": {
            "text/plain": [
              "array(['manual', 'automatic', nan], dtype=object)"
            ]
          },
          "metadata": {},
          "execution_count": 45
        }
      ],
      "source": [
        "cars['gearbox'].unique()"
      ]
    },
    {
      "cell_type": "markdown",
      "metadata": {
        "id": "GXX8RXbLiCTs"
      },
      "source": [
        "### Car model\n",
        "\n",
        "In this column german words are \"andere\" which we had to change to \"other\". Of course dataset has more german words but changing them will be difficult and very monotonous."
      ]
    },
    {
      "cell_type": "code",
      "execution_count": 46,
      "metadata": {
        "id": "mQ5oOTNfiCTs"
      },
      "outputs": [],
      "source": [
        "cars.loc[cars['model'] == 'andere', 'model'] = 'other'"
      ]
    },
    {
      "cell_type": "markdown",
      "metadata": {
        "id": "Rp6qqIoqiCTs"
      },
      "source": [
        "### Fuel type\n",
        "\n",
        "Here, we had the same situation like above and we just change 'andere' word."
      ]
    },
    {
      "cell_type": "code",
      "execution_count": 47,
      "metadata": {
        "id": "zPGxIOWuiCTs",
        "outputId": "0af99911-885c-4e23-82ad-87466aa27179",
        "colab": {
          "base_uri": "https://localhost:8080/"
        }
      },
      "outputs": [
        {
          "output_type": "execute_result",
          "data": {
            "text/plain": [
              "array(['lpg', 'benzin', 'diesel', nan, 'cng', 'hybrid', 'elektro',\n",
              "       'andere'], dtype=object)"
            ]
          },
          "metadata": {},
          "execution_count": 47
        }
      ],
      "source": [
        "cars['fuel_type'].unique()"
      ]
    },
    {
      "cell_type": "code",
      "execution_count": 48,
      "metadata": {
        "id": "5wocPAlfiCTs"
      },
      "outputs": [],
      "source": [
        "cars.loc[cars['fuel_type'] == 'andere', 'fuel_type'] = 'other'"
      ]
    },
    {
      "cell_type": "code",
      "execution_count": 49,
      "metadata": {
        "id": "kEsD0RbliCTt",
        "outputId": "4eab45d0-eab3-42e9-fc61-0ec2da7a284e",
        "colab": {
          "base_uri": "https://localhost:8080/"
        }
      },
      "outputs": [
        {
          "output_type": "execute_result",
          "data": {
            "text/plain": [
              "array(['lpg', 'benzin', 'diesel', nan, 'cng', 'hybrid', 'elektro',\n",
              "       'other'], dtype=object)"
            ]
          },
          "metadata": {},
          "execution_count": 49
        }
      ],
      "source": [
        "cars['fuel_type'].unique()"
      ]
    },
    {
      "cell_type": "markdown",
      "metadata": {
        "id": "KjYc4Y6KiCTt"
      },
      "source": [
        "### Unrepaired damage\n",
        "\n",
        "This column has two german words (\"nein\", \"ja\"). We changed it to english \"no\" and \"yes\"."
      ]
    },
    {
      "cell_type": "code",
      "execution_count": 50,
      "metadata": {
        "id": "tNAsvtDdiCTt",
        "outputId": "2d7adfce-a6e2-4550-fbd1-721167cbe822",
        "colab": {
          "base_uri": "https://localhost:8080/"
        }
      },
      "outputs": [
        {
          "output_type": "execute_result",
          "data": {
            "text/plain": [
              "array(['nein', nan, 'ja'], dtype=object)"
            ]
          },
          "metadata": {},
          "execution_count": 50
        }
      ],
      "source": [
        "cars['unrepaired_damage'].unique()"
      ]
    },
    {
      "cell_type": "code",
      "execution_count": 51,
      "metadata": {
        "id": "iUcjQ67TiCTt"
      },
      "outputs": [],
      "source": [
        "cars.loc[cars['unrepaired_damage'] == 'ja', 'unrepaired_damage'] = 'yes'\n",
        "cars.loc[cars['unrepaired_damage'] == 'nein', 'unrepaired_damage'] = 'no'"
      ]
    },
    {
      "cell_type": "code",
      "execution_count": 52,
      "metadata": {
        "id": "59kMPMZZiCTt",
        "outputId": "7c2b6c7e-62f8-4472-de7b-14965fcb1e62",
        "colab": {
          "base_uri": "https://localhost:8080/"
        }
      },
      "outputs": [
        {
          "output_type": "execute_result",
          "data": {
            "text/plain": [
              "array(['no', nan, 'yes'], dtype=object)"
            ]
          },
          "metadata": {},
          "execution_count": 52
        }
      ],
      "source": [
        "cars['unrepaired_damage'].unique()"
      ]
    },
    {
      "cell_type": "markdown",
      "metadata": {
        "id": "rqVBZTjUiCTt"
      },
      "source": [
        "## How much cheaper are cars with damage than their non-damaged counterparts?"
      ]
    },
    {
      "cell_type": "code",
      "execution_count": 53,
      "metadata": {
        "id": "diz-5uxMiCTt",
        "outputId": "64f31c17-2bff-4c98-d7c4-29dffe784e40",
        "colab": {
          "base_uri": "https://localhost:8080/"
        }
      },
      "outputs": [
        {
          "output_type": "stream",
          "name": "stdout",
          "text": [
            "Damged cars cost 2461.3647$\n",
            "Non-damaged cars cost 7367.1156$\n"
          ]
        }
      ],
      "source": [
        "damaged_cars_price = round(cars.loc[cars['unrepaired_damage'] == 'yes',\n",
        "                              'price_dol'].mean(), 4)\n",
        "non_damaged_cars_price = round(cars.loc[cars['unrepaired_damage'] == 'no',\n",
        "                              'price_dol'].mean(), 4)\n",
        "\n",
        "print(f'Damged cars cost {damaged_cars_price}$\\nNon-damaged cars cost {non_damaged_cars_price}$')"
      ]
    },
    {
      "cell_type": "markdown",
      "metadata": {
        "id": "f-8dfFQtiCTt"
      },
      "source": [
        "Based on average of prices, concluding is non-damaged cars are expensive 3 times more"
      ]
    }
  ],
  "metadata": {
    "kernelspec": {
      "display_name": "Python 3",
      "language": "python",
      "name": "python3"
    },
    "language_info": {
      "codemirror_mode": {
        "name": "ipython",
        "version": 3
      },
      "file_extension": ".py",
      "mimetype": "text/x-python",
      "name": "python",
      "nbconvert_exporter": "python",
      "pygments_lexer": "ipython3",
      "version": "3.8.2"
    },
    "colab": {
      "provenance": [],
      "toc_visible": true,
      "include_colab_link": true
    }
  },
  "nbformat": 4,
  "nbformat_minor": 0
}