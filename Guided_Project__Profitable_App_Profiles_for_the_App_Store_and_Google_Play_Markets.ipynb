{
  "cells": [
    {
      "cell_type": "markdown",
      "metadata": {
        "id": "view-in-github",
        "colab_type": "text"
      },
      "source": [
        "<a href=\"https://colab.research.google.com/github/KacperKaszuba0608/Projects/blob/main/Guided_Project__Profitable_App_Profiles_for_the_App_Store_and_Google_Play_Markets.ipynb\" target=\"_parent\"><img src=\"https://colab.research.google.com/assets/colab-badge.svg\" alt=\"Open In Colab\"/></a>"
      ]
    },
    {
      "cell_type": "markdown",
      "metadata": {
        "id": "IGlXHBEIX170"
      },
      "source": [
        "# Profitable App Profiles for the App Store and Google Play Markets"
      ]
    },
    {
      "cell_type": "markdown",
      "metadata": {
        "id": "IDUC_3YZX172"
      },
      "source": [
        "## Introduction\n",
        "\n",
        "The aim on this project is to find the most potential genres of apps for developing and bringing the best benefits in both the App Store and Goole Play Markets. The analysis is performed in Python."
      ]
    },
    {
      "cell_type": "markdown",
      "metadata": {
        "id": "EC6KAZXuX172"
      },
      "source": [
        "## Opening and Exploring the Data"
      ]
    },
    {
      "cell_type": "markdown",
      "metadata": {
        "id": "jwVAB3RvX172"
      },
      "source": [
        "Over here I opening the datasets with reader function from csv library, converting result to a list and then explore the datasets with function `explore_data`. As we can see below the numbers of columns are not equal that's why I explore the names of columns and choose the most important to anlysis. If you have problem with understanding colnames you can find and read their description in this links: [App Store data](\"https://www.kaggle.com/datasets/lava18/google-play-store-apps\") and [Google Play data](\"https://www.kaggle.com/datasets/ramamet4/app-store-apple-data-set-10k-apps\")."
      ]
    },
    {
      "cell_type": "code",
      "source": [
        "!wget https://github.com/KacperKaszuba0608/Datasets/raw/main/googleplaystore.csv -O google_wget.csv\n",
        "!wget https://raw.githubusercontent.com/KacperKaszuba0608/Datasets/main/AppleStore.csv -O apple_wget.csv"
      ],
      "metadata": {
        "id": "GknXu2c8as9a",
        "colab": {
          "base_uri": "https://localhost:8080/"
        },
        "outputId": "9c2a601d-1f06-45ff-838e-deb616ea3c5e"
      },
      "execution_count": 1,
      "outputs": [
        {
          "output_type": "stream",
          "name": "stdout",
          "text": [
            "--2023-01-19 18:42:25--  https://github.com/KacperKaszuba0608/Datasets/raw/main/googleplaystore.csv\n",
            "Resolving github.com (github.com)... 140.82.113.3\n",
            "Connecting to github.com (github.com)|140.82.113.3|:443... connected.\n",
            "HTTP request sent, awaiting response... 302 Found\n",
            "Location: https://raw.githubusercontent.com/KacperKaszuba0608/Datasets/main/googleplaystore.csv [following]\n",
            "--2023-01-19 18:42:25--  https://raw.githubusercontent.com/KacperKaszuba0608/Datasets/main/googleplaystore.csv\n",
            "Resolving raw.githubusercontent.com (raw.githubusercontent.com)... 185.199.109.133, 185.199.108.133, 185.199.111.133, ...\n",
            "Connecting to raw.githubusercontent.com (raw.githubusercontent.com)|185.199.109.133|:443... connected.\n",
            "HTTP request sent, awaiting response... 200 OK\n",
            "Length: 1349314 (1.3M) [text/plain]\n",
            "Saving to: ‘google_wget.csv’\n",
            "\n",
            "\rgoogle_wget.csv       0%[                    ]       0  --.-KB/s               \rgoogle_wget.csv     100%[===================>]   1.29M  --.-KB/s    in 0.009s  \n",
            "\n",
            "2023-01-19 18:42:25 (138 MB/s) - ‘google_wget.csv’ saved [1349314/1349314]\n",
            "\n",
            "--2023-01-19 18:42:26--  https://raw.githubusercontent.com/KacperKaszuba0608/Datasets/main/AppleStore.csv\n",
            "Resolving raw.githubusercontent.com (raw.githubusercontent.com)... 185.199.108.133, 185.199.109.133, 185.199.110.133, ...\n",
            "Connecting to raw.githubusercontent.com (raw.githubusercontent.com)|185.199.108.133|:443... connected.\n",
            "HTTP request sent, awaiting response... 200 OK\n",
            "Length: 725761 (709K) [text/plain]\n",
            "Saving to: ‘apple_wget.csv’\n",
            "\n",
            "apple_wget.csv      100%[===================>] 708.75K  --.-KB/s    in 0.004s  \n",
            "\n",
            "2023-01-19 18:42:26 (182 MB/s) - ‘apple_wget.csv’ saved [725761/725761]\n",
            "\n"
          ]
        }
      ]
    },
    {
      "cell_type": "code",
      "execution_count": 2,
      "metadata": {
        "id": "uOL8PINzX173"
      },
      "outputs": [],
      "source": [
        "def explore_data(dataset, start, end, rows_and_columns=False):\n",
        "    dataset_slice = dataset[start:end]    \n",
        "    for row in dataset_slice:\n",
        "        print(row)\n",
        "        print('\\n') # adds a new (empty) line after each row\n",
        "\n",
        "    if rows_and_columns:\n",
        "        print('Number of rows:', len(dataset))\n",
        "        print('Number of columns:', len(dataset[0]))"
      ]
    },
    {
      "cell_type": "code",
      "execution_count": 3,
      "metadata": {
        "id": "wy9Gx-K8X173"
      },
      "outputs": [],
      "source": [
        "from csv import reader\n",
        "data_google = list(reader(open('google_wget.csv')))\n",
        "data_ios = list(reader(open('apple_wget.csv')))\n",
        "\n",
        "ios_header = data_ios[0]\n",
        "ios_set = data_ios[1:]\n",
        "\n",
        "android_header = data_google[0]\n",
        "android_set = data_google[1:]"
      ]
    },
    {
      "cell_type": "code",
      "execution_count": 4,
      "metadata": {
        "id": "HTbFtPKtX174",
        "outputId": "137a2253-15a6-4c86-b8b9-3d24dad1bf08",
        "colab": {
          "base_uri": "https://localhost:8080/"
        }
      },
      "outputs": [
        {
          "output_type": "stream",
          "name": "stdout",
          "text": [
            "['id', 'track_name', 'size_bytes', 'currency', 'price', 'rating_count_tot', 'rating_count_ver', 'user_rating', 'user_rating_ver', 'ver', 'cont_rating', 'prime_genre', 'sup_devices.num', 'ipadSc_urls.num', 'lang.num', 'vpp_lic'] \n",
            "\n",
            "['284882215', 'Facebook', '389879808', 'USD', '0.0', '2974676', '212', '3.5', '3.5', '95.0', '4+', 'Social Networking', '37', '1', '29', '1']\n",
            "\n",
            "\n",
            "['389801252', 'Instagram', '113954816', 'USD', '0.0', '2161558', '1289', '4.5', '4.0', '10.23', '12+', 'Photo & Video', '37', '0', '29', '1']\n",
            "\n",
            "\n",
            "Number of rows: 7197\n",
            "Number of columns: 16\n"
          ]
        }
      ],
      "source": [
        "print(ios_header, '\\n')\n",
        "explore_data(ios_set, 0, 2, True)"
      ]
    },
    {
      "cell_type": "markdown",
      "metadata": {
        "id": "bjgWlxu7X175"
      },
      "source": [
        "As we see above in ios dataset are 7197 rows and 16 columns which the most interesting and usefull are: `track_name`,`currency`, `price`, `rating_count_tot`, `rating_count_ver` and `prime_genre`."
      ]
    },
    {
      "cell_type": "code",
      "execution_count": 5,
      "metadata": {
        "id": "9csqvmQ0X175",
        "outputId": "000534e6-0743-4d09-cad8-3dfd98669111",
        "colab": {
          "base_uri": "https://localhost:8080/"
        }
      },
      "outputs": [
        {
          "output_type": "stream",
          "name": "stdout",
          "text": [
            "['App', 'Category', 'Rating', 'Reviews', 'Size', 'Installs', 'Type', 'Price', 'Content Rating', 'Genres', 'Last Updated', 'Current Ver', 'Android Ver'] \n",
            "\n",
            "['Photo Editor & Candy Camera & Grid & ScrapBook', 'ART_AND_DESIGN', '4.1', '159', '19M', '10,000+', 'Free', '0', 'Everyone', 'Art & Design', 'January 7, 2018', '1.0.0', '4.0.3 and up']\n",
            "\n",
            "\n",
            "['Coloring book moana', 'ART_AND_DESIGN', '3.9', '967', '14M', '500,000+', 'Free', '0', 'Everyone', 'Art & Design;Pretend Play', 'January 15, 2018', '2.0.0', '4.0.3 and up']\n",
            "\n",
            "\n",
            "Number of rows: 10841\n",
            "Number of columns: 13\n"
          ]
        }
      ],
      "source": [
        "print(android_header, '\\n')\n",
        "explore_data(android_set, 0, 2, True)"
      ]
    },
    {
      "cell_type": "markdown",
      "metadata": {
        "id": "yvQvz7j5X175"
      },
      "source": [
        "Android data has 10841 rows and 13 columns which the most intresting for my analysis are: `App`, `Category`, `Reviews`, `Installs`, `Price`, `Content Rating` and `Genres`."
      ]
    },
    {
      "cell_type": "markdown",
      "metadata": {
        "id": "tLFWKEieX175"
      },
      "source": [
        "## Deleting Wrong Data - Data Cleaning\n",
        "\n",
        "In this part of project I detect missing, dulpicate or incorrect data in ios set and android set and then I correct or delete it. In the disscusion on website with dataset's documentations I find some questions and answers about missing or duplicate data. One of them describes one row in android_set has missing value and I have to remove it with `del` function. "
      ]
    },
    {
      "cell_type": "code",
      "execution_count": 6,
      "metadata": {
        "scrolled": true,
        "id": "wYjfbbwMX176"
      },
      "outputs": [],
      "source": [
        "del android_set[10472]"
      ]
    },
    {
      "cell_type": "markdown",
      "metadata": {
        "id": "w-lTdSKfX176"
      },
      "source": [
        "After removing row with missing value I read about duplicate apps in android_set. That's why I wrote a function which finds a duplicate apps. My function return count of duplicate_apps and some exampls of them."
      ]
    },
    {
      "cell_type": "code",
      "execution_count": 7,
      "metadata": {
        "id": "G9MedFbdX176"
      },
      "outputs": [],
      "source": [
        "def check_duplicate(data_set, header = False):\n",
        "    if header:\n",
        "        data_set = data_set[1:]\n",
        "\n",
        "    duplicate_apps = []\n",
        "    apps = []\n",
        "    \n",
        "    for app in data_set:\n",
        "        app_name = app[0]\n",
        "        if app_name in apps:\n",
        "            duplicate_apps.append(app_name)\n",
        "        else:\n",
        "            apps.append(app_name)\n",
        "\n",
        "    print(f'Length of duplicate apps = {len(duplicate_apps)}.', '\\n',\n",
        "          f'Some examples of duplicate apps: {duplicate_apps[0:11]}')"
      ]
    },
    {
      "cell_type": "code",
      "execution_count": 8,
      "metadata": {
        "id": "ZJdA5e0RX176",
        "outputId": "e297e518-3343-47a2-fefd-5464a8d4d3cb",
        "colab": {
          "base_uri": "https://localhost:8080/"
        }
      },
      "outputs": [
        {
          "output_type": "stream",
          "name": "stdout",
          "text": [
            "Length of duplicate apps = 1181. \n",
            " Some examples of duplicate apps: ['Quick PDF Scanner + OCR FREE', 'Box', 'Google My Business', 'ZOOM Cloud Meetings', 'join.me - Simple Meetings', 'Box', 'Zenefits', 'Google Ads', 'Google My Business', 'Slack', 'FreshBooks Classic']\n"
          ]
        }
      ],
      "source": [
        "check_duplicate(android_set)"
      ]
    },
    {
      "cell_type": "markdown",
      "metadata": {
        "id": "12S9bv_SX176"
      },
      "source": [
        "Unfrotunantely I can't remove all duplicate apps, because some of them has a different value in the `Reviews` column. That's why I have to check the reviews value and then keep duplicate apps with max reviews value."
      ]
    },
    {
      "cell_type": "code",
      "execution_count": 9,
      "metadata": {
        "id": "gW5tY2c5X177"
      },
      "outputs": [],
      "source": [
        "def remove_wrong_data(data_set, header = False):\n",
        "    reviews_max = {}\n",
        "    clean_data = []\n",
        "    already_added_apps = []\n",
        "    \n",
        "    if header:\n",
        "        data_set = data_set[1:]\n",
        "\n",
        "    # First step\n",
        "    for app in data_set:\n",
        "        name = app[0]\n",
        "        n_reviews1 = float(app[3])\n",
        "        if name in reviews_max and reviews_max[name] < n_reviews1:\n",
        "            reviews_max[name] = n_reviews1\n",
        "        elif name not in reviews_max:\n",
        "            reviews_max[name] = n_reviews1\n",
        "    \n",
        "    #Second step\n",
        "    for row in data_set:\n",
        "        name = row[0]\n",
        "        n_reviews2 = float(row[3])\n",
        "        \n",
        "        if (reviews_max[name] == n_reviews2) and (name not in already_added_apps):\n",
        "            clean_data.append(row)\n",
        "            already_added_apps.append(name)\n",
        "            \n",
        "    return clean_data"
      ]
    },
    {
      "cell_type": "code",
      "execution_count": 10,
      "metadata": {
        "id": "sg-fncJ4X177",
        "outputId": "086e08e3-68da-4a0e-923c-d09b0dd922b2",
        "colab": {
          "base_uri": "https://localhost:8080/"
        }
      },
      "outputs": [
        {
          "output_type": "stream",
          "name": "stdout",
          "text": [
            "['Photo Editor & Candy Camera & Grid & ScrapBook', 'ART_AND_DESIGN', '4.1', '159', '19M', '10,000+', 'Free', '0', 'Everyone', 'Art & Design', 'January 7, 2018', '1.0.0', '4.0.3 and up']\n",
            "\n",
            "\n",
            "['U Launcher Lite – FREE Live Cool Themes, Hide Apps', 'ART_AND_DESIGN', '4.7', '87510', '8.7M', '5,000,000+', 'Free', '0', 'Everyone', 'Art & Design', 'August 1, 2018', '1.2.4', '4.0.3 and up']\n",
            "\n",
            "\n",
            "['Sketch - Draw & Paint', 'ART_AND_DESIGN', '4.5', '215644', '25M', '50,000,000+', 'Free', '0', 'Teen', 'Art & Design', 'June 8, 2018', 'Varies with device', '4.2 and up']\n",
            "\n",
            "\n",
            "Number of rows: 9659\n",
            "Number of columns: 13\n"
          ]
        }
      ],
      "source": [
        "android_set2 = remove_wrong_data(android_set)\n",
        "\n",
        "explore_data(android_set2, 0, 3, True)"
      ]
    },
    {
      "cell_type": "markdown",
      "metadata": {
        "id": "kkmZNMhJX177"
      },
      "source": [
        "From function `check_duplicate` I know the number of duplicate apps. That's why now we can check what is expected length of Google dataset."
      ]
    },
    {
      "cell_type": "code",
      "execution_count": 11,
      "metadata": {
        "id": "1Q0XeNx7X177",
        "outputId": "5e2afcd3-1574-4136-9ff9-f8e5acabe05f",
        "colab": {
          "base_uri": "https://localhost:8080/"
        }
      },
      "outputs": [
        {
          "output_type": "stream",
          "name": "stdout",
          "text": [
            "Expected length: 9659\n",
            "Actual Length: 9659\n"
          ]
        }
      ],
      "source": [
        "print(f'Expected length: {len(android_set) - 1181}\\nActual Length: {len(android_set2)}')"
      ]
    },
    {
      "cell_type": "code",
      "execution_count": 12,
      "metadata": {
        "id": "E607NSnyX177"
      },
      "outputs": [],
      "source": [
        "def is_english_apps(data, index_of_appname):\n",
        "    clean_data = []\n",
        "    \n",
        "    for row in data:\n",
        "        name = row[index_of_appname]\n",
        "        non_ascii = 0\n",
        "\n",
        "        for letter in name:\n",
        "            if ord(letter) > 127:\n",
        "                non_ascii += 1\n",
        "        \n",
        "        if non_ascii <= 3:\n",
        "            clean_data.append(row)\n",
        "            \n",
        "    return clean_data"
      ]
    },
    {
      "cell_type": "markdown",
      "metadata": {
        "id": "17QD6jgjX177"
      },
      "source": [
        "In the previous function I iterate over the value of app name (Google set - index 0, App Store set - index 1) and then I check value of every letter in app name. If the value is greater than 127 It's probably non english letter. I count the non_ascii and if it's more than 3 I accept It as a non english app otherwise I append entire row to the list created at the begining. At the end of function I return the list of clean_data with english apps only."
      ]
    },
    {
      "cell_type": "code",
      "execution_count": 13,
      "metadata": {
        "id": "4kayQp9aX178",
        "outputId": "d9de37a4-1011-4ae2-e507-12412e714eca",
        "colab": {
          "base_uri": "https://localhost:8080/"
        }
      },
      "outputs": [
        {
          "output_type": "stream",
          "name": "stdout",
          "text": [
            "['Photo Editor & Candy Camera & Grid & ScrapBook', 'ART_AND_DESIGN', '4.1', '159', '19M', '10,000+', 'Free', '0', 'Everyone', 'Art & Design', 'January 7, 2018', '1.0.0', '4.0.3 and up']\n",
            "\n",
            "\n",
            "['U Launcher Lite – FREE Live Cool Themes, Hide Apps', 'ART_AND_DESIGN', '4.7', '87510', '8.7M', '5,000,000+', 'Free', '0', 'Everyone', 'Art & Design', 'August 1, 2018', '1.2.4', '4.0.3 and up']\n",
            "\n",
            "\n",
            "Number of rows: 9614\n",
            "Number of columns: 13\n",
            "['284882215', 'Facebook', '389879808', 'USD', '0.0', '2974676', '212', '3.5', '3.5', '95.0', '4+', 'Social Networking', '37', '1', '29', '1']\n",
            "\n",
            "\n",
            "['389801252', 'Instagram', '113954816', 'USD', '0.0', '2161558', '1289', '4.5', '4.0', '10.23', '12+', 'Photo & Video', '37', '0', '29', '1']\n",
            "\n",
            "\n",
            "Number of rows: 6183\n",
            "Number of columns: 16\n"
          ]
        }
      ],
      "source": [
        "android_clean = is_english_apps(android_set2, 0)\n",
        "ios_clean = is_english_apps(ios_set, 1)\n",
        "\n",
        "explore_data(android_clean, 0, 2, True)\n",
        "explore_data(ios_clean, 0, 2, True)"
      ]
    },
    {
      "cell_type": "markdown",
      "metadata": {
        "id": "w3qXtbxKX178"
      },
      "source": [
        "## Isolating the Free Apps\n",
        "\n",
        "Below, I isolate free apps in terms of price. My function take 3 values:\n",
        "* dataset;\n",
        "* index of column where price is lodge;\n",
        "* name of company - in my datasets I accept two values \"iso\" or \"android\".\n",
        "\n",
        "I iterate over rows in data, then I check what kind of company it is and finally I check price and if the value are equal 0, I append row to list created at the begining of function."
      ]
    },
    {
      "cell_type": "code",
      "execution_count": 14,
      "metadata": {
        "id": "2sKA9FJeX178"
      },
      "outputs": [],
      "source": [
        "def isolate_free_apps(data, index_of_price, company):\n",
        "    free_apps = []\n",
        "    \n",
        "    for app in data:\n",
        "        price = app[index_of_price]\n",
        "        if company == \"iso\":\n",
        "            if price == \"0.0\":\n",
        "                free_apps.append(app)\n",
        "        elif company == \"android\":\n",
        "            if price == \"0\":\n",
        "                free_apps.append(app)\n",
        "            \n",
        "    return free_apps"
      ]
    },
    {
      "cell_type": "code",
      "execution_count": 15,
      "metadata": {
        "id": "r1t2_QDDX178",
        "outputId": "19b6d5bb-0a5d-499f-8256-f7099e8dfacf",
        "colab": {
          "base_uri": "https://localhost:8080/"
        }
      },
      "outputs": [
        {
          "output_type": "stream",
          "name": "stdout",
          "text": [
            "Length of iso data: 3222\n",
            "Length of android data: 8864\n"
          ]
        }
      ],
      "source": [
        "print(f'Length of iso data: {len(isolate_free_apps(ios_clean, 4, \"iso\"))}')\n",
        "print(f'Length of android data: {len(isolate_free_apps(android_clean, 7, \"android\"))}')"
      ]
    },
    {
      "cell_type": "code",
      "execution_count": 16,
      "metadata": {
        "id": "FDnGG5YTX178"
      },
      "outputs": [],
      "source": [
        "ios_clean = isolate_free_apps(ios_clean, 4, \"iso\")\n",
        "android_clean = isolate_free_apps(android_clean, 7, \"android\")"
      ]
    },
    {
      "cell_type": "markdown",
      "metadata": {
        "id": "r0Y-pwzJX178"
      },
      "source": [
        "## Most Common Apps by Genre\n",
        "\n",
        "We want to find apps in both stores because if the app is in ios store and android store it's probably very good and it have potential to developing."
      ]
    },
    {
      "cell_type": "code",
      "execution_count": 17,
      "metadata": {
        "id": "yPQ4cRr3X179"
      },
      "outputs": [],
      "source": [
        "def frequence_table(data, index_of_genres):\n",
        "    freq_table = {}\n",
        "    freq_table_percent = {}\n",
        "    total = len(data)\n",
        "    \n",
        "    for app in data:\n",
        "        genre = app[index_of_genres]\n",
        "        \n",
        "        if genre in freq_table:\n",
        "            freq_table[genre] += 1\n",
        "        else:\n",
        "            freq_table[genre] = 1\n",
        "            \n",
        "    for genre in freq_table:\n",
        "        percent = round((freq_table[genre] / total) * 100, 2)\n",
        "        freq_table_percent[genre] = percent\n",
        "            \n",
        "    return freq_table_percent"
      ]
    },
    {
      "cell_type": "code",
      "execution_count": 18,
      "metadata": {
        "id": "OUnmAnULX179"
      },
      "outputs": [],
      "source": [
        "def display_table(dataset, index):\n",
        "    table = frequence_table(dataset, index)\n",
        "    table_display = []\n",
        "    for key in table:\n",
        "        key_val_as_tuple = (table[key], key)\n",
        "        table_display.append(key_val_as_tuple)\n",
        "\n",
        "    table_sorted = sorted(table_display, reverse = True)\n",
        "    for entry in table_sorted:\n",
        "        print(entry[1], ':', entry[0])"
      ]
    },
    {
      "cell_type": "markdown",
      "metadata": {
        "id": "U7bcTYepX179"
      },
      "source": [
        "**`prime_genre` in App Store dataset**"
      ]
    },
    {
      "cell_type": "code",
      "execution_count": 19,
      "metadata": {
        "id": "wA-Eybw-X179",
        "outputId": "174d2d60-46ad-4d0f-f3b0-59c464e5d29d",
        "colab": {
          "base_uri": "https://localhost:8080/"
        }
      },
      "outputs": [
        {
          "output_type": "stream",
          "name": "stdout",
          "text": [
            "Games : 58.16\n",
            "Entertainment : 7.88\n",
            "Photo & Video : 4.97\n",
            "Education : 3.66\n",
            "Social Networking : 3.29\n",
            "Shopping : 2.61\n",
            "Utilities : 2.51\n",
            "Sports : 2.14\n",
            "Music : 2.05\n",
            "Health & Fitness : 2.02\n",
            "Productivity : 1.74\n",
            "Lifestyle : 1.58\n",
            "News : 1.33\n",
            "Travel : 1.24\n",
            "Finance : 1.12\n",
            "Weather : 0.87\n",
            "Food & Drink : 0.81\n",
            "Reference : 0.56\n",
            "Business : 0.53\n",
            "Book : 0.43\n",
            "Navigation : 0.19\n",
            "Medical : 0.19\n",
            "Catalogs : 0.12\n"
          ]
        }
      ],
      "source": [
        "display_table(ios_clean, -5)"
      ]
    },
    {
      "cell_type": "markdown",
      "metadata": {
        "id": "0y-SJbVOX179"
      },
      "source": [
        "The most common genre in above frequency table is Games - 58.16%. The next most common is Entertainment - 7.88%. This proves that in App Store is most apps for fun than for education. The general impression have apps for entertainment: \n",
        "* Games, \n",
        "* Entertainment, \n",
        "* Photo & Video and \n",
        "* Social Networking.\n",
        "\n",
        "What is interesting that frequence of Education app is similar to Social Networking. This proves that App Store have mostly games apps.\n",
        "\n",
        "Inpite this frequency table I can't recommend that games are the most developed genre in whole App Store bacuase many games can have small number of users when for example social networking app like Facebook have milions user. That's why I have to check the numbers of users in next step."
      ]
    },
    {
      "cell_type": "markdown",
      "metadata": {
        "id": "ho74aC57X179"
      },
      "source": [
        "**`Category` in Google Play Store dataset**"
      ]
    },
    {
      "cell_type": "code",
      "execution_count": 20,
      "metadata": {
        "scrolled": true,
        "id": "T3nM31rNX179",
        "outputId": "385fe515-dc78-4cc4-bde5-415a79119c88",
        "colab": {
          "base_uri": "https://localhost:8080/"
        }
      },
      "outputs": [
        {
          "output_type": "stream",
          "name": "stdout",
          "text": [
            "FAMILY : 18.91\n",
            "GAME : 9.72\n",
            "TOOLS : 8.46\n",
            "BUSINESS : 4.59\n",
            "LIFESTYLE : 3.9\n",
            "PRODUCTIVITY : 3.89\n",
            "FINANCE : 3.7\n",
            "MEDICAL : 3.53\n",
            "SPORTS : 3.4\n",
            "PERSONALIZATION : 3.32\n",
            "COMMUNICATION : 3.24\n",
            "HEALTH_AND_FITNESS : 3.08\n",
            "PHOTOGRAPHY : 2.94\n",
            "NEWS_AND_MAGAZINES : 2.8\n",
            "SOCIAL : 2.66\n",
            "TRAVEL_AND_LOCAL : 2.34\n",
            "SHOPPING : 2.25\n",
            "BOOKS_AND_REFERENCE : 2.14\n",
            "DATING : 1.86\n",
            "VIDEO_PLAYERS : 1.79\n",
            "MAPS_AND_NAVIGATION : 1.4\n",
            "FOOD_AND_DRINK : 1.24\n",
            "EDUCATION : 1.16\n",
            "ENTERTAINMENT : 0.96\n",
            "LIBRARIES_AND_DEMO : 0.94\n",
            "AUTO_AND_VEHICLES : 0.93\n",
            "HOUSE_AND_HOME : 0.82\n",
            "WEATHER : 0.8\n",
            "EVENTS : 0.71\n",
            "PARENTING : 0.65\n",
            "ART_AND_DESIGN : 0.64\n",
            "COMICS : 0.62\n",
            "BEAUTY : 0.6\n"
          ]
        }
      ],
      "source": [
        "display_table(android_clean, 1)"
      ]
    },
    {
      "cell_type": "markdown",
      "metadata": {
        "id": "NdRY3EAAX17-"
      },
      "source": [
        "Most common category in Google Play is FAMILY (18.91%). It's better than in App Store. Google Play Store has more category and they are scattered but still there are many apps for fun."
      ]
    },
    {
      "cell_type": "markdown",
      "metadata": {
        "id": "rgg_hbQtX17-"
      },
      "source": [
        "**`Genres` in Google Play Store dataset**"
      ]
    },
    {
      "cell_type": "code",
      "execution_count": 21,
      "metadata": {
        "id": "ANvJX3KyX17-",
        "outputId": "246c122a-ff15-48a3-8577-00b5d0dc1665",
        "colab": {
          "base_uri": "https://localhost:8080/"
        }
      },
      "outputs": [
        {
          "output_type": "stream",
          "name": "stdout",
          "text": [
            "Tools : 8.45\n",
            "Entertainment : 6.07\n",
            "Education : 5.35\n",
            "Business : 4.59\n",
            "Productivity : 3.89\n",
            "Lifestyle : 3.89\n",
            "Finance : 3.7\n",
            "Medical : 3.53\n",
            "Sports : 3.46\n",
            "Personalization : 3.32\n",
            "Communication : 3.24\n",
            "Action : 3.1\n",
            "Health & Fitness : 3.08\n",
            "Photography : 2.94\n",
            "News & Magazines : 2.8\n",
            "Social : 2.66\n",
            "Travel & Local : 2.32\n",
            "Shopping : 2.25\n",
            "Books & Reference : 2.14\n",
            "Simulation : 2.04\n",
            "Dating : 1.86\n",
            "Arcade : 1.85\n",
            "Video Players & Editors : 1.77\n",
            "Casual : 1.76\n",
            "Maps & Navigation : 1.4\n",
            "Food & Drink : 1.24\n",
            "Puzzle : 1.13\n",
            "Racing : 0.99\n",
            "Role Playing : 0.94\n",
            "Libraries & Demo : 0.94\n",
            "Auto & Vehicles : 0.93\n",
            "Strategy : 0.91\n",
            "House & Home : 0.82\n",
            "Weather : 0.8\n",
            "Events : 0.71\n",
            "Adventure : 0.68\n",
            "Comics : 0.61\n",
            "Beauty : 0.6\n",
            "Art & Design : 0.6\n",
            "Parenting : 0.5\n",
            "Card : 0.45\n",
            "Casino : 0.43\n",
            "Trivia : 0.42\n",
            "Educational;Education : 0.39\n",
            "Board : 0.38\n",
            "Educational : 0.37\n",
            "Education;Education : 0.34\n",
            "Word : 0.26\n",
            "Casual;Pretend Play : 0.24\n",
            "Music : 0.2\n",
            "Racing;Action & Adventure : 0.17\n",
            "Puzzle;Brain Games : 0.17\n",
            "Entertainment;Music & Video : 0.17\n",
            "Casual;Brain Games : 0.14\n",
            "Casual;Action & Adventure : 0.14\n",
            "Arcade;Action & Adventure : 0.12\n",
            "Action;Action & Adventure : 0.1\n",
            "Educational;Pretend Play : 0.09\n",
            "Simulation;Action & Adventure : 0.08\n",
            "Parenting;Education : 0.08\n",
            "Entertainment;Brain Games : 0.08\n",
            "Board;Brain Games : 0.08\n",
            "Parenting;Music & Video : 0.07\n",
            "Educational;Brain Games : 0.07\n",
            "Casual;Creativity : 0.07\n",
            "Art & Design;Creativity : 0.07\n",
            "Education;Pretend Play : 0.06\n",
            "Role Playing;Pretend Play : 0.05\n",
            "Education;Creativity : 0.05\n",
            "Role Playing;Action & Adventure : 0.03\n",
            "Puzzle;Action & Adventure : 0.03\n",
            "Entertainment;Creativity : 0.03\n",
            "Entertainment;Action & Adventure : 0.03\n",
            "Educational;Creativity : 0.03\n",
            "Educational;Action & Adventure : 0.03\n",
            "Education;Music & Video : 0.03\n",
            "Education;Brain Games : 0.03\n",
            "Education;Action & Adventure : 0.03\n",
            "Adventure;Action & Adventure : 0.03\n",
            "Video Players & Editors;Music & Video : 0.02\n",
            "Sports;Action & Adventure : 0.02\n",
            "Simulation;Pretend Play : 0.02\n",
            "Puzzle;Creativity : 0.02\n",
            "Music;Music & Video : 0.02\n",
            "Entertainment;Pretend Play : 0.02\n",
            "Casual;Education : 0.02\n",
            "Board;Action & Adventure : 0.02\n",
            "Video Players & Editors;Creativity : 0.01\n",
            "Trivia;Education : 0.01\n",
            "Travel & Local;Action & Adventure : 0.01\n",
            "Tools;Education : 0.01\n",
            "Strategy;Education : 0.01\n",
            "Strategy;Creativity : 0.01\n",
            "Strategy;Action & Adventure : 0.01\n",
            "Simulation;Education : 0.01\n",
            "Role Playing;Brain Games : 0.01\n",
            "Racing;Pretend Play : 0.01\n",
            "Puzzle;Education : 0.01\n",
            "Parenting;Brain Games : 0.01\n",
            "Music & Audio;Music & Video : 0.01\n",
            "Lifestyle;Pretend Play : 0.01\n",
            "Lifestyle;Education : 0.01\n",
            "Health & Fitness;Education : 0.01\n",
            "Health & Fitness;Action & Adventure : 0.01\n",
            "Entertainment;Education : 0.01\n",
            "Communication;Creativity : 0.01\n",
            "Comics;Creativity : 0.01\n",
            "Casual;Music & Video : 0.01\n",
            "Card;Action & Adventure : 0.01\n",
            "Books & Reference;Education : 0.01\n",
            "Art & Design;Pretend Play : 0.01\n",
            "Art & Design;Action & Adventure : 0.01\n",
            "Arcade;Pretend Play : 0.01\n",
            "Adventure;Education : 0.01\n"
          ]
        }
      ],
      "source": [
        "display_table(android_clean, -4)"
      ]
    },
    {
      "cell_type": "markdown",
      "metadata": {
        "id": "nN_oF3J0X17-"
      },
      "source": [
        "Frequency table of genres in Google Play is very scattered and detailed. From this table possible is statement that in Google Play the most common are practical apps (Tools, Education, Business, Productivity etc.) the exception is Entertainment genre. From both frequency tables I can't clearly state that this"
      ]
    },
    {
      "cell_type": "markdown",
      "metadata": {
        "id": "mwnfLaj1X17-"
      },
      "source": [
        "## Most Popular Apps by Genre on the App Store"
      ]
    },
    {
      "cell_type": "code",
      "execution_count": 22,
      "metadata": {
        "id": "TCIpUE7NX17-"
      },
      "outputs": [],
      "source": [
        "def most_popular_apps_ios(dataset, index_of_genre, index_of_user_ratings):\n",
        "    freq_table = frequence_table(dataset, index_of_genre)\n",
        "    list_of_ratings = {}\n",
        "    \n",
        "    for genre in freq_table:\n",
        "        total = 0\n",
        "        len_genre = 0\n",
        "        for app in dataset:\n",
        "            genre_app = app[index_of_genre]\n",
        "            if genre_app == genre:\n",
        "                number_of_user_ratings = app[index_of_user_ratings]\n",
        "                total += float(number_of_user_ratings)\n",
        "                len_genre += 1\n",
        "    \n",
        "        avg_n_ratings = round(total / len_genre, 2)\n",
        "        list_of_ratings[genre] = avg_n_ratings\n",
        "        #print(genre, ':', avg_n_ratings)\n",
        "    return list_of_ratings"
      ]
    },
    {
      "cell_type": "code",
      "execution_count": 23,
      "metadata": {
        "id": "Krq32C64X17-",
        "outputId": "43a841bf-006f-474b-bdd4-de7104debe2a",
        "colab": {
          "base_uri": "https://localhost:8080/"
        }
      },
      "outputs": [
        {
          "output_type": "stream",
          "name": "stdout",
          "text": [
            "('Navigation', 86090.33)\n",
            "('Reference', 74942.11)\n",
            "('Social Networking', 71548.35)\n",
            "('Music', 57326.53)\n",
            "('Weather', 52279.89)\n"
          ]
        }
      ],
      "source": [
        "from collections import Counter\n",
        "\n",
        "c = Counter(most_popular_apps_ios(ios_clean, -5, 5))\n",
        "for i in c.most_common(5):\n",
        "    print(i)"
      ]
    },
    {
      "cell_type": "markdown",
      "metadata": {
        "id": "-MfeIgz4X17_"
      },
      "source": [
        "I use `Counter` function to show 5 most popular genres in App Store. Below, I print apps which genre is `Navigation`, second print is app which genre is `Reference` and third print is `Social Networking` apps."
      ]
    },
    {
      "cell_type": "code",
      "execution_count": 24,
      "metadata": {
        "id": "Dnv1uGYMX17_"
      },
      "outputs": [],
      "source": [
        "def most_popular_apps_by_genre_ios(data_set, index_of_genre, index_of_appname,\n",
        "                                   index_of_user_rating, name_of_genre):\n",
        "    total = 0\n",
        "    all_installs = 0\n",
        "    \n",
        "    for i in data_set:\n",
        "        genre = i[index_of_genre]\n",
        "        if genre == name_of_genre:\n",
        "            print(f'{i[index_of_appname]} : {i[index_of_user_rating]}')\n",
        "            all_installs += float(i[index_of_user_rating])\n",
        "            total += 1\n",
        "    print('---------------------------------------------------')    \n",
        "    avg = avg = round(all_installs / total, 2)\n",
        "    print(f'Average of installs = {avg}')"
      ]
    },
    {
      "cell_type": "markdown",
      "metadata": {
        "id": "An3UHzWCX17_"
      },
      "source": [
        "### Navigation"
      ]
    },
    {
      "cell_type": "code",
      "execution_count": 25,
      "metadata": {
        "id": "JL9y0I0JX17_",
        "outputId": "ba2da9d6-ff8e-4bfe-9334-025087edb601",
        "colab": {
          "base_uri": "https://localhost:8080/"
        }
      },
      "outputs": [
        {
          "output_type": "stream",
          "name": "stdout",
          "text": [
            "Waze - GPS Navigation, Maps & Real-time Traffic : 345046\n",
            "Google Maps - Navigation & Transit : 154911\n",
            "Geocaching® : 12811\n",
            "CoPilot GPS – Car Navigation & Offline Maps : 3582\n",
            "ImmobilienScout24: Real Estate Search in Germany : 187\n",
            "Railway Route Search : 5\n",
            "---------------------------------------------------\n",
            "Average of installs = 86090.33\n"
          ]
        }
      ],
      "source": [
        "most_popular_apps_by_genre_ios(ios_clean, -5, 1, 5, \"Navigation\")"
      ]
    },
    {
      "cell_type": "markdown",
      "metadata": {
        "id": "7FyZjH1PX17_"
      },
      "source": [
        "`Navigation`\n",
        "\n",
        "Three most count of users have apps:\n",
        "1. Waze - GPS Navigation, Maps & Real-time Traffic : 345046\n",
        "2. Google Maps - Navigation & Transit : 154911\n",
        "3. Geocaching® : 12811"
      ]
    },
    {
      "cell_type": "markdown",
      "metadata": {
        "id": "RVbRzG3KX17_"
      },
      "source": [
        "### Reference"
      ]
    },
    {
      "cell_type": "code",
      "execution_count": 26,
      "metadata": {
        "scrolled": true,
        "id": "dsGvvj4uX17_",
        "outputId": "25522ea0-25d6-4bd3-f215-733b9bd50a73",
        "colab": {
          "base_uri": "https://localhost:8080/"
        }
      },
      "outputs": [
        {
          "output_type": "stream",
          "name": "stdout",
          "text": [
            "Bible : 985920\n",
            "Dictionary.com Dictionary & Thesaurus : 200047\n",
            "Dictionary.com Dictionary & Thesaurus for iPad : 54175\n",
            "Google Translate : 26786\n",
            "Muslim Pro: Ramadan 2017 Prayer Times, Azan, Quran : 18418\n",
            "New Furniture Mods - Pocket Wiki & Game Tools for Minecraft PC Edition : 17588\n",
            "Merriam-Webster Dictionary : 16849\n",
            "Night Sky : 12122\n",
            "City Maps for Minecraft PE - The Best Maps for Minecraft Pocket Edition (MCPE) : 8535\n",
            "LUCKY BLOCK MOD ™ for Minecraft PC Edition - The Best Pocket Wiki & Mods Installer Tools : 4693\n",
            "GUNS MODS for Minecraft PC Edition - Mods Tools : 1497\n",
            "Guides for Pokémon GO - Pokemon GO News and Cheats : 826\n",
            "WWDC : 762\n",
            "Horror Maps for Minecraft PE - Download The Scariest Maps for Minecraft Pocket Edition (MCPE) Free : 718\n",
            "VPN Express : 14\n",
            "Real Bike Traffic Rider Virtual Reality Glasses : 8\n",
            "教えて!goo : 0\n",
            "Jishokun-Japanese English Dictionary & Translator : 0\n",
            "---------------------------------------------------\n",
            "Average of installs = 74942.11\n"
          ]
        }
      ],
      "source": [
        "most_popular_apps_by_genre_ios(ios_clean, -5, 1, 5, \"Reference\")"
      ]
    },
    {
      "cell_type": "markdown",
      "metadata": {
        "id": "OM7RjtrtX17_"
      },
      "source": [
        "`Reference`\n",
        "\n",
        "Five most count of users have apps:\n",
        "1. Bible : 985920\n",
        "2. Dictionary.com Dictionary & Thesaurus : 200047\n",
        "3. Dictionary.com Dictionary & Thesaurus for iPad : 54175\n",
        "4. Google Translate : 26786\n",
        "5. Muslim Pro: Ramadan 2017 Prayer Times, Azan, Quran : 18418"
      ]
    },
    {
      "cell_type": "markdown",
      "metadata": {
        "id": "gLXzAA8TX18A"
      },
      "source": [
        "### Social Networking"
      ]
    },
    {
      "cell_type": "code",
      "execution_count": 27,
      "metadata": {
        "id": "TFmjHFnXX18A",
        "outputId": "4dfb366b-94de-4c26-a755-b23e105ff792",
        "colab": {
          "base_uri": "https://localhost:8080/"
        }
      },
      "outputs": [
        {
          "output_type": "stream",
          "name": "stdout",
          "text": [
            "Facebook : 2974676\n",
            "Pinterest : 1061624\n",
            "Skype for iPhone : 373519\n",
            "Messenger : 351466\n",
            "Tumblr : 334293\n",
            "WhatsApp Messenger : 287589\n",
            "Kik : 260965\n",
            "ooVoo – Free Video Call, Text and Voice : 177501\n",
            "TextNow - Unlimited Text + Calls : 164963\n",
            "Viber Messenger – Text & Call : 164249\n",
            "Followers - Social Analytics For Instagram : 112778\n",
            "MeetMe - Chat and Meet New People : 97072\n",
            "We Heart It - Fashion, wallpapers, quotes, tattoos : 90414\n",
            "InsTrack for Instagram - Analytics Plus More : 85535\n",
            "Tango - Free Video Call, Voice and Chat : 75412\n",
            "LinkedIn : 71856\n",
            "Match™ - #1 Dating App. : 60659\n",
            "Skype for iPad : 60163\n",
            "POF - Best Dating App for Conversations : 52642\n",
            "Timehop : 49510\n",
            "Find My Family, Friends & iPhone - Life360 Locator : 43877\n",
            "Whisper - Share, Express, Meet : 39819\n",
            "Hangouts : 36404\n",
            "LINE PLAY - Your Avatar World : 34677\n",
            "WeChat : 34584\n",
            "Badoo - Meet New People, Chat, Socialize. : 34428\n",
            "Followers + for Instagram - Follower Analytics : 28633\n",
            "GroupMe : 28260\n",
            "Marco Polo Video Walkie Talkie : 27662\n",
            "Miitomo : 23965\n",
            "SimSimi : 23530\n",
            "Grindr - Gay and same sex guys chat, meet and date : 23201\n",
            "Wishbone - Compare Anything : 20649\n",
            "imo video calls and chat : 18841\n",
            "After School - Funny Anonymous School News : 18482\n",
            "Quick Reposter - Repost, Regram and Reshare Photos : 17694\n",
            "Weibo HD : 16772\n",
            "Repost for Instagram : 15185\n",
            "Live.me – Live Video Chat & Make Friends Nearby : 14724\n",
            "Nextdoor : 14402\n",
            "Followers Analytics for Instagram - InstaReport : 13914\n",
            "YouNow: Live Stream Video Chat : 12079\n",
            "FollowMeter for Instagram - Followers Tracking : 11976\n",
            "LINE : 11437\n",
            "eHarmony™ Dating App - Meet Singles : 11124\n",
            "Discord - Chat for Gamers : 9152\n",
            "QQ : 9109\n",
            "Telegram Messenger : 7573\n",
            "Weibo : 7265\n",
            "Periscope - Live Video Streaming Around the World : 6062\n",
            "Chat for Whatsapp - iPad Version : 5060\n",
            "QQ HD : 5058\n",
            "Followers Analysis Tool For Instagram App Free : 4253\n",
            "live.ly - live video streaming : 4145\n",
            "Houseparty - Group Video Chat : 3991\n",
            "SOMA Messenger : 3232\n",
            "Monkey : 3060\n",
            "Down To Lunch : 2535\n",
            "Flinch - Video Chat Staring Contest : 2134\n",
            "Highrise - Your Avatar Community : 2011\n",
            "LOVOO - Dating Chat : 1985\n",
            "PlayStation®Messages : 1918\n",
            "BOO! - Video chat camera with filters & stickers : 1805\n",
            "Qzone : 1649\n",
            "Chatous - Chat with new people : 1609\n",
            "Kiwi - Q&A : 1538\n",
            "GhostCodes - a discovery app for Snapchat : 1313\n",
            "Jodel : 1193\n",
            "FireChat : 1037\n",
            "Google Duo - simple video calling : 1033\n",
            "Fiesta by Tango - Chat & Meet New People : 885\n",
            "Google Allo — smart messaging : 862\n",
            "Peach — share vividly : 727\n",
            "Hey! VINA - Where Women Meet New Friends : 719\n",
            "Battlefield™ Companion : 689\n",
            "All Devices for WhatsApp - Messenger for iPad : 682\n",
            "Chat for Pokemon Go - GoChat : 500\n",
            "IAmNaughty – Dating App to Meet New People Online : 463\n",
            "Qzone HD : 458\n",
            "Zenly - Locate your friends in realtime : 427\n",
            "League of Legends Friends : 420\n",
            "豆瓣 : 407\n",
            "Candid - Speak Your Mind Freely : 398\n",
            "知乎 : 397\n",
            "Selfeo : 366\n",
            "Fake-A-Location Free ™ : 354\n",
            "Popcorn Buzz - Free Group Calls : 281\n",
            "Fam — Group video calling for iMessage : 279\n",
            "QQ International : 274\n",
            "Ameba : 269\n",
            "SoundCloud Pulse: for creators : 240\n",
            "Tantan : 235\n",
            "Cougar Dating & Life Style App for Mature Women : 213\n",
            "Rawr Messenger - Dab your chat : 180\n",
            "WhenToPost: Best Time to Post Photos for Instagram : 158\n",
            "Inke—Broadcast an amazing life : 147\n",
            "Mustknow - anonymous video Q&A : 53\n",
            "CTFxCmoji : 39\n",
            "Lobi : 36\n",
            "Chain: Collaborate On MyVideo Story/Group Video : 35\n",
            "botman - Real time video chat : 7\n",
            "BestieBox : 0\n",
            "MATCH ON LINE chat : 0\n",
            "niconico ch : 0\n",
            "LINE BLOG : 0\n",
            "bit-tube - Live Stream Video Chat : 0\n",
            "---------------------------------------------------\n",
            "Average of installs = 71548.35\n"
          ]
        }
      ],
      "source": [
        "most_popular_apps_by_genre_ios(ios_clean, -5, 1, 5, \"Social Networking\")"
      ]
    },
    {
      "cell_type": "markdown",
      "metadata": {
        "id": "9gVrzREhX18A"
      },
      "source": [
        "`Social Networking`\n",
        "\n",
        "Six most count of users have apps:\n",
        "1. Facebook : 2974676\n",
        "2. Pinterest : 1061624\n",
        "3. Skype for iPhone : 373519\n",
        "4. Messenger : 351466\n",
        "5. Tumblr : 334293\n",
        "6. WhatsApp Messenger : 287589"
      ]
    },
    {
      "cell_type": "markdown",
      "metadata": {
        "id": "6QeUueVVX18A"
      },
      "source": [
        "## Most Popular Apps by Category on Google Play\n",
        "\n"
      ]
    },
    {
      "cell_type": "code",
      "execution_count": 28,
      "metadata": {
        "id": "Im2t8iJ6X18A"
      },
      "outputs": [],
      "source": [
        "def most_popular_apps_android(dataset, index_of_genre, index_of_installs):\n",
        "    freq_table = frequence_table(dataset, index_of_genre)\n",
        "    list_of_ratings = {}\n",
        "\n",
        "    for category in freq_table:\n",
        "        total = 0\n",
        "        len_category = 0\n",
        "        for app in dataset:\n",
        "            category_app = app[index_of_genre]\n",
        "            if category_app == category:\n",
        "                number_of_installs = app[index_of_installs]\n",
        "                number_of_installs = number_of_installs.replace('+', '')\n",
        "                number_of_installs = number_of_installs.replace(',', '')\n",
        "                total += float(number_of_installs)\n",
        "                len_category += 1\n",
        "    \n",
        "        avg_n_ratings = round(total / len_category, 2)\n",
        "        list_of_ratings[category] = avg_n_ratings\n",
        "        \n",
        "    return list_of_ratings"
      ]
    },
    {
      "cell_type": "code",
      "execution_count": 29,
      "metadata": {
        "scrolled": true,
        "id": "KYkOxTX7X18A",
        "outputId": "71de30ee-1b9b-4544-f413-632ee8116d5d",
        "colab": {
          "base_uri": "https://localhost:8080/"
        }
      },
      "outputs": [
        {
          "output_type": "stream",
          "name": "stdout",
          "text": [
            "('COMMUNICATION', 38456119.17)\n",
            "('VIDEO_PLAYERS', 24727872.45)\n",
            "('SOCIAL', 23253652.13)\n",
            "('PHOTOGRAPHY', 17840110.4)\n",
            "('PRODUCTIVITY', 16787331.34)\n"
          ]
        }
      ],
      "source": [
        "c = Counter(most_popular_apps_android(android_clean, 1, 5))\n",
        "\n",
        "for i in c.most_common(5):\n",
        "    print(i)"
      ]
    },
    {
      "cell_type": "code",
      "execution_count": 30,
      "metadata": {
        "id": "N6L_8o_2X18A"
      },
      "outputs": [],
      "source": [
        "def most_popular_apps_by_genre_android(data_set, index_of_genre, \n",
        "                                       index_of_appname,\n",
        "                                       index_of_user_rating,\n",
        "                                       name_of_genre):\n",
        "    total = 0\n",
        "    all_installs = 0\n",
        "\n",
        "    for app in data_set:\n",
        "        genre = app[index_of_genre]\n",
        "        rating = app[index_of_user_rating]\n",
        "        if genre == name_of_genre and (rating == '1,000,000,000+'\n",
        "                                  or rating == '500,000,000+'\n",
        "                                  or rating == '100,000,000+'):\n",
        "            print(f'{app[index_of_appname]} : {rating}')\n",
        "            \n",
        "            n_installs = rating.replace(',', '')\n",
        "            n_installs = n_installs.replace('+', '')\n",
        "            all_installs += float(n_installs)\n",
        "            total += 1\n",
        "            \n",
        "    print('---------------------------------------------------')    \n",
        "    avg = round(all_installs / total, 2)\n",
        "    print(f'Average of installs = {avg}')"
      ]
    },
    {
      "cell_type": "markdown",
      "metadata": {
        "id": "F3RdY9vrX18A"
      },
      "source": [
        "### COMMUNICATION"
      ]
    },
    {
      "cell_type": "code",
      "execution_count": 31,
      "metadata": {
        "id": "jAWvB1aeX18B",
        "outputId": "0872506a-7406-449f-9b72-cce4406749c5",
        "colab": {
          "base_uri": "https://localhost:8080/"
        }
      },
      "outputs": [
        {
          "output_type": "stream",
          "name": "stdout",
          "text": [
            "WhatsApp Messenger : 1,000,000,000+\n",
            "imo beta free calls and text : 100,000,000+\n",
            "Android Messages : 100,000,000+\n",
            "Google Duo - High Quality Video Calls : 500,000,000+\n",
            "Messenger – Text and Video Chat for Free : 1,000,000,000+\n",
            "imo free video calls and chat : 500,000,000+\n",
            "Skype - free IM & video calls : 1,000,000,000+\n",
            "Who : 100,000,000+\n",
            "GO SMS Pro - Messenger, Free Themes, Emoji : 100,000,000+\n",
            "LINE: Free Calls & Messages : 500,000,000+\n",
            "Google Chrome: Fast & Secure : 1,000,000,000+\n",
            "Firefox Browser fast & private : 100,000,000+\n",
            "UC Browser - Fast Download Private & Secure : 500,000,000+\n",
            "Gmail : 1,000,000,000+\n",
            "Hangouts : 1,000,000,000+\n",
            "Messenger Lite: Free Calls & Messages : 100,000,000+\n",
            "Kik : 100,000,000+\n",
            "KakaoTalk: Free Calls & Text : 100,000,000+\n",
            "Opera Mini - fast web browser : 100,000,000+\n",
            "Opera Browser: Fast and Secure : 100,000,000+\n",
            "Telegram : 100,000,000+\n",
            "Truecaller: Caller ID, SMS spam blocking & Dialer : 100,000,000+\n",
            "UC Browser Mini -Tiny Fast Private & Secure : 100,000,000+\n",
            "Viber Messenger : 500,000,000+\n",
            "WeChat : 100,000,000+\n",
            "Yahoo Mail – Stay Organized : 100,000,000+\n",
            "BBM - Free Calls & Messages : 100,000,000+\n",
            "---------------------------------------------------\n",
            "Average of installs = 374074074.07\n"
          ]
        }
      ],
      "source": [
        "most_popular_apps_by_genre_android(android_clean, 1, 0, 5, \"COMMUNICATION\")"
      ]
    },
    {
      "cell_type": "markdown",
      "metadata": {
        "id": "_Wr42tiuX18B"
      },
      "source": [
        "`COMMUNICATION`\n",
        "\n",
        "Apps over 1,000,000,000 numbers of installs:\n",
        "1. WhatsApp Messenger\n",
        "2. Messenger – Text and Video Chat for Free\n",
        "3. Skype - free IM & video calls\n",
        "4. Google Chrome: Fast & Secure\n",
        "5. Gmail\n",
        "6. Hangouts\n",
        "\n",
        "As we see above, six of giant apps outweigh the rest of apps but we can see three apps are the same like in App Store (WhatsApp Messenger, Messenger and Skype). When we remove above apps we can count real average of installs in genre `COMMUNICATION`."
      ]
    },
    {
      "cell_type": "code",
      "execution_count": 32,
      "metadata": {
        "scrolled": true,
        "id": "LYyTg7EhX18B",
        "outputId": "18fded0c-5f80-4780-98a6-bdbe35396b44",
        "colab": {
          "base_uri": "https://localhost:8080/"
        }
      },
      "outputs": [
        {
          "output_type": "stream",
          "name": "stdout",
          "text": [
            "Average of installs = 3603485.39\n"
          ]
        }
      ],
      "source": [
        "total = 0\n",
        "all_installs = 0\n",
        "\n",
        "for app in android_clean:\n",
        "    n_installs = app[5]\n",
        "    n_installs = n_installs.replace(',', '')\n",
        "    n_installs = n_installs.replace('+', '')\n",
        "    if (app[1] == 'COMMUNICATION') and (float(n_installs) < 100000000):\n",
        "        all_installs += float(n_installs)\n",
        "        total += 1\n",
        "                                       \n",
        "avg = round(all_installs / total, 2)\n",
        "print(f'Average of installs = {avg}')"
      ]
    },
    {
      "cell_type": "markdown",
      "metadata": {
        "id": "KL0eJCZVX18B"
      },
      "source": [
        "It's easy to see the change of average. Now, it's better and more subjective."
      ]
    },
    {
      "cell_type": "markdown",
      "metadata": {
        "id": "qMStYfqPX18B"
      },
      "source": [
        "### SOCIAL"
      ]
    },
    {
      "cell_type": "code",
      "execution_count": 33,
      "metadata": {
        "scrolled": true,
        "id": "S-5Pg8wpX18C",
        "outputId": "43c5a035-b2b2-43f3-c13e-7ecf55051fcd",
        "colab": {
          "base_uri": "https://localhost:8080/"
        }
      },
      "outputs": [
        {
          "output_type": "stream",
          "name": "stdout",
          "text": [
            "Facebook : 1,000,000,000+\n",
            "Facebook Lite : 500,000,000+\n",
            "Tumblr : 100,000,000+\n",
            "Pinterest : 100,000,000+\n",
            "Google+ : 1,000,000,000+\n",
            "Badoo - Free Chat & Dating App : 100,000,000+\n",
            "Tango - Live Video Broadcast : 100,000,000+\n",
            "Instagram : 1,000,000,000+\n",
            "Snapchat : 500,000,000+\n",
            "LinkedIn : 100,000,000+\n",
            "Tik Tok - including musical.ly : 100,000,000+\n",
            "BIGO LIVE - Live Stream : 100,000,000+\n",
            "VK : 100,000,000+\n",
            "---------------------------------------------------\n",
            "Average of installs = 369230769.23\n"
          ]
        }
      ],
      "source": [
        "most_popular_apps_by_genre_android(android_clean, 1, 0, 5, \"SOCIAL\")"
      ]
    },
    {
      "cell_type": "markdown",
      "metadata": {
        "id": "EP9L-iklX18C"
      },
      "source": [
        "Results are similar too App Store. That's we can say that this apps are recomended to developing. In case of average we have to do the same thing as with results from communication genre."
      ]
    },
    {
      "cell_type": "code",
      "execution_count": 34,
      "metadata": {
        "id": "gudlmZD4X18C",
        "outputId": "072a4773-7d48-4f26-a5f6-f8731e864d0e",
        "colab": {
          "base_uri": "https://localhost:8080/"
        }
      },
      "outputs": [
        {
          "output_type": "stream",
          "name": "stdout",
          "text": [
            "Average of installs = 3084582.52\n"
          ]
        }
      ],
      "source": [
        "total = 0\n",
        "all_installs = 0\n",
        "\n",
        "for app in android_clean:\n",
        "    n_installs = app[5]\n",
        "    n_installs = n_installs.replace(',', '')\n",
        "    n_installs = n_installs.replace('+', '')\n",
        "    if (app[1] == 'SOCIAL') and (float(n_installs) < 100000000):\n",
        "        all_installs += float(n_installs)\n",
        "        total += 1\n",
        "                                       \n",
        "avg = round(all_installs / total, 2)\n",
        "print(f'Average of installs = {avg}')"
      ]
    },
    {
      "cell_type": "markdown",
      "metadata": {
        "id": "M76VQ8WVX18C"
      },
      "source": [
        "As we see average is much better than before."
      ]
    },
    {
      "cell_type": "markdown",
      "metadata": {
        "id": "ifqdcEi1X18C"
      },
      "source": [
        "### BOOK AND REFERENCE"
      ]
    },
    {
      "cell_type": "code",
      "execution_count": 35,
      "metadata": {
        "id": "ZgeqC1vzX18C",
        "outputId": "b83ecb80-cb4a-4208-d2be-29c4f895848d",
        "colab": {
          "base_uri": "https://localhost:8080/"
        }
      },
      "outputs": [
        {
          "output_type": "stream",
          "name": "stdout",
          "text": [
            "E-Book Read - Read Book for free : 50,000+\n",
            "Download free book with green book : 100,000+\n",
            "Wikipedia : 10,000,000+\n",
            "Cool Reader : 10,000,000+\n",
            "Free Panda Radio Music : 100,000+\n",
            "Book store : 1,000,000+\n",
            "FBReader: Favorite Book Reader : 10,000,000+\n",
            "English Grammar Complete Handbook : 500,000+\n",
            "Free Books - Spirit Fanfiction and Stories : 1,000,000+\n",
            "AlReader -any text book reader : 5,000,000+\n",
            "Offline English Dictionary : 100,000+\n",
            "Offline: English to Tagalog Dictionary : 500,000+\n",
            "FamilySearch Tree : 1,000,000+\n",
            "Cloud of Books : 1,000,000+\n",
            "Recipes of Prophetic Medicine for free : 500,000+\n",
            "ReadEra – free ebook reader : 1,000,000+\n",
            "Anonymous caller detection : 10,000+\n",
            "Ebook Reader : 5,000,000+\n",
            "Litnet - E-books : 100,000+\n",
            "Read books online : 5,000,000+\n",
            "English to Urdu Dictionary : 500,000+\n",
            "eBoox: book reader fb2 epub zip : 1,000,000+\n",
            "English Persian Dictionary : 500,000+\n",
            "Flybook : 500,000+\n",
            "All Maths Formulas : 1,000,000+\n",
            "Ancestry : 5,000,000+\n",
            "HTC Help : 10,000,000+\n",
            "English translation from Bengali : 100,000+\n",
            "Pdf Book Download - Read Pdf Book : 100,000+\n",
            "Free Book Reader : 100,000+\n",
            "eBoox new: Reader for fb2 epub zip books : 50,000+\n",
            "Only 30 days in English, the guideline is guaranteed : 500,000+\n",
            "Moon+ Reader : 10,000,000+\n",
            "SH-02J Owner's Manual (Android 8.0) : 50,000+\n",
            "English-Myanmar Dictionary : 1,000,000+\n",
            "Golden Dictionary (EN-AR) : 1,000,000+\n",
            "All Language Translator Free : 1,000,000+\n",
            "Azpen eReader : 500,000+\n",
            "URBANO V 02 instruction manual : 100,000+\n",
            "Bible : 100,000,000+\n",
            "C Programs and Reference : 50,000+\n",
            "C Offline Tutorial : 1,000+\n",
            "C Programs Handbook : 50,000+\n",
            "Amazon Kindle : 100,000,000+\n",
            "Aab e Hayat Full Novel : 100,000+\n",
            "Aldiko Book Reader : 10,000,000+\n",
            "Google I/O 2018 : 500,000+\n",
            "R Language Reference Guide : 10,000+\n",
            "Learn R Programming Full : 5,000+\n",
            "R Programing Offline Tutorial : 1,000+\n",
            "Guide for R Programming : 5+\n",
            "Learn R Programming : 10+\n",
            "R Quick Reference Big Data : 1,000+\n",
            "V Made : 100,000+\n",
            "Wattpad 📖 Free Books : 100,000,000+\n",
            "Dictionary - WordWeb : 5,000,000+\n",
            "Guide (for X-MEN) : 100,000+\n",
            "AC Air condition Troubleshoot,Repair,Maintenance : 5,000+\n",
            "AE Bulletins : 1,000+\n",
            "Ae Allah na Dai (Rasa) : 10,000+\n",
            "50000 Free eBooks & Free AudioBooks : 5,000,000+\n",
            "Ag PhD Field Guide : 10,000+\n",
            "Ag PhD Deficiencies : 10,000+\n",
            "Ag PhD Planting Population Calculator : 1,000+\n",
            "Ag PhD Soybean Diseases : 1,000+\n",
            "Fertilizer Removal By Crop : 50,000+\n",
            "A-J Media Vault : 50+\n",
            "Al-Quran (Free) : 10,000,000+\n",
            "Al Quran (Tafsir & by Word) : 500,000+\n",
            "Al Quran Indonesia : 10,000,000+\n",
            "Al'Quran Bahasa Indonesia : 10,000,000+\n",
            "Al Quran Al karim : 1,000,000+\n",
            "Al-Muhaffiz : 50,000+\n",
            "Al Quran : EAlim - Translations & MP3 Offline : 5,000,000+\n",
            "Al-Quran 30 Juz free copies : 500,000+\n",
            "Koran Read &MP3 30 Juz Offline : 1,000,000+\n",
            "Hafizi Quran 15 lines per page : 1,000,000+\n",
            "Quran for Android : 10,000,000+\n",
            "Surah Al-Waqiah : 100,000+\n",
            "Hisnul Al Muslim - Hisn Invocations & Adhkaar : 100,000+\n",
            "Satellite AR : 1,000,000+\n",
            "Audiobooks from Audible : 100,000,000+\n",
            "Kinot & Eichah for Tisha B'Av : 10,000+\n",
            "AW Tozer Devotionals - Daily : 5,000+\n",
            "Tozer Devotional -Series 1 : 1,000+\n",
            "The Pursuit of God : 1,000+\n",
            "AY Sing : 5,000+\n",
            "Ay Hasnain k Nana Milad Naat : 10,000+\n",
            "Ay Mohabbat Teri Khatir Novel : 10,000+\n",
            "Arizona Statutes, ARS (AZ Law) : 1,000+\n",
            "Oxford A-Z of English Usage : 1,000,000+\n",
            "BD Fishpedia : 1,000+\n",
            "BD All Sim Offer : 10,000+\n",
            "Youboox - Livres, BD et magazines : 500,000+\n",
            "B&H Kids AR : 10,000+\n",
            "B y H Niños ES : 5,000+\n",
            "Dictionary.com: Find Definitions for English Words : 10,000,000+\n",
            "English Dictionary - Offline : 10,000,000+\n",
            "Bible KJV : 5,000,000+\n",
            "Borneo Bible, BM Bible : 10,000+\n",
            "MOD Black for BM : 100+\n",
            "BM Box : 1,000+\n",
            "Anime Mod for BM : 100+\n",
            "NOOK: Read eBooks & Magazines : 10,000,000+\n",
            "NOOK Audiobooks : 500,000+\n",
            "NOOK App for NOOK Devices : 500,000+\n",
            "Browsery by Barnes & Noble : 5,000+\n",
            "bp e-store : 1,000+\n",
            "Brilliant Quotes: Life, Love, Family & Motivation : 1,000,000+\n",
            "BR Ambedkar Biography & Quotes : 10,000+\n",
            "BU Alsace : 100+\n",
            "Catholic La Bu Zo Kam : 500+\n",
            "Khrifa Hla Bu (Solfa) : 10+\n",
            "Kristian Hla Bu : 10,000+\n",
            "SA HLA BU : 1,000+\n",
            "Learn SAP BW : 500+\n",
            "Learn SAP BW on HANA : 500+\n",
            "CA Laws 2018 (California Laws and Codes) : 5,000+\n",
            "Bootable Methods(USB-CD-DVD) : 10,000+\n",
            "cloudLibrary : 100,000+\n",
            "SDA Collegiate Quarterly : 500+\n",
            "Sabbath School : 100,000+\n",
            "Cypress College Library : 100+\n",
            "Stats Royale for Clash Royale : 1,000,000+\n",
            "GATE 21 years CS Papers(2011-2018 Solved) : 50+\n",
            "Learn CT Scan Of Head : 5,000+\n",
            "Easy Cv maker 2018 : 10,000+\n",
            "How to Write CV : 100,000+\n",
            "CW Nuclear : 1,000+\n",
            "CY Spray nozzle : 10+\n",
            "BibleRead En Cy Zh Yue : 5+\n",
            "CZ-Help : 5+\n",
            "Modlitební knížka CZ : 500+\n",
            "Guide for DB Xenoverse : 10,000+\n",
            "Guide for DB Xenoverse 2 : 10,000+\n",
            "Guide for IMS DB : 10+\n",
            "DC HSEMA : 5,000+\n",
            "DC Public Library : 1,000+\n",
            "Painting Lulu DC Super Friends : 1,000+\n",
            "Dictionary : 10,000,000+\n",
            "Fix Error Google Playstore : 1,000+\n",
            "D. H. Lawrence Poems FREE : 1,000+\n",
            "Bilingual Dictionary Audio App : 5,000+\n",
            "DM Screen : 10,000+\n",
            "wikiHow: how to do anything : 1,000,000+\n",
            "Dr. Doug's Tips : 1,000+\n",
            "Bible du Semeur-BDS (French) : 50,000+\n",
            "La citadelle du musulman : 50,000+\n",
            "DV 2019 Entry Guide : 10,000+\n",
            "DV 2019 - EDV Photo & Form : 50,000+\n",
            "DV 2018 Winners Guide : 1,000+\n",
            "EB Annual Meetings : 1,000+\n",
            "EC - AP & Telangana : 5,000+\n",
            "TN Patta Citta & EC : 10,000+\n",
            "AP Stamps and Registration : 10,000+\n",
            "CompactiMa EC pH Calibration : 100+\n",
            "EGW Writings 2 : 100,000+\n",
            "EGW Writings : 1,000,000+\n",
            "Bible with EGW Comments : 100,000+\n",
            "My Little Pony AR Guide : 1,000,000+\n",
            "SDA Sabbath School Quarterly : 500,000+\n",
            "Duaa Ek Ibaadat : 5,000+\n",
            "Spanish English Translator : 10,000,000+\n",
            "Dictionary - Merriam-Webster : 10,000,000+\n",
            "JW Library : 10,000,000+\n",
            "Oxford Dictionary of English : Free : 10,000,000+\n",
            "English Hindi Dictionary : 10,000,000+\n",
            "English to Hindi Dictionary : 5,000,000+\n",
            "EP Research Service : 1,000+\n",
            "Hymnes et Louanges : 100,000+\n",
            "EU Charter : 1,000+\n",
            "EU Data Protection : 1,000+\n",
            "EU IP Codes : 100+\n",
            "EW PDF : 5+\n",
            "BakaReader EX : 100,000+\n",
            "EZ Quran : 50,000+\n",
            "FA Part 1 & 2 Past Papers Solved Free – Offline : 5,000+\n",
            "La Fe de Jesus : 1,000+\n",
            "La Fe de Jesús : 500+\n",
            "Le Fe de Jesus : 500+\n",
            "Florida - Pocket Brainbook : 1,000+\n",
            "Florida Statutes (FL Code) : 1,000+\n",
            "English To Shona Dictionary : 10,000+\n",
            "Greek Bible FP (Audio) : 1,000+\n",
            "Golden Dictionary (FR-AR) : 500,000+\n",
            "Fanfic-FR : 5,000+\n",
            "Bulgarian French Dictionary Fr : 10,000+\n",
            "Chemin (fr) : 1,000+\n",
            "The SCP Foundation DB fr nn5n : 1,000+\n",
            "---------------------------------------------------\n",
            "Average of installs = 3523197.14\n"
          ]
        }
      ],
      "source": [
        "total = 0\n",
        "all_installs = 0\n",
        "\n",
        "for app in android_clean:\n",
        "    genre = app[1]\n",
        "    rating = app[5]\n",
        "    if genre == \"BOOKS_AND_REFERENCE\" and (rating != '1,000,000,000+'):\n",
        "        print(f'{app[0]} : {rating}')\n",
        "            \n",
        "        n_installs = rating.replace(',', '')\n",
        "        n_installs = n_installs.replace('+', '')\n",
        "        all_installs += float(n_installs)\n",
        "        total += 1\n",
        "            \n",
        "print('---------------------------------------------------')    \n",
        "avg = round(all_installs / total, 2)\n",
        "print(f'Average of installs = {avg}')"
      ]
    },
    {
      "cell_type": "markdown",
      "metadata": {
        "id": "qBQN7UjGX18D"
      },
      "source": [
        "## Conclusion"
      ]
    },
    {
      "cell_type": "markdown",
      "metadata": {
        "id": "i_8THyBmX18D"
      },
      "source": [
        "To sum up in both stores the most profitable genres are:\n",
        "\n",
        "1. Communication and Social Network;\n",
        "2. Reference despite average of installs in Goole Play are much higher."
      ]
    }
  ],
  "metadata": {
    "kernelspec": {
      "display_name": "Python 3",
      "language": "python",
      "name": "python3"
    },
    "language_info": {
      "codemirror_mode": {
        "name": "ipython",
        "version": 3
      },
      "file_extension": ".py",
      "mimetype": "text/x-python",
      "name": "python",
      "nbconvert_exporter": "python",
      "pygments_lexer": "ipython3",
      "version": "3.8.2"
    },
    "colab": {
      "provenance": [],
      "toc_visible": true,
      "include_colab_link": true
    }
  },
  "nbformat": 4,
  "nbformat_minor": 0
}