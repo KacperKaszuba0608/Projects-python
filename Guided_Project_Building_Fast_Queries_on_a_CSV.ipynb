{
  "cells": [
    {
      "cell_type": "markdown",
      "metadata": {
        "id": "view-in-github",
        "colab_type": "text"
      },
      "source": [
        "<a href=\"https://colab.research.google.com/github/KacperKaszuba0608/Projects-python/blob/main/Guided_Project_Building_Fast_Queries_on_a_CSV.ipynb\" target=\"_parent\"><img src=\"https://colab.research.google.com/assets/colab-badge.svg\" alt=\"Open In Colab\"/></a>"
      ]
    },
    {
      "cell_type": "markdown",
      "metadata": {
        "id": "1DBH3ja_2UbQ"
      },
      "source": [
        "# Guided Project:<br>Building Fast Queries on a CSV"
      ]
    },
    {
      "cell_type": "markdown",
      "metadata": {
        "id": "8BjM717u2UbR"
      },
      "source": [
        "In this project I'm going to build fast queries on a csv file. I use file from Kaggle about prices of laptops. This data are available at this [link](https://www.kaggle.com/datasets/mohidabdulrehman/laptop-price-dataset). Below columns description:\n",
        "\n",
        "* ID: A unique identifier for the laptop.\n",
        "* Company: The name of the company that produces the laptop.\n",
        "* Product: The name of the laptop.\n",
        "* TypeName: The type of laptop.\n",
        "* Inches: The size of the screen in inches.\n",
        "* ScreenResolution: The resolution of the screen.\n",
        "* CPU: The laptop CPU.\n",
        "* RAM: The amount of RAM in the laptop.\n",
        "* Memory: The size of the hard drive.\n",
        "* GPU: The graphics card name.\n",
        "* OpSys: The name of the operating system.\n",
        "* Weight: The laptop weight.\n",
        "* Price: The price of the laptop."
      ]
    },
    {
      "cell_type": "markdown",
      "metadata": {
        "id": "tqzKKcDx2UbR"
      },
      "source": [
        "## Importing necessary libraries and reading in data"
      ]
    },
    {
      "cell_type": "code",
      "source": [
        "!wget https://raw.githubusercontent.com/KacperKaszuba0608/Datasets/main/laptops.csv -qO laptops.csv"
      ],
      "metadata": {
        "id": "xvtp3Ivl2bF2"
      },
      "execution_count": null,
      "outputs": []
    },
    {
      "cell_type": "code",
      "execution_count": null,
      "metadata": {
        "colab": {
          "base_uri": "https://localhost:8080/"
        },
        "id": "8sAmCWKe2UbR",
        "outputId": "98213b4e-c626-4652-e441-79493a770143"
      },
      "outputs": [
        {
          "output_type": "stream",
          "name": "stdout",
          "text": [
            "['Id', 'Company', 'Product', 'TypeName', 'Inches', 'ScreenResolution', 'Cpu', 'Ram', 'Memory', 'Gpu', 'OpSys', 'Weight', 'Price']\n",
            "[['6571244', 'Apple', 'MacBook Pro', 'Ultrabook', '13.3', 'IPS Panel Retina Display 2560x1600', 'Intel Core i5 2.3GHz', '8GB', '128GB SSD', 'Intel Iris Plus Graphics 640', 'macOS', '1.37kg', '1339'], ['7287764', 'Apple', 'Macbook Air', 'Ultrabook', '13.3', '1440x900', 'Intel Core i5 1.8GHz', '8GB', '128GB Flash Storage', 'Intel HD Graphics 6000', 'macOS', '1.34kg', '898'], ['3362737', 'HP', '250 G6', 'Notebook', '15.6', 'Full HD 1920x1080', 'Intel Core i5 7200U 2.5GHz', '8GB', '256GB SSD', 'Intel HD Graphics 620', 'No OS', '1.86kg', '575'], ['9722156', 'Apple', 'MacBook Pro', 'Ultrabook', '15.4', 'IPS Panel Retina Display 2880x1800', 'Intel Core i7 2.7GHz', '16GB', '512GB SSD', 'AMD Radeon Pro 455', 'macOS', '1.83kg', '2537'], ['8550527', 'Apple', 'MacBook Pro', 'Ultrabook', '13.3', 'IPS Panel Retina Display 2560x1600', 'Intel Core i5 3.1GHz', '8GB', '256GB SSD', 'Intel Iris Plus Graphics 650', 'macOS', '1.37kg', '1803']]\n"
          ]
        }
      ],
      "source": [
        "import csv\n",
        "\n",
        "with open('laptops.csv') as f:\n",
        "    data = csv.reader(f)\n",
        "    data = list(data)\n",
        "    header = data[0]\n",
        "    rows = data[1:]\n",
        "    \n",
        "print(header)\n",
        "print(rows[:5])"
      ]
    },
    {
      "cell_type": "markdown",
      "metadata": {
        "id": "cb5rKD_B2UbS"
      },
      "source": [
        "As we see our data has correct names of columns and values in rows are very different."
      ]
    },
    {
      "cell_type": "markdown",
      "metadata": {
        "id": "TLqjJzo-2UbT"
      },
      "source": [
        "## Goal of the project\n",
        "\n",
        "The goal of this guided project is to create a class that represents our inventory. The methods in that class will implement the queries that we want to answer about our inventory. We will also preprocess that data to make those queries run faster. \n",
        "\n",
        "Three queries that we will want to answer:\n",
        "\n",
        "1. Given a laptop id, find the corresponding data.\n",
        "2. Given an amount of money, find whether there are two laptops whose total price is that given amount.\n",
        "3. Identify all laptops whose price falls within a given budget."
      ]
    },
    {
      "cell_type": "markdown",
      "metadata": {
        "id": "dzWpSbOB2UbT"
      },
      "source": [
        "## Inventory Class"
      ]
    },
    {
      "cell_type": "code",
      "execution_count": null,
      "metadata": {
        "id": "URYcMVfN2UbT"
      },
      "outputs": [],
      "source": [
        "class Inventory():\n",
        "    \n",
        "    def __init__(self, csv_filename):\n",
        "        with open(csv_filename) as f: # opening file with data\n",
        "            data = csv.reader(f) # reading in the file\n",
        "            data = list(data)\n",
        "        self.header = data[0] # extracting row with headers\n",
        "        self.rows = data[1:] # extracting row with values\n",
        "        for row in self.rows:\n",
        "            row[-1] = int(row[-1]) # changing type of prices to integer"
      ]
    },
    {
      "cell_type": "code",
      "execution_count": null,
      "metadata": {
        "colab": {
          "base_uri": "https://localhost:8080/"
        },
        "id": "BXUxH7Rv2UbT",
        "outputId": "c7537f62-5933-4fb0-9781-e2865fe34bf2"
      },
      "outputs": [
        {
          "output_type": "stream",
          "name": "stdout",
          "text": [
            "['Id', 'Company', 'Product', 'TypeName', 'Inches', 'ScreenResolution', 'Cpu', 'Ram', 'Memory', 'Gpu', 'OpSys', 'Weight', 'Price']\n",
            "1303\n"
          ]
        }
      ],
      "source": [
        "inventory = Inventory('laptops.csv')\n",
        "print(inventory.header)\n",
        "print(len(inventory.rows))"
      ]
    },
    {
      "cell_type": "markdown",
      "metadata": {
        "id": "yyoAge102UbU"
      },
      "source": [
        "## Finding a Laptop From the Id"
      ]
    },
    {
      "cell_type": "code",
      "execution_count": null,
      "metadata": {
        "id": "yBDB7Ozy2UbU"
      },
      "outputs": [],
      "source": [
        "class Inventory():\n",
        "    import csv\n",
        "    \n",
        "    def __init__(self, csv_filename):\n",
        "        with open(csv_filename) as f:\n",
        "            data = csv.reader(f)\n",
        "            data = list(data)\n",
        "        self.header = data[0]\n",
        "        self.rows = data[1:]\n",
        "        for row in self.rows:\n",
        "            row[-1] = int(row[-1])  \n",
        "            \n",
        "    def get_laptop_from_id(self, laptop_id):\n",
        "        for row in self.rows: # iterating over all rows \n",
        "            if row[0] == laptop_id: # finding correct laptop id\n",
        "                return row\n",
        "            else:\n",
        "                None"
      ]
    },
    {
      "cell_type": "code",
      "execution_count": null,
      "metadata": {
        "colab": {
          "base_uri": "https://localhost:8080/"
        },
        "id": "bPgx_YkA2UbU",
        "outputId": "98a3a26d-ef8e-4931-ada3-59ffd295994c"
      },
      "outputs": [
        {
          "output_type": "stream",
          "name": "stdout",
          "text": [
            "['3362737', 'HP', '250 G6', 'Notebook', '15.6', 'Full HD 1920x1080', 'Intel Core i5 7200U 2.5GHz', '8GB', '256GB SSD', 'Intel HD Graphics 620', 'No OS', '1.86kg', 575]\n",
            "None\n"
          ]
        }
      ],
      "source": [
        "inventory = Inventory('laptops.csv')\n",
        "print(inventory.get_laptop_from_id('3362737'))\n",
        "print(inventory.get_laptop_from_id('3362736'))"
      ]
    },
    {
      "cell_type": "markdown",
      "metadata": {
        "id": "px7KYTT22UbU"
      },
      "source": [
        "Everything is good but we can improve our function to search laptops' ID. This algorithm has time complexity O(R) where R is the number of rows. If we create a dictionary with ID as a keys, we can easily do it much faster."
      ]
    },
    {
      "cell_type": "code",
      "execution_count": null,
      "metadata": {
        "id": "gmNvFBfN2UbU"
      },
      "outputs": [],
      "source": [
        "class Inventory():\n",
        "    import csv\n",
        "    \n",
        "    def __init__(self, csv_filename):\n",
        "        with open(csv_filename) as f:\n",
        "            data = csv.reader(f)\n",
        "            data = list(data)\n",
        "        self.header = data[0]\n",
        "        self.rows = data[1:]\n",
        "        self.id_to_row = {} #empty dict\n",
        "        for row in self.rows:\n",
        "            row[-1] = int(row[-1])\n",
        "            # creating elements of dict with ID as key\n",
        "            self.id_to_row[row[0]] = row\n",
        "            \n",
        "    def get_laptop_from_id(self, laptop_id):\n",
        "        for row in self.rows:\n",
        "            if row[0] == laptop_id:\n",
        "                return row\n",
        "            else:\n",
        "                None\n",
        "                \n",
        "    def get_laptop_from_id_fast(self, laptop_id):\n",
        "        if laptop_id in self.id_to_row: # checking if the ID is in the dict \n",
        "            return self.id_to_row[laptop_id]\n",
        "        else:\n",
        "            return None"
      ]
    },
    {
      "cell_type": "code",
      "execution_count": null,
      "metadata": {
        "colab": {
          "base_uri": "https://localhost:8080/"
        },
        "id": "FOc-xSE02UbV",
        "outputId": "587fcf5d-4cb0-4e85-de52-33ae2e54f60f"
      },
      "outputs": [
        {
          "output_type": "stream",
          "name": "stdout",
          "text": [
            "['3362737', 'HP', '250 G6', 'Notebook', '15.6', 'Full HD 1920x1080', 'Intel Core i5 7200U 2.5GHz', '8GB', '256GB SSD', 'Intel HD Graphics 620', 'No OS', '1.86kg', 575]\n",
            "None\n"
          ]
        }
      ],
      "source": [
        "inventory = Inventory('laptops.csv')\n",
        "print(inventory.get_laptop_from_id_fast('3362737'))\n",
        "print(inventory.get_laptop_from_id_fast('3362736'))"
      ]
    },
    {
      "cell_type": "markdown",
      "metadata": {
        "id": "RR1-Aaxh2UbV"
      },
      "source": [
        "Now, we are going to compare the performance of this two function:\n",
        "1. get_laptop_from_id()\n",
        "2. get_laptop_from_id_fast()\n",
        "\n",
        "We check time spent performing the function."
      ]
    },
    {
      "cell_type": "code",
      "execution_count": null,
      "metadata": {
        "colab": {
          "base_uri": "https://localhost:8080/"
        },
        "id": "-keaBKxf2UbV",
        "outputId": "4ea9fe1c-972e-47cb-eac9-577540bbb4ee"
      },
      "outputs": [
        {
          "output_type": "stream",
          "name": "stdout",
          "text": [
            "0.7420978546142578\n",
            "0.0036907196044921875\n"
          ]
        }
      ],
      "source": [
        "import time\n",
        "import random\n",
        "\n",
        "ids = [str(random.randint(1000000, 9999999)) for _ in range(10000)]\n",
        "inventory = Inventory('laptops.csv')\n",
        "\n",
        "# Times for function with for loop\n",
        "total_time_no_dict = 0\n",
        "for id1 in ids:\n",
        "    start = time.time()\n",
        "    inventory.get_laptop_from_id(id1)\n",
        "    end = time.time()\n",
        "    total_time_no_dict += end-start\n",
        "    \n",
        "# Times for function with dictionary\n",
        "total_time_dict = 0\n",
        "for id1 in ids:\n",
        "    start = time.time()\n",
        "    inventory.get_laptop_from_id_fast(id1)\n",
        "    end = time.time()\n",
        "    total_time_dict += end-start\n",
        "    \n",
        "print(total_time_no_dict)\n",
        "print(total_time_dict)"
      ]
    },
    {
      "cell_type": "markdown",
      "metadata": {
        "id": "e5FFze1f2UbV"
      },
      "source": [
        "As we above the result are very different. The result was:\n",
        "\n",
        "* 0.7420978546142578\n",
        "* 0.0036907196044921875\n",
        "\n",
        "If we devide this two results we get that function with dictionary is approximetly 200 time faster."
      ]
    },
    {
      "cell_type": "markdown",
      "metadata": {
        "id": "B1X_BjH62UbW"
      },
      "source": [
        "## Two Laptop Promotion\n",
        "\n",
        "Our idea is a promotion where you give someone a giht card. This person can use it to buy up to two laptops. Thus in this part of projeckt we are going to write a function which will return a laptop which cost $N$ dollars or two laptops which price is approximetly queals $N$ dollars."
      ]
    },
    {
      "cell_type": "code",
      "execution_count": null,
      "metadata": {
        "id": "TGTqaqJn2UbW"
      },
      "outputs": [],
      "source": [
        "class Inventory():\n",
        "    \n",
        "    def __init__(self, csv_filename):\n",
        "        with open(csv_filename) as f:\n",
        "            data = csv.reader(f)\n",
        "            data = list(data)\n",
        "        self.header = data[0]\n",
        "        self.rows = data[1:]\n",
        "        self.id_to_row = {}\n",
        "        for row in self.rows:\n",
        "            row[-1] = int(row[-1])\n",
        "            self.id_to_row[row[0]] = row\n",
        "            \n",
        "    def get_laptop_from_id(self, laptop_id):\n",
        "        for row in self.rows:\n",
        "            if row[0] == laptop_id:\n",
        "                return row\n",
        "            else:\n",
        "                None\n",
        "                \n",
        "    def get_laptop_from_id_fast(self, laptop_id):\n",
        "        if laptop_id in self.id_to_row: \n",
        "            return self.id_to_row[laptop_id]\n",
        "        else:\n",
        "            return None\n",
        "    \n",
        "    def check_promotions_dollars(self, dollars):\n",
        "        # iterate over all rows and check if price == dollars\n",
        "        for row in self.rows:\n",
        "            if row[-1] == dollars:\n",
        "                return True\n",
        "        # if not iterate over rows 2 times and check if sum od 2 laptops == dollars\n",
        "        for row1 in self.rows:\n",
        "            for row2 in self.rows:\n",
        "                if row1[-1] + row2[-1] == dollars:\n",
        "                    return True\n",
        "        return False"
      ]
    },
    {
      "cell_type": "code",
      "execution_count": null,
      "metadata": {
        "colab": {
          "base_uri": "https://localhost:8080/"
        },
        "id": "cm0Zk7tx2UbW",
        "outputId": "8c64719b-c2ec-438c-f491-23a6241dde44"
      },
      "outputs": [
        {
          "output_type": "stream",
          "name": "stdout",
          "text": [
            "True\n",
            "False\n"
          ]
        }
      ],
      "source": [
        "inventory = Inventory('laptops.csv')\n",
        "print(inventory.check_promotions_dollars(1000))\n",
        "print(inventory.check_promotions_dollars(442))"
      ]
    },
    {
      "cell_type": "markdown",
      "metadata": {
        "id": "Da7MiiEN2UbW"
      },
      "source": [
        "As we see, we can buy two or one laptop for 1000\\\\$ but in our dataset we can't buy laptops for 442\\\\$. Our solution is good, but we can do it faster. Look, the function which we had written has $O(N^2)$ complexity and we have to iterate over all rows. We can do it faster when we use set to store the unique prices."
      ]
    },
    {
      "cell_type": "code",
      "execution_count": null,
      "metadata": {
        "id": "8L5WVMnd2UbW"
      },
      "outputs": [],
      "source": [
        "class Inventory():\n",
        "    \n",
        "    def __init__(self, csv_filename):\n",
        "        with open(csv_filename) as f:\n",
        "            data = csv.reader(f)\n",
        "            data = list(data)\n",
        "        self.header = data[0]\n",
        "        self.rows = data[1:]\n",
        "        self.id_to_row = {}\n",
        "        self.prices = set() #set to store prices\n",
        "        for row in self.rows:\n",
        "            row[-1] = int(row[-1])\n",
        "            self.id_to_row[row[0]] = row\n",
        "            self.prices.add(row[-1]) #adding price to set\n",
        "            \n",
        "    def get_laptop_from_id(self, laptop_id):\n",
        "        for row in self.rows:\n",
        "            if row[0] == laptop_id:\n",
        "                return row\n",
        "            else:\n",
        "                None\n",
        "                \n",
        "    def get_laptop_from_id_fast(self, laptop_id):\n",
        "        if laptop_id in self.id_to_row: \n",
        "            return self.id_to_row[laptop_id]\n",
        "        else:\n",
        "            return None\n",
        "    \n",
        "    def check_promotions_dollars(self, dollars):\n",
        "        for row in self.rows:\n",
        "            if row[-1] == dollars:\n",
        "                return True\n",
        "        for row1 in self.rows:\n",
        "            for row2 in self.rows:\n",
        "                if row1[-1] + row2[-1] == dollars:\n",
        "                    return True\n",
        "        return False\n",
        "    \n",
        "    def check_promotions_dollars_fast(self, dollars):\n",
        "        if dollars in self.prices: #checking if dollars is in set\n",
        "            return True\n",
        "        for price in self.prices: # iterate over prices\n",
        "            # if devide dollar and price in set return True\n",
        "            if dollars - price in self.prices:\n",
        "                return True\n",
        "        return False"
      ]
    },
    {
      "cell_type": "code",
      "execution_count": null,
      "metadata": {
        "colab": {
          "base_uri": "https://localhost:8080/"
        },
        "id": "cmI5jBDq2UbX",
        "outputId": "998bb752-d517-483c-e6ca-2e92bdd75639"
      },
      "outputs": [
        {
          "output_type": "stream",
          "name": "stdout",
          "text": [
            "True\n",
            "False\n"
          ]
        }
      ],
      "source": [
        "inventory = Inventory('laptops.csv')\n",
        "print(inventory.check_promotions_dollars_fast(1000))\n",
        "print(inventory.check_promotions_dollars_fast(442))"
      ]
    },
    {
      "cell_type": "markdown",
      "metadata": {
        "id": "-L9eIDXe2UbX"
      },
      "source": [
        "We couldn't see the difference between our two function with our eye but when we check times for them when we upload there a list of prices we will see this difference."
      ]
    },
    {
      "cell_type": "code",
      "execution_count": null,
      "metadata": {
        "colab": {
          "base_uri": "https://localhost:8080/"
        },
        "id": "84lMIkba2UbX",
        "outputId": "f7636790-e9df-4476-a9a8-c52c600e43b8"
      },
      "outputs": [
        {
          "output_type": "stream",
          "name": "stdout",
          "text": [
            "0.7379612922668457\n",
            "0.0004177093505859375\n"
          ]
        }
      ],
      "source": [
        "import random\n",
        "import time\n",
        "\n",
        "prices = [random.randint(100, 5000) for _ in range(100)]\n",
        "\n",
        "time_no_set = 0\n",
        "for price in prices:\n",
        "    start = time.time()\n",
        "    inventory.check_promotions_dollars(price)\n",
        "    stop = time.time()\n",
        "    time_no_set += stop - start\n",
        "    \n",
        "print(time_no_set)\n",
        "\n",
        "time_with_set = 0\n",
        "for price in prices:\n",
        "    start = time.time()\n",
        "    inventory.check_promotions_dollars_fast(price)\n",
        "    stop = time.time()\n",
        "    time_with_set += stop - start\n",
        "    \n",
        "print(time_with_set)"
      ]
    },
    {
      "cell_type": "markdown",
      "metadata": {
        "id": "Y3mfO-vo2UbX"
      },
      "source": [
        "The results are obvious, second function is much faster as we expected. When we devide this two times, we can say that function with set is approximetly 1844.75 times faster."
      ]
    },
    {
      "cell_type": "markdown",
      "metadata": {
        "id": "XcfTXxwg2UbX"
      },
      "source": [
        "## Finding Laptops Within a Budget\n",
        "\n",
        "Our last goal is to help a customer find all laptops that are in their budget. It means, that customer give us a budget of $N$ dollars and we find all laptops which can be buy by customer. Our function return index of first laptop which is higher then budget. Otherwise function return $-1$ if the is no laptop which price is higher than budget."
      ]
    },
    {
      "cell_type": "code",
      "execution_count": null,
      "metadata": {
        "id": "h1oC7t7_2UbX"
      },
      "outputs": [],
      "source": [
        "def price_row(row):\n",
        "    return row[-1]\n",
        "\n",
        "class Inventory():\n",
        "    \n",
        "    def __init__(self, csv_filename):\n",
        "        with open(csv_filename) as f:\n",
        "            data = csv.reader(f)\n",
        "            data = list(data)\n",
        "        self.header = data[0]\n",
        "        self.rows = data[1:]\n",
        "        self.id_to_row = {}\n",
        "        self.prices = set()\n",
        "        for row in self.rows:\n",
        "            row[-1] = int(row[-1])\n",
        "            self.id_to_row[row[0]] = row\n",
        "            self.prices.add(row[-1])\n",
        "        # sorting rows by price\n",
        "        self.rows_by_price = sorted(self.rows, key = price_row)\n",
        "            \n",
        "    def get_laptop_from_id(self, laptop_id):\n",
        "        for row in self.rows:\n",
        "            if row[0] == laptop_id:\n",
        "                return row\n",
        "            else:\n",
        "                None\n",
        "                \n",
        "    def get_laptop_from_id_fast(self, laptop_id):\n",
        "        if laptop_id in self.id_to_row: \n",
        "            return self.id_to_row[laptop_id]\n",
        "        else:\n",
        "            return None\n",
        "    \n",
        "    def check_promotions_dollars(self, dollars):\n",
        "        for row in self.rows:\n",
        "            if row[-1] == dollars:\n",
        "                return True\n",
        "        for row1 in self.rows:\n",
        "            for row2 in self.rows:\n",
        "                if row1[-1] + row2[-1] == dollars:\n",
        "                    return True\n",
        "        return False\n",
        "    \n",
        "    def check_promotions_dollars_fast(self, dollars):\n",
        "        if dollars in self.prices:\n",
        "            return True\n",
        "        for price in self.prices:\n",
        "            if dollars - price in self.prices:\n",
        "                return True\n",
        "        return False\n",
        "    \n",
        "    def find_first_laptop_more_expensive(self, target_price):\n",
        "        range_start = 0                                   \n",
        "        range_end = len(self.rows_by_price) - 1                   \n",
        "        while range_start < range_end:\n",
        "            range_middle = (range_end + range_start) // 2  \n",
        "            price = self.rows_by_price[range_middle][-1]\n",
        "            if price > target_price:\n",
        "                range_end = range_middle\n",
        "            else:\n",
        "                range_start = range_middle + 1\n",
        "        if self.rows_by_price[range_start][-1] <= target_price:                  \n",
        "            return -1                                   \n",
        "        return range_start"
      ]
    },
    {
      "cell_type": "code",
      "execution_count": null,
      "metadata": {
        "colab": {
          "base_uri": "https://localhost:8080/"
        },
        "id": "F7aGJyuh2UbY",
        "outputId": "c3b84974-447d-4ee3-a361-722023bcbb9e"
      },
      "outputs": [
        {
          "output_type": "stream",
          "name": "stdout",
          "text": [
            "683\n",
            "-1\n"
          ]
        }
      ],
      "source": [
        "inventory = Inventory('laptops.csv')\n",
        "print(inventory.find_first_laptop_more_expensive(1000))\n",
        "print(inventory.find_first_laptop_more_expensive(10000))"
      ]
    },
    {
      "cell_type": "markdown",
      "metadata": {
        "id": "CDk6cAkB2UbY"
      },
      "source": [
        "At the end of the projeckt I want to add, that preprocesing function is very important in working with data. It can improve  "
      ]
    }
  ],
  "metadata": {
    "kernelspec": {
      "display_name": "Python 3",
      "language": "python",
      "name": "python3"
    },
    "language_info": {
      "codemirror_mode": {
        "name": "ipython",
        "version": 3
      },
      "file_extension": ".py",
      "mimetype": "text/x-python",
      "name": "python",
      "nbconvert_exporter": "python",
      "pygments_lexer": "ipython3",
      "version": "3.8.2"
    },
    "colab": {
      "provenance": [],
      "include_colab_link": true
    }
  },
  "nbformat": 4,
  "nbformat_minor": 0
}